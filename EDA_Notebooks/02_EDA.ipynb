{
 "cells": [
  {
   "cell_type": "markdown",
   "metadata": {},
   "source": [
    "### Grammy "
   ]
  },
  {
   "cell_type": "markdown",
   "metadata": {},
   "source": [
    "Import the libreries and modules"
   ]
  },
  {
   "cell_type": "code",
   "execution_count": 1,
   "metadata": {},
   "outputs": [],
   "source": [
    "import os\n",
    "import re\n",
    "import pandas as pd\n",
    "import psycopg2\n",
    "import matplotlib.pyplot as plt\n",
    "from sqlalchemy import create_engine\n",
    "from dotenv import load_dotenv"
   ]
  },
  {
   "cell_type": "markdown",
   "metadata": {},
   "source": [
    "###  DB connection "
   ]
  },
  {
   "cell_type": "markdown",
   "metadata": {},
   "source": [
    "To access the dataset stored in a PostgreSQL database, we first need to establish a connection. We are going to read the data from the table named \"grammy\" in the PostgreSQL database."
   ]
  },
  {
   "cell_type": "code",
   "execution_count": 2,
   "metadata": {},
   "outputs": [
    {
     "name": "stdout",
     "output_type": "stream",
     "text": [
      "Table data read correctly in a Pandas DataFrame\n",
      "Closed SQLAlchemy engine connection\n"
     ]
    }
   ],
   "source": [
    "load_dotenv()\n",
    "\n",
    "try:\n",
    "    db_uri = f\"postgresql+psycopg2://{os.getenv('DB_USER')}:{os.getenv('DB_PASSWORD')}@{os.getenv('DB_HOST')}:{os.getenv('DB_PORT')}/{os.getenv('DB_NAME')}\"\n",
    "\n",
    "    engine = create_engine(db_uri)\n",
    "    query = \"SELECT * FROM public.grammy;\"\n",
    "\n",
    "    df = pd.read_sql_query(query, engine)\n",
    "    print(\"Table data read correctly in a Pandas DataFrame\")\n",
    "\n",
    "except Exception as e:\n",
    "    print(\"Error reading data from table:\", e)\n",
    "\n",
    "finally:\n",
    "    \n",
    "    if engine is not None:\n",
    "        engine.dispose()\n",
    "        print(\"Closed SQLAlchemy engine connection\")"
   ]
  },
  {
   "cell_type": "markdown",
   "metadata": {},
   "source": [
    "### Analysis of the dataset "
   ]
  },
  {
   "cell_type": "markdown",
   "metadata": {},
   "source": [
    "Once we have read the data from the \"grammy\" table into a DataFrame (df), we can get an overview of the data by using functions like head() to display the first few rows of the DataFrame"
   ]
  },
  {
   "cell_type": "code",
   "execution_count": 3,
   "metadata": {},
   "outputs": [
    {
     "data": {
      "text/html": [
       "<div>\n",
       "<style scoped>\n",
       "    .dataframe tbody tr th:only-of-type {\n",
       "        vertical-align: middle;\n",
       "    }\n",
       "\n",
       "    .dataframe tbody tr th {\n",
       "        vertical-align: top;\n",
       "    }\n",
       "\n",
       "    .dataframe thead th {\n",
       "        text-align: right;\n",
       "    }\n",
       "</style>\n",
       "<table border=\"1\" class=\"dataframe\">\n",
       "  <thead>\n",
       "    <tr style=\"text-align: right;\">\n",
       "      <th></th>\n",
       "      <th>year</th>\n",
       "      <th>title</th>\n",
       "      <th>published_at</th>\n",
       "      <th>updated_at</th>\n",
       "      <th>category</th>\n",
       "      <th>nominee</th>\n",
       "      <th>artist</th>\n",
       "      <th>workers</th>\n",
       "      <th>img</th>\n",
       "      <th>winner</th>\n",
       "    </tr>\n",
       "  </thead>\n",
       "  <tbody>\n",
       "    <tr>\n",
       "      <th>0</th>\n",
       "      <td>2019</td>\n",
       "      <td>62nd Annual GRAMMY Awards  (2019)</td>\n",
       "      <td>2020-05-19T05:10:28-07:00</td>\n",
       "      <td>2020-05-19T05:10:28-07:00</td>\n",
       "      <td>Record Of The Year</td>\n",
       "      <td>Bad Guy</td>\n",
       "      <td>Billie Eilish</td>\n",
       "      <td>Finneas O'Connell, producer; Rob Kinelski &amp; Fi...</td>\n",
       "      <td>https://www.grammy.com/sites/com/files/styles/...</td>\n",
       "      <td>True</td>\n",
       "    </tr>\n",
       "    <tr>\n",
       "      <th>1</th>\n",
       "      <td>2019</td>\n",
       "      <td>62nd Annual GRAMMY Awards  (2019)</td>\n",
       "      <td>2020-05-19T05:10:28-07:00</td>\n",
       "      <td>2020-05-19T05:10:28-07:00</td>\n",
       "      <td>Record Of The Year</td>\n",
       "      <td>Hey, Ma</td>\n",
       "      <td>Bon Iver</td>\n",
       "      <td>BJ Burton, Brad Cook, Chris Messina &amp; Justin V...</td>\n",
       "      <td>https://www.grammy.com/sites/com/files/styles/...</td>\n",
       "      <td>True</td>\n",
       "    </tr>\n",
       "    <tr>\n",
       "      <th>2</th>\n",
       "      <td>2019</td>\n",
       "      <td>62nd Annual GRAMMY Awards  (2019)</td>\n",
       "      <td>2020-05-19T05:10:28-07:00</td>\n",
       "      <td>2020-05-19T05:10:28-07:00</td>\n",
       "      <td>Record Of The Year</td>\n",
       "      <td>7 rings</td>\n",
       "      <td>Ariana Grande</td>\n",
       "      <td>Charles Anderson, Tommy Brown, Michael Foster ...</td>\n",
       "      <td>https://www.grammy.com/sites/com/files/styles/...</td>\n",
       "      <td>True</td>\n",
       "    </tr>\n",
       "    <tr>\n",
       "      <th>3</th>\n",
       "      <td>2019</td>\n",
       "      <td>62nd Annual GRAMMY Awards  (2019)</td>\n",
       "      <td>2020-05-19T05:10:28-07:00</td>\n",
       "      <td>2020-05-19T05:10:28-07:00</td>\n",
       "      <td>Record Of The Year</td>\n",
       "      <td>Hard Place</td>\n",
       "      <td>H.E.R.</td>\n",
       "      <td>Rodney “Darkchild” Jerkins, producer; Joseph H...</td>\n",
       "      <td>https://www.grammy.com/sites/com/files/styles/...</td>\n",
       "      <td>True</td>\n",
       "    </tr>\n",
       "    <tr>\n",
       "      <th>4</th>\n",
       "      <td>2019</td>\n",
       "      <td>62nd Annual GRAMMY Awards  (2019)</td>\n",
       "      <td>2020-05-19T05:10:28-07:00</td>\n",
       "      <td>2020-05-19T05:10:28-07:00</td>\n",
       "      <td>Record Of The Year</td>\n",
       "      <td>Talk</td>\n",
       "      <td>Khalid</td>\n",
       "      <td>Disclosure &amp; Denis Kosiak, producers; Ingmar C...</td>\n",
       "      <td>https://www.grammy.com/sites/com/files/styles/...</td>\n",
       "      <td>True</td>\n",
       "    </tr>\n",
       "  </tbody>\n",
       "</table>\n",
       "</div>"
      ],
      "text/plain": [
       "   year                              title               published_at  \\\n",
       "0  2019  62nd Annual GRAMMY Awards  (2019)  2020-05-19T05:10:28-07:00   \n",
       "1  2019  62nd Annual GRAMMY Awards  (2019)  2020-05-19T05:10:28-07:00   \n",
       "2  2019  62nd Annual GRAMMY Awards  (2019)  2020-05-19T05:10:28-07:00   \n",
       "3  2019  62nd Annual GRAMMY Awards  (2019)  2020-05-19T05:10:28-07:00   \n",
       "4  2019  62nd Annual GRAMMY Awards  (2019)  2020-05-19T05:10:28-07:00   \n",
       "\n",
       "                  updated_at            category     nominee         artist  \\\n",
       "0  2020-05-19T05:10:28-07:00  Record Of The Year     Bad Guy  Billie Eilish   \n",
       "1  2020-05-19T05:10:28-07:00  Record Of The Year     Hey, Ma       Bon Iver   \n",
       "2  2020-05-19T05:10:28-07:00  Record Of The Year     7 rings  Ariana Grande   \n",
       "3  2020-05-19T05:10:28-07:00  Record Of The Year  Hard Place         H.E.R.   \n",
       "4  2020-05-19T05:10:28-07:00  Record Of The Year        Talk         Khalid   \n",
       "\n",
       "                                             workers  \\\n",
       "0  Finneas O'Connell, producer; Rob Kinelski & Fi...   \n",
       "1  BJ Burton, Brad Cook, Chris Messina & Justin V...   \n",
       "2  Charles Anderson, Tommy Brown, Michael Foster ...   \n",
       "3  Rodney “Darkchild” Jerkins, producer; Joseph H...   \n",
       "4  Disclosure & Denis Kosiak, producers; Ingmar C...   \n",
       "\n",
       "                                                 img  winner  \n",
       "0  https://www.grammy.com/sites/com/files/styles/...    True  \n",
       "1  https://www.grammy.com/sites/com/files/styles/...    True  \n",
       "2  https://www.grammy.com/sites/com/files/styles/...    True  \n",
       "3  https://www.grammy.com/sites/com/files/styles/...    True  \n",
       "4  https://www.grammy.com/sites/com/files/styles/...    True  "
      ]
     },
     "execution_count": 3,
     "metadata": {},
     "output_type": "execute_result"
    }
   ],
   "source": [
    "df.head()"
   ]
  },
  {
   "cell_type": "markdown",
   "metadata": {},
   "source": [
    "We use this method to get a quick overview of the structure and types of data in our DataFrame. This allows us to identify potential problems such as missing values or inconsistencies in data types, which is crucial for making informed decisions about data cleaning and transformation, ensuring the reliability of our downstream analysis."
   ]
  },
  {
   "cell_type": "code",
   "execution_count": 4,
   "metadata": {},
   "outputs": [
    {
     "name": "stdout",
     "output_type": "stream",
     "text": [
      "<class 'pandas.core.frame.DataFrame'>\n",
      "RangeIndex: 4810 entries, 0 to 4809\n",
      "Data columns (total 10 columns):\n",
      " #   Column        Non-Null Count  Dtype \n",
      "---  ------        --------------  ----- \n",
      " 0   year          4810 non-null   int64 \n",
      " 1   title         4810 non-null   object\n",
      " 2   published_at  4810 non-null   object\n",
      " 3   updated_at    4810 non-null   object\n",
      " 4   category      4810 non-null   object\n",
      " 5   nominee       4804 non-null   object\n",
      " 6   artist        2970 non-null   object\n",
      " 7   workers       2620 non-null   object\n",
      " 8   img           3443 non-null   object\n",
      " 9   winner        4810 non-null   bool  \n",
      "dtypes: bool(1), int64(1), object(8)\n",
      "memory usage: 343.0+ KB\n"
     ]
    }
   ],
   "source": [
    "df.info()"
   ]
  },
  {
   "cell_type": "markdown",
   "metadata": {},
   "source": [
    "We have a dataset consisting of 4810 records and 10 columns."
   ]
  },
  {
   "cell_type": "code",
   "execution_count": 5,
   "metadata": {},
   "outputs": [
    {
     "data": {
      "text/plain": [
       "(4810, 10)"
      ]
     },
     "execution_count": 5,
     "metadata": {},
     "output_type": "execute_result"
    }
   ],
   "source": [
    "df.shape"
   ]
  },
  {
   "cell_type": "code",
   "execution_count": 6,
   "metadata": {},
   "outputs": [
    {
     "data": {
      "text/plain": [
       "Index(['year', 'title', 'published_at', 'updated_at', 'category', 'nominee',\n",
       "       'artist', 'workers', 'img', 'winner'],\n",
       "      dtype='object')"
      ]
     },
     "execution_count": 6,
     "metadata": {},
     "output_type": "execute_result"
    }
   ],
   "source": [
    "df.columns"
   ]
  },
  {
   "cell_type": "markdown",
   "metadata": {},
   "source": [
    "Column descriptions:\n",
    "\n",
    "- **year**: Year associated with the record.\n",
    "  \n",
    "- **title**: Title of the record.\n",
    "\n",
    "- **published_at**: Date and time of publication of the record.\n",
    "\n",
    "- **updated_at**: Date and time of the last update of the record.\n",
    "\n",
    "- **category**: Category to which the record belongs.\n",
    "\n",
    "- **nominee**: Name of the nominee associated with the record.\n",
    "\n",
    "- **artist**: Name of the artist associated with the record.\n",
    "\n",
    "- **workers**: List of workers associated with the record.\n",
    "\n",
    "- **image**: URL or path of the image associated with the record.\n",
    "\n",
    "- **winner**: Boolean indicator representing whether the record is a winner (True) or not (False).\n"
   ]
  },
  {
   "cell_type": "markdown",
   "metadata": {},
   "source": [
    "### Check null values"
   ]
  },
  {
   "cell_type": "markdown",
   "metadata": {},
   "source": [
    "The \"grammy\" dataset shows the following in terms of null values:\n",
    "\n",
    "- Most entries have a nominee, with only 6 missing values.\n",
    "\n",
    "- A significant number of null values in the artist (1840 values) and workers (2190 values) columns, indicating that information about artists and people involved may be incomplete in many records.\n",
    "\n",
    "- A considerable number of entries do not have an associated image (img), with 1367 null values in this column.\n",
    "\n",
    "These missing data may impact the analysis and should be properly addressed during processing and interpretation of the results."
   ]
  },
  {
   "cell_type": "code",
   "execution_count": 7,
   "metadata": {},
   "outputs": [
    {
     "data": {
      "text/plain": [
       "year               0\n",
       "title              0\n",
       "published_at       0\n",
       "updated_at         0\n",
       "category           0\n",
       "nominee            6\n",
       "artist          1840\n",
       "workers         2190\n",
       "img             1367\n",
       "winner             0\n",
       "dtype: int64"
      ]
     },
     "execution_count": 7,
     "metadata": {},
     "output_type": "execute_result"
    }
   ],
   "source": [
    "df.isnull().sum()"
   ]
  },
  {
   "cell_type": "markdown",
   "metadata": {},
   "source": [
    "These unique values provide insight into the diversity and breadth of the data set in terms of years, titles, categories, nominees, artists and other attributes related to the Grammy Awards."
   ]
  },
  {
   "cell_type": "code",
   "execution_count": 8,
   "metadata": {},
   "outputs": [
    {
     "data": {
      "text/plain": [
       "year              62\n",
       "title             62\n",
       "published_at       4\n",
       "updated_at        10\n",
       "category         638\n",
       "nominee         4131\n",
       "artist          1658\n",
       "workers         2366\n",
       "img             1463\n",
       "winner             1\n",
       "dtype: int64"
      ]
     },
     "execution_count": 8,
     "metadata": {},
     "output_type": "execute_result"
    }
   ],
   "source": [
    "df.nunique()"
   ]
  },
  {
   "cell_type": "markdown",
   "metadata": {},
   "source": [
    "### Artist"
   ]
  },
  {
   "cell_type": "markdown",
   "metadata": {},
   "source": [
    "We begin the analysis by focusing on the \"artists\" column."
   ]
  },
  {
   "cell_type": "code",
   "execution_count": 9,
   "metadata": {},
   "outputs": [
    {
     "data": {
      "text/plain": [
       "array(['Billie Eilish', 'Bon Iver', 'Ariana Grande', ..., 'The Champs',\n",
       "       'Stan Freberg',\n",
       "       'David Seville And The Chipmunks (Ross Bagdasarian, Sr.)'],\n",
       "      dtype=object)"
      ]
     },
     "execution_count": 9,
     "metadata": {},
     "output_type": "execute_result"
    }
   ],
   "source": [
    "df[\"artist\"].unique()"
   ]
  },
  {
   "cell_type": "markdown",
   "metadata": {},
   "source": [
    "We note that the information in the \"workers\" column could be useful to fill in the null values in other fields."
   ]
  },
  {
   "cell_type": "code",
   "execution_count": 10,
   "metadata": {},
   "outputs": [
    {
     "data": {
      "text/plain": [
       "array([\"Finneas O'Connell, producer; Rob Kinelski & Finneas O'Connell, engineers/mixers; John Greenham, mastering engineer\",\n",
       "       'BJ Burton, Brad Cook, Chris Messina & Justin Vernon, producers; BJ Burton, Zach Hanson & Chris Messina, engineers/mixers; Greg Calbi, mastering engineer',\n",
       "       'Charles Anderson, Tommy Brown, Michael Foster & Victoria Monet, producers; Serban Ghenea, John Hanes, Billy Hickey & Brendan Morawski, engineers/mixers; Randy Merrill, mastering engineer',\n",
       "       ..., 'Andres Segovia, artist',\n",
       "       'Hollywood String Quartet (Alvin Dinkin, Paul Shure, Eleanor Aller Slatkin & Felix Slatkin), artists',\n",
       "       'Roger Wagner, choir director'], dtype=object)"
      ]
     },
     "execution_count": 10,
     "metadata": {},
     "output_type": "execute_result"
    }
   ],
   "source": [
    "df['workers'].unique()"
   ]
  },
  {
   "cell_type": "markdown",
   "metadata": {},
   "source": [
    "We note that the null values in the \"artist\" column can be completed using the information contained in the \"workers\" column, where we find additional details about the artists within parentheses."
   ]
  },
  {
   "cell_type": "code",
   "execution_count": 11,
   "metadata": {},
   "outputs": [
    {
     "data": {
      "text/html": [
       "<div>\n",
       "<style scoped>\n",
       "    .dataframe tbody tr th:only-of-type {\n",
       "        vertical-align: middle;\n",
       "    }\n",
       "\n",
       "    .dataframe tbody tr th {\n",
       "        vertical-align: top;\n",
       "    }\n",
       "\n",
       "    .dataframe thead th {\n",
       "        text-align: right;\n",
       "    }\n",
       "</style>\n",
       "<table border=\"1\" class=\"dataframe\">\n",
       "  <thead>\n",
       "    <tr style=\"text-align: right;\">\n",
       "      <th></th>\n",
       "      <th>artist</th>\n",
       "      <th>workers</th>\n",
       "    </tr>\n",
       "  </thead>\n",
       "  <tbody>\n",
       "    <tr>\n",
       "      <th>16</th>\n",
       "      <td>None</td>\n",
       "      <td>Billie Eilish O'Connell &amp; Finneas O'Connell, s...</td>\n",
       "    </tr>\n",
       "    <tr>\n",
       "      <th>17</th>\n",
       "      <td>None</td>\n",
       "      <td>Natalie Hemby, Lady Gaga, Hillary Lindsey &amp; Lo...</td>\n",
       "    </tr>\n",
       "    <tr>\n",
       "      <th>18</th>\n",
       "      <td>None</td>\n",
       "      <td>Brandi Carlile, Phil Hanseroth, Tim Hanseroth ...</td>\n",
       "    </tr>\n",
       "    <tr>\n",
       "      <th>19</th>\n",
       "      <td>None</td>\n",
       "      <td>Ruby Amanfu, Sam Ashworth, D. Arcelious Harris...</td>\n",
       "    </tr>\n",
       "    <tr>\n",
       "      <th>20</th>\n",
       "      <td>None</td>\n",
       "      <td>Taylor Swift, songwriter (Taylor Swift)</td>\n",
       "    </tr>\n",
       "  </tbody>\n",
       "</table>\n",
       "</div>"
      ],
      "text/plain": [
       "   artist                                            workers\n",
       "16   None  Billie Eilish O'Connell & Finneas O'Connell, s...\n",
       "17   None  Natalie Hemby, Lady Gaga, Hillary Lindsey & Lo...\n",
       "18   None  Brandi Carlile, Phil Hanseroth, Tim Hanseroth ...\n",
       "19   None  Ruby Amanfu, Sam Ashworth, D. Arcelious Harris...\n",
       "20   None            Taylor Swift, songwriter (Taylor Swift)"
      ]
     },
     "execution_count": 11,
     "metadata": {},
     "output_type": "execute_result"
    }
   ],
   "source": [
    "df.loc[df['artist'].isnull() & ~df['workers'].isnull(), ['artist', 'workers']].head()"
   ]
  },
  {
   "cell_type": "markdown",
   "metadata": {},
   "source": [
    "### Transformation of content between workers' brackets "
   ]
  },
  {
   "cell_type": "markdown",
   "metadata": {},
   "source": [
    "We perform a transformation where the information in parentheses in the \"workers\" column is used to replace the null values in the \"artists\" column."
   ]
  },
  {
   "cell_type": "code",
   "execution_count": 12,
   "metadata": {},
   "outputs": [],
   "source": [
    "pattern = r'\\(([^)]+)\\)'\n",
    "\n",
    "content_within_parentheses = df['workers'].str.extract(pattern)\n",
    "\n",
    "df['artist'] = df['artist'].fillna(content_within_parentheses[0])"
   ]
  },
  {
   "cell_type": "markdown",
   "metadata": {},
   "source": [
    "We checked how the number of null values in the \"artist\" column was reduced after performing the transformation."
   ]
  },
  {
   "cell_type": "code",
   "execution_count": 13,
   "metadata": {},
   "outputs": [
    {
     "data": {
      "text/plain": [
       "year               0\n",
       "title              0\n",
       "published_at       0\n",
       "updated_at         0\n",
       "category           0\n",
       "nominee            6\n",
       "artist           474\n",
       "workers         2190\n",
       "img             1367\n",
       "winner             0\n",
       "dtype: int64"
      ]
     },
     "execution_count": 13,
     "metadata": {},
     "output_type": "execute_result"
    }
   ],
   "source": [
    "df.isnull().sum()"
   ]
  },
  {
   "cell_type": "markdown",
   "metadata": {},
   "source": [
    "### Transformation of artist - workers "
   ]
  },
  {
   "cell_type": "markdown",
   "metadata": {},
   "source": [
    "We note that the information contained in the \"workers\" column can be used to replace null values in the \"artist\" column, and vice versa, to improve data integrity."
   ]
  },
  {
   "cell_type": "code",
   "execution_count": 14,
   "metadata": {},
   "outputs": [],
   "source": [
    "filled_artist = df['artist'].fillna(df['workers'])\n",
    "filled_workers = df['workers'].fillna(df['artist'])\n",
    "\n",
    "df['artist'] = filled_artist\n",
    "df['workers'] = filled_workers"
   ]
  },
  {
   "cell_type": "markdown",
   "metadata": {},
   "source": [
    "We verify that the number of null values in both the \"workers\" column and the \"artist\" column has decreased after performing the transformation."
   ]
  },
  {
   "cell_type": "code",
   "execution_count": 15,
   "metadata": {},
   "outputs": [
    {
     "data": {
      "text/plain": [
       "year               0\n",
       "title              0\n",
       "published_at       0\n",
       "updated_at         0\n",
       "category           0\n",
       "nominee            6\n",
       "artist           186\n",
       "workers          186\n",
       "img             1367\n",
       "winner             0\n",
       "dtype: int64"
      ]
     },
     "execution_count": 15,
     "metadata": {},
     "output_type": "execute_result"
    }
   ],
   "source": [
    "df.isnull().sum()"
   ]
  },
  {
   "cell_type": "markdown",
   "metadata": {},
   "source": [
    "### Category "
   ]
  },
  {
   "cell_type": "markdown",
   "metadata": {},
   "source": [
    "We continue with the analysis of the \"category\" column. We note that this column has a total of 638 Grammy Award categories."
   ]
  },
  {
   "cell_type": "code",
   "execution_count": 16,
   "metadata": {},
   "outputs": [
    {
     "name": "stdout",
     "output_type": "stream",
     "text": [
      "Total number of categories: 638\n"
     ]
    }
   ],
   "source": [
    "total_unique_categories = df['category'].nunique()\n",
    "print(\"Total number of categories:\", total_unique_categories)"
   ]
  },
  {
   "cell_type": "markdown",
   "metadata": {},
   "source": [
    "We note that many of the categories in the \"category\" column contain information about the artists associated with the Grammy Awards."
   ]
  },
  {
   "cell_type": "code",
   "execution_count": 17,
   "metadata": {},
   "outputs": [
    {
     "data": {
      "text/plain": [
       "array(['Best New Artist', 'Producer Of The Year (Non-Classical)',\n",
       "       'Best New Artist Of The Year',\n",
       "       'Producer Of The Year, Non-Classical',\n",
       "       'Producer Of The Year, Classical',\n",
       "       'Best Small Ensemble Performance (With Or Without Conductor)',\n",
       "       'Remixer of the Year, Non-Classical',\n",
       "       'Remixer Of The Year, Non-Classical',\n",
       "       'Remixer Of The Year, Non-classical',\n",
       "       'Best Classical Vocal Performance', 'Producer Of The Year',\n",
       "       'Classical Producer Of The Year',\n",
       "       'Producer Of The Year (Non Classical)',\n",
       "       'Best Classical Vocal Soloist',\n",
       "       'Producer Of The Year, (Non Classical)',\n",
       "       'Best Classical Vocal Soloist Performance',\n",
       "       'Best Classical Performance - Instrumental Soloist Or Soloists (With Or Without Orchestra)',\n",
       "       'Best New Classical Artist', 'Best Producer Of The Year',\n",
       "       'Best Performance - Instrumental Soloist Or Soloists (With Or Without Orchestra)',\n",
       "       'Best New Country & Western Artist',\n",
       "       'Most Promising New Classical Recording Artist',\n",
       "       'Best New Artist Of 1964',\n",
       "       'Best New Country & Western Artist Of 1964',\n",
       "       'Best New Artist Of 1963', 'Best New Artist Of 1962',\n",
       "       'Best New Artist Of 1961',\n",
       "       'Best Classical Performance - Vocal Soloist',\n",
       "       'Best New Artist Of 1960',\n",
       "       'Best Classical Performance - Vocal Soloist (With Or Without Orchestra)',\n",
       "       'Best New Artist Of 1959'], dtype=object)"
      ]
     },
     "execution_count": 17,
     "metadata": {},
     "output_type": "execute_result"
    }
   ],
   "source": [
    "df2 = df.loc[df['artist'].isnull()]\n",
    "df2['category'].unique()"
   ]
  },
  {
   "cell_type": "markdown",
   "metadata": {},
   "source": [
    "### Transformation Category cleaning "
   ]
  },
  {
   "cell_type": "markdown",
   "metadata": {},
   "source": [
    "First we clean up the \"category\" column to remove any special characters it may contain."
   ]
  },
  {
   "cell_type": "code",
   "execution_count": 18,
   "metadata": {},
   "outputs": [],
   "source": [
    "df['category'] = df['category'].str.replace(r'[-()]', '', regex=True)"
   ]
  },
  {
   "cell_type": "markdown",
   "metadata": {},
   "source": [
    "### Replace null values in the \"Artist\" column with \"Nominee\" values where the category is of type artist."
   ]
  },
  {
   "cell_type": "markdown",
   "metadata": {},
   "source": [
    "As previously mentioned, the \"nominee\" column contains information about artists in categories that include the word 'artist'. In these categories, the name of the nominated artist is present in the \"nominee\" column. Therefore, we use this information to replace the null values in the \"artist\" and \"workers\" columns."
   ]
  },
  {
   "cell_type": "code",
   "execution_count": 19,
   "metadata": {},
   "outputs": [],
   "source": [
    "artist_categories = df[df['category'].str.contains('Artist', case=False)]\n",
    "\n",
    "df.loc[artist_categories.index, 'artist'] = artist_categories['nominee']\n",
    "df.loc[artist_categories.index, 'workers'] = artist_categories['nominee']"
   ]
  },
  {
   "cell_type": "markdown",
   "metadata": {},
   "source": [
    "We verified how the null values have decreased after using the information in the \"nominee\" column to replace the null values in the \"artist\" and \"workers\" columns."
   ]
  },
  {
   "cell_type": "code",
   "execution_count": 20,
   "metadata": {},
   "outputs": [
    {
     "data": {
      "text/plain": [
       "year               0\n",
       "title              0\n",
       "published_at       0\n",
       "updated_at         0\n",
       "category           0\n",
       "nominee            6\n",
       "artist           117\n",
       "workers          117\n",
       "img             1367\n",
       "winner             0\n",
       "dtype: int64"
      ]
     },
     "execution_count": 20,
     "metadata": {},
     "output_type": "execute_result"
    }
   ],
   "source": [
    "df.isnull().sum()"
   ]
  },
  {
   "cell_type": "markdown",
   "metadata": {},
   "source": [
    "We notice that the column 'nominee' has 6 null values. Now we will evaluate what actions to take with those null values."
   ]
  },
  {
   "cell_type": "code",
   "execution_count": 21,
   "metadata": {},
   "outputs": [
    {
     "data": {
      "text/html": [
       "<div>\n",
       "<style scoped>\n",
       "    .dataframe tbody tr th:only-of-type {\n",
       "        vertical-align: middle;\n",
       "    }\n",
       "\n",
       "    .dataframe tbody tr th {\n",
       "        vertical-align: top;\n",
       "    }\n",
       "\n",
       "    .dataframe thead th {\n",
       "        text-align: right;\n",
       "    }\n",
       "</style>\n",
       "<table border=\"1\" class=\"dataframe\">\n",
       "  <thead>\n",
       "    <tr style=\"text-align: right;\">\n",
       "      <th></th>\n",
       "      <th>year</th>\n",
       "      <th>title</th>\n",
       "      <th>published_at</th>\n",
       "      <th>updated_at</th>\n",
       "      <th>category</th>\n",
       "      <th>nominee</th>\n",
       "      <th>artist</th>\n",
       "      <th>workers</th>\n",
       "      <th>img</th>\n",
       "      <th>winner</th>\n",
       "    </tr>\n",
       "  </thead>\n",
       "  <tbody>\n",
       "    <tr>\n",
       "      <th>2279</th>\n",
       "      <td>2000</td>\n",
       "      <td>43rd Annual GRAMMY Awards  (2000)</td>\n",
       "      <td>2017-11-28T00:03:45-08:00</td>\n",
       "      <td>2019-09-10T01:11:09-07:00</td>\n",
       "      <td>Remixer of the Year, NonClassical</td>\n",
       "      <td>None</td>\n",
       "      <td>None</td>\n",
       "      <td>NaN</td>\n",
       "      <td>None</td>\n",
       "      <td>True</td>\n",
       "    </tr>\n",
       "    <tr>\n",
       "      <th>2379</th>\n",
       "      <td>1999</td>\n",
       "      <td>42nd Annual GRAMMY Awards  (1999)</td>\n",
       "      <td>2017-11-28T00:03:45-08:00</td>\n",
       "      <td>2019-09-10T01:09:02-07:00</td>\n",
       "      <td>Remixer Of The Year, NonClassical</td>\n",
       "      <td>None</td>\n",
       "      <td>None</td>\n",
       "      <td>NaN</td>\n",
       "      <td>None</td>\n",
       "      <td>True</td>\n",
       "    </tr>\n",
       "    <tr>\n",
       "      <th>2475</th>\n",
       "      <td>1998</td>\n",
       "      <td>41st Annual GRAMMY Awards  (1998)</td>\n",
       "      <td>2017-11-28T00:03:45-08:00</td>\n",
       "      <td>2019-09-10T01:08:19-07:00</td>\n",
       "      <td>Remixer Of The Year, Nonclassical</td>\n",
       "      <td>None</td>\n",
       "      <td>None</td>\n",
       "      <td>NaN</td>\n",
       "      <td>None</td>\n",
       "      <td>True</td>\n",
       "    </tr>\n",
       "    <tr>\n",
       "      <th>2569</th>\n",
       "      <td>1997</td>\n",
       "      <td>40th Annual GRAMMY Awards  (1997)</td>\n",
       "      <td>2017-11-28T00:03:45-08:00</td>\n",
       "      <td>2019-09-10T01:07:37-07:00</td>\n",
       "      <td>Remixer Of The Year, NonClassical</td>\n",
       "      <td>None</td>\n",
       "      <td>None</td>\n",
       "      <td>NaN</td>\n",
       "      <td>None</td>\n",
       "      <td>True</td>\n",
       "    </tr>\n",
       "    <tr>\n",
       "      <th>4527</th>\n",
       "      <td>1965</td>\n",
       "      <td>8th Annual GRAMMY Awards  (1965)</td>\n",
       "      <td>2017-11-28T00:03:45-08:00</td>\n",
       "      <td>2019-09-10T01:06:59-07:00</td>\n",
       "      <td>Best New Country &amp; Western Artist</td>\n",
       "      <td>None</td>\n",
       "      <td>None</td>\n",
       "      <td>None</td>\n",
       "      <td>None</td>\n",
       "      <td>True</td>\n",
       "    </tr>\n",
       "    <tr>\n",
       "      <th>4575</th>\n",
       "      <td>1964</td>\n",
       "      <td>7th Annual GRAMMY Awards  (1964)</td>\n",
       "      <td>2017-11-28T00:03:45-08:00</td>\n",
       "      <td>2019-09-10T01:06:11-07:00</td>\n",
       "      <td>Best New Country &amp; Western Artist Of 1964</td>\n",
       "      <td>None</td>\n",
       "      <td>None</td>\n",
       "      <td>None</td>\n",
       "      <td>None</td>\n",
       "      <td>True</td>\n",
       "    </tr>\n",
       "  </tbody>\n",
       "</table>\n",
       "</div>"
      ],
      "text/plain": [
       "      year                              title               published_at  \\\n",
       "2279  2000  43rd Annual GRAMMY Awards  (2000)  2017-11-28T00:03:45-08:00   \n",
       "2379  1999  42nd Annual GRAMMY Awards  (1999)  2017-11-28T00:03:45-08:00   \n",
       "2475  1998  41st Annual GRAMMY Awards  (1998)  2017-11-28T00:03:45-08:00   \n",
       "2569  1997  40th Annual GRAMMY Awards  (1997)  2017-11-28T00:03:45-08:00   \n",
       "4527  1965   8th Annual GRAMMY Awards  (1965)  2017-11-28T00:03:45-08:00   \n",
       "4575  1964   7th Annual GRAMMY Awards  (1964)  2017-11-28T00:03:45-08:00   \n",
       "\n",
       "                     updated_at                                   category  \\\n",
       "2279  2019-09-10T01:11:09-07:00          Remixer of the Year, NonClassical   \n",
       "2379  2019-09-10T01:09:02-07:00          Remixer Of The Year, NonClassical   \n",
       "2475  2019-09-10T01:08:19-07:00          Remixer Of The Year, Nonclassical   \n",
       "2569  2019-09-10T01:07:37-07:00          Remixer Of The Year, NonClassical   \n",
       "4527  2019-09-10T01:06:59-07:00          Best New Country & Western Artist   \n",
       "4575  2019-09-10T01:06:11-07:00  Best New Country & Western Artist Of 1964   \n",
       "\n",
       "     nominee artist workers   img  winner  \n",
       "2279    None   None     NaN  None    True  \n",
       "2379    None   None     NaN  None    True  \n",
       "2475    None   None     NaN  None    True  \n",
       "2569    None   None     NaN  None    True  \n",
       "4527    None   None    None  None    True  \n",
       "4575    None   None    None  None    True  "
      ]
     },
     "execution_count": 21,
     "metadata": {},
     "output_type": "execute_result"
    }
   ],
   "source": [
    "df[df['nominee'].isnull()]"
   ]
  },
  {
   "cell_type": "markdown",
   "metadata": {},
   "source": [
    "### Transformation: Remove the 6 null values in the 'nominee' column."
   ]
  },
  {
   "cell_type": "markdown",
   "metadata": {},
   "source": [
    "Since we found no surrogate information for these values, we decided to eliminate them since they do not represent a large value for the data set."
   ]
  },
  {
   "cell_type": "code",
   "execution_count": 22,
   "metadata": {},
   "outputs": [],
   "source": [
    "df.drop([2279, 2379, 2475, 2569, 4527, 4575], inplace=True)"
   ]
  },
  {
   "cell_type": "markdown",
   "metadata": {},
   "source": [
    "### Transformation: Remove Columns"
   ]
  },
  {
   "cell_type": "markdown",
   "metadata": {},
   "source": [
    "Columns such as 'published_at', 'updated_at' and 'img' do not contribute to the purpose of the analysis, therefore, they are removed from the dataset."
   ]
  },
  {
   "cell_type": "code",
   "execution_count": 23,
   "metadata": {},
   "outputs": [],
   "source": [
    "df = df.drop(columns=['published_at', 'updated_at', 'img'])"
   ]
  },
  {
   "cell_type": "code",
   "execution_count": 24,
   "metadata": {},
   "outputs": [
    {
     "data": {
      "text/plain": [
       "year          0\n",
       "title         0\n",
       "category      0\n",
       "nominee       0\n",
       "artist      111\n",
       "workers     111\n",
       "winner        0\n",
       "dtype: int64"
      ]
     },
     "execution_count": 24,
     "metadata": {},
     "output_type": "execute_result"
    }
   ],
   "source": [
    "df.isnull().sum()"
   ]
  },
  {
   "cell_type": "markdown",
   "metadata": {},
   "source": [
    "### Transformation of replacing with nominee values"
   ]
  },
  {
   "cell_type": "markdown",
   "metadata": {},
   "source": [
    "The only information we use to replace the null values in the 'artist' and 'workers' columns comes from the 'nominee' column."
   ]
  },
  {
   "cell_type": "code",
   "execution_count": 25,
   "metadata": {},
   "outputs": [],
   "source": [
    "df['artist'] = df['artist'].fillna(df['nominee'])\n",
    "df['workers'] = df['workers'].fillna(df['nominee'])"
   ]
  },
  {
   "cell_type": "markdown",
   "metadata": {},
   "source": [
    "Verificamos valores nulos que nos quedan "
   ]
  },
  {
   "cell_type": "code",
   "execution_count": 26,
   "metadata": {},
   "outputs": [
    {
     "data": {
      "text/plain": [
       "year        0\n",
       "title       0\n",
       "category    0\n",
       "nominee     0\n",
       "artist      0\n",
       "workers     0\n",
       "winner      0\n",
       "dtype: int64"
      ]
     },
     "execution_count": 26,
     "metadata": {},
     "output_type": "execute_result"
    }
   ],
   "source": [
    "df.isnull().sum()"
   ]
  },
  {
   "cell_type": "markdown",
   "metadata": {},
   "source": [
    "### Transformation: Winner Column"
   ]
  },
  {
   "cell_type": "code",
   "execution_count": 27,
   "metadata": {},
   "outputs": [
    {
     "data": {
      "image/png": "[encoded data removed]",
      "text/plain": [
       "<Figure size 800x600 with 1 Axes>"
      ]
     },
     "metadata": {},
     "output_type": "display_data"
    }
   ],
   "source": [
    "winner_counts = df['winner'].value_counts()\n",
    "\n",
    "plt.figure(figsize=(8, 6))\n",
    "plt.pie(winner_counts, labels=winner_counts.index.map({True: 'Winners', False: 'No Winners'}), autopct='%1.1f%%', colors=['skyblue', 'lightcoral'])\n",
    "plt.title('Distribution of Winners and Non-Winners')\n",
    "plt.axis('equal')  \n",
    "plt.show()"
   ]
  },
  {
   "cell_type": "markdown",
   "metadata": {},
   "source": [
    "The column is renamed because when looking at a 100% winning percentage, it is suspected that it does not accurately reflect whether a nominee was actually a winner."
   ]
  },
  {
   "cell_type": "code",
   "execution_count": 28,
   "metadata": {},
   "outputs": [],
   "source": [
    "df = df.rename(columns={'winner': 'grammy_nominee'})"
   ]
  },
  {
   "cell_type": "markdown",
   "metadata": {},
   "source": [
    "An additional analysis is performed to verify the number of winners by category and year, which will reveal whether the column correctly reflects the winner status. This ensures that the column name is more descriptive and accurate."
   ]
  },
  {
   "cell_type": "code",
   "execution_count": 29,
   "metadata": {},
   "outputs": [
    {
     "name": "stdout",
     "output_type": "stream",
     "text": [
      "Yes, there is more than one winner per category per year.\n"
     ]
    }
   ],
   "source": [
    "more_than_one_winner = df[df['grammy_nominee'] == True].groupby(['year', 'category']).size() > 1\n",
    "\n",
    "if more_than_one_winner.any():\n",
    "    print(\"Yes, there is more than one winner per category per year.\")\n",
    "else:\n",
    "    print(\"There is no more than one winner per category per year.\")"
   ]
  },
  {
   "cell_type": "markdown",
   "metadata": {},
   "source": [
    "The rationale for renaming the column lies in the discovery of multiple winners by category and year, indicating that the original column does not accurately reflect winner status. Renaming the column ensures a more adequate description of its meaning, better reflecting information about whether a nominee was actually a Grammy winner."
   ]
  },
  {
   "cell_type": "markdown",
   "metadata": {},
   "source": [
    "We verify that there are no null values left in our data set."
   ]
  },
  {
   "cell_type": "code",
   "execution_count": 30,
   "metadata": {},
   "outputs": [
    {
     "data": {
      "text/plain": [
       "year              0\n",
       "title             0\n",
       "category          0\n",
       "nominee           0\n",
       "artist            0\n",
       "workers           0\n",
       "grammy_nominee    0\n",
       "dtype: int64"
      ]
     },
     "execution_count": 30,
     "metadata": {},
     "output_type": "execute_result"
    }
   ],
   "source": [
    "df.isnull().sum()"
   ]
  },
  {
   "cell_type": "code",
   "execution_count": 31,
   "metadata": {},
   "outputs": [],
   "source": [
    "df.to_csv('grammynew.csv', index=False)"
   ]
  },
  {
   "cell_type": "markdown",
   "metadata": {},
   "source": [
    "### Transformations Performed on the Grammy Dataset\n",
    "\n",
    "1. **Fill null values in 'artist' using 'workers' with regular expressions**:\n",
    "   - Description: fills null values in the 'artist' column by extracting information from the 'workers' column using regular expressions to find text in parentheses.\n",
    "   \n",
    "2. **Fill null values in 'artist' with 'workers'**:\n",
    "   - Description: fill the remaining null values in the 'artist' column using the values from the 'workers' column.\n",
    "   \n",
    "3. **Fill null values in 'workers' with 'artist'**:\n",
    "   - Description: fills in the null values in the 'workers' column using the values in the 'artist' column.\n",
    "   \n",
    "4. **Clean the 'category' column of special characters**:\n",
    "   - Description: Removes special characters (such as hyphens and parentheses) from the 'category' column using regular expressions.\n",
    "   \n",
    "5. **Assign 'nominee' values to 'artist' and 'workers' in categories containing 'Artist'**:\n",
    "   - Description: In rows where the 'category' column contains the word 'Artist', assign 'nominee' values to the 'artist' and 'workers' columns.\n",
    "   \n",
    "6. **Fill null values in 'artist' with 'nominee'**:\n",
    "   - Description: fills in the remaining null values in the 'artist' column using the values from the 'nominee' column.\n",
    "   \n",
    "     \n",
    "7. **Fill null values in 'workers' with 'nominee'**:\n",
    "   - Description: fills null values in the 'workers' column using the values in the 'nominee' column.\n",
    "\n",
    "8. **Transformations in the 'winner' Column**: In this transformation, the 'winner' column is converted into binary values (0 or 1), where 1 represents that he/she was nominated for a Grammy and the column is renamed.\n",
    "   \n",
    "9. **Delete specific records by index**:\n",
    "   - Description: Deletes records at the specified indexes (2279, 2379, 2475, 2569, 4527, 4575) from the 'grammy_df' dataset.\n",
    "   \n",
    "10. **Delete columns 'published_at', 'updated_at' and 'img'**:\n",
    "   - Description: Removes the columns 'published_at', 'updated_at' and 'img' from the 'grammy_df' dataset.\n"
   ]
  },
  {
   "cell_type": "markdown",
   "metadata": {},
   "source": [
    "After applying the transformations to the dataset, here is the general visualization of how it was structured."
   ]
  },
  {
   "cell_type": "code",
   "execution_count": 32,
   "metadata": {},
   "outputs": [
    {
     "data": {
      "text/html": [
       "<div>\n",
       "<style scoped>\n",
       "    .dataframe tbody tr th:only-of-type {\n",
       "        vertical-align: middle;\n",
       "    }\n",
       "\n",
       "    .dataframe tbody tr th {\n",
       "        vertical-align: top;\n",
       "    }\n",
       "\n",
       "    .dataframe thead th {\n",
       "        text-align: right;\n",
       "    }\n",
       "</style>\n",
       "<table border=\"1\" class=\"dataframe\">\n",
       "  <thead>\n",
       "    <tr style=\"text-align: right;\">\n",
       "      <th></th>\n",
       "      <th>year</th>\n",
       "      <th>title</th>\n",
       "      <th>category</th>\n",
       "      <th>nominee</th>\n",
       "      <th>artist</th>\n",
       "      <th>workers</th>\n",
       "      <th>grammy_nominee</th>\n",
       "    </tr>\n",
       "  </thead>\n",
       "  <tbody>\n",
       "    <tr>\n",
       "      <th>0</th>\n",
       "      <td>2019</td>\n",
       "      <td>62nd Annual GRAMMY Awards  (2019)</td>\n",
       "      <td>Record Of The Year</td>\n",
       "      <td>Bad Guy</td>\n",
       "      <td>Billie Eilish</td>\n",
       "      <td>Finneas O'Connell, producer; Rob Kinelski &amp; Fi...</td>\n",
       "      <td>True</td>\n",
       "    </tr>\n",
       "    <tr>\n",
       "      <th>1</th>\n",
       "      <td>2019</td>\n",
       "      <td>62nd Annual GRAMMY Awards  (2019)</td>\n",
       "      <td>Record Of The Year</td>\n",
       "      <td>Hey, Ma</td>\n",
       "      <td>Bon Iver</td>\n",
       "      <td>BJ Burton, Brad Cook, Chris Messina &amp; Justin V...</td>\n",
       "      <td>True</td>\n",
       "    </tr>\n",
       "    <tr>\n",
       "      <th>2</th>\n",
       "      <td>2019</td>\n",
       "      <td>62nd Annual GRAMMY Awards  (2019)</td>\n",
       "      <td>Record Of The Year</td>\n",
       "      <td>7 rings</td>\n",
       "      <td>Ariana Grande</td>\n",
       "      <td>Charles Anderson, Tommy Brown, Michael Foster ...</td>\n",
       "      <td>True</td>\n",
       "    </tr>\n",
       "    <tr>\n",
       "      <th>3</th>\n",
       "      <td>2019</td>\n",
       "      <td>62nd Annual GRAMMY Awards  (2019)</td>\n",
       "      <td>Record Of The Year</td>\n",
       "      <td>Hard Place</td>\n",
       "      <td>H.E.R.</td>\n",
       "      <td>Rodney “Darkchild” Jerkins, producer; Joseph H...</td>\n",
       "      <td>True</td>\n",
       "    </tr>\n",
       "    <tr>\n",
       "      <th>4</th>\n",
       "      <td>2019</td>\n",
       "      <td>62nd Annual GRAMMY Awards  (2019)</td>\n",
       "      <td>Record Of The Year</td>\n",
       "      <td>Talk</td>\n",
       "      <td>Khalid</td>\n",
       "      <td>Disclosure &amp; Denis Kosiak, producers; Ingmar C...</td>\n",
       "      <td>True</td>\n",
       "    </tr>\n",
       "  </tbody>\n",
       "</table>\n",
       "</div>"
      ],
      "text/plain": [
       "   year                              title            category     nominee  \\\n",
       "0  2019  62nd Annual GRAMMY Awards  (2019)  Record Of The Year     Bad Guy   \n",
       "1  2019  62nd Annual GRAMMY Awards  (2019)  Record Of The Year     Hey, Ma   \n",
       "2  2019  62nd Annual GRAMMY Awards  (2019)  Record Of The Year     7 rings   \n",
       "3  2019  62nd Annual GRAMMY Awards  (2019)  Record Of The Year  Hard Place   \n",
       "4  2019  62nd Annual GRAMMY Awards  (2019)  Record Of The Year        Talk   \n",
       "\n",
       "          artist                                            workers  \\\n",
       "0  Billie Eilish  Finneas O'Connell, producer; Rob Kinelski & Fi...   \n",
       "1       Bon Iver  BJ Burton, Brad Cook, Chris Messina & Justin V...   \n",
       "2  Ariana Grande  Charles Anderson, Tommy Brown, Michael Foster ...   \n",
       "3         H.E.R.  Rodney “Darkchild” Jerkins, producer; Joseph H...   \n",
       "4         Khalid  Disclosure & Denis Kosiak, producers; Ingmar C...   \n",
       "\n",
       "   grammy_nominee  \n",
       "0            True  \n",
       "1            True  \n",
       "2            True  \n",
       "3            True  \n",
       "4            True  "
      ]
     },
     "execution_count": 32,
     "metadata": {},
     "output_type": "execute_result"
    }
   ],
   "source": [
    "df.head()"
   ]
  },
  {
   "cell_type": "markdown",
   "metadata": {},
   "source": [
    "The graph \"Distribution of Grammy Nominations by Year\" shows an upward trend in the number of nominations over time. This trend suggests that the Grammy Awards have become more popular over time. "
   ]
  },
  {
   "cell_type": "code",
   "execution_count": 33,
   "metadata": {},
   "outputs": [
    {
     "data": {
      "image/png": "[encoded data removed]",
      "text/plain": [
       "<Figure size 1200x600 with 1 Axes>"
      ]
     },
     "metadata": {},
     "output_type": "display_data"
    }
   ],
   "source": [
    "frequency_per_year = df['year'].value_counts().sort_index()\n",
    "\n",
    "plt.figure(figsize=(12, 6))\n",
    "plt.plot(frequency_per_year.index, frequency_per_year.values, marker='o', linestyle='-', color='skyblue')\n",
    "plt.title('Distribution of Nominations per Year')\n",
    "plt.xlabel('Year')\n",
    "plt.ylabel('Number of Nominations')\n",
    "plt.grid(True)\n",
    "plt.xticks(rotation=45)\n",
    "plt.show()\n"
   ]
  },
  {
   "cell_type": "markdown",
   "metadata": {},
   "source": [
    "An analysis of the categories with the most Grammy nominations from 1960 to 2023 shows significant data. \"Song of the Year\" leads with 70 nominations, followed by \"Record of the Year\" with 60 and \"Album of the Year\" with 50. These numbers reflect the importance and popularity of these categories in the music industry, highlighting the appreciation for songwriting, recording quality and full-length albums."
   ]
  },
  {
   "cell_type": "code",
   "execution_count": 34,
   "metadata": {},
   "outputs": [
    {
     "data": {
      "image/png": "[encoded data removed]",
      "text/plain": [
       "<Figure size 1200x800 with 1 Axes>"
      ]
     },
     "metadata": {},
     "output_type": "display_data"
    }
   ],
   "source": [
    "nominations_per_category = df['category'].value_counts()\n",
    "\n",
    "top_nomination_categories = nominations_per_category.head(10)\n",
    "plt.figure(figsize=(12, 8)) \n",
    "top_nomination_categories.plot(kind='bar', color='skyblue', edgecolor='black')\n",
    "plt.title('Categories with Most Nominations for Grammy Awards')\n",
    "plt.xlabel('Category')\n",
    "plt.ylabel('Number of Nominations')\n",
    "plt.xticks(rotation=45, ha='right')\n",
    "\n",
    "plt.show()\n"
   ]
  },
  {
   "cell_type": "markdown",
   "metadata": {},
   "source": [
    "The graph \"Number of Grammy Nominations by Year (2015-2019)\" shows a downward trend in the number of nominations over time, with the exception of 2019, which shows a significant increase. This trend suggests that the Grammy nomination process has become more selective over the past five years, with the exception of 2019, which could be the result of a change in nomination rules or criteria, an increase in artist participation, or a change in voter preferences."
   ]
  },
  {
   "cell_type": "code",
   "execution_count": 35,
   "metadata": {},
   "outputs": [
    {
     "data": {
      "image/png": "[encoded data removed]",
      "text/plain": [
       "<Figure size 1000x600 with 1 Axes>"
      ]
     },
     "metadata": {},
     "output_type": "display_data"
    }
   ],
   "source": [
    "last_5_years = df[df['year'] >= df['year'].max() - 4]\n",
    "\n",
    "nominations_per_year = last_5_years.groupby('year')['nominee'].count()\n",
    "\n",
    "plt.figure(figsize=(10, 6))\n",
    "plt.bar(nominations_per_year.index, nominations_per_year.values, color='skyblue', edgecolor='black')\n",
    "plt.title('Number of Grammy Nominations per Year (Last 5 years)')\n",
    "plt.xlabel('Year')\n",
    "plt.ylabel('Number of Nominations')\n",
    "plt.xticks(rotation=45)\n",
    "plt.show()"
   ]
  },
  {
   "cell_type": "code",
   "execution_count": 36,
   "metadata": {},
   "outputs": [
    {
     "name": "stdout",
     "output_type": "stream",
     "text": [
      "Table of Nominations per Year (Last 5 years):\n",
      "\n"
     ]
    },
    {
     "data": {
      "text/html": [
       "<div>\n",
       "<style scoped>\n",
       "    .dataframe tbody tr th:only-of-type {\n",
       "        vertical-align: middle;\n",
       "    }\n",
       "\n",
       "    .dataframe tbody tr th {\n",
       "        vertical-align: top;\n",
       "    }\n",
       "\n",
       "    .dataframe thead th {\n",
       "        text-align: right;\n",
       "    }\n",
       "</style>\n",
       "<table border=\"1\" class=\"dataframe\">\n",
       "  <thead>\n",
       "    <tr style=\"text-align: right;\">\n",
       "      <th></th>\n",
       "      <th>year</th>\n",
       "      <th>Nominee</th>\n",
       "    </tr>\n",
       "  </thead>\n",
       "  <tbody>\n",
       "    <tr>\n",
       "      <th>0</th>\n",
       "      <td>2015</td>\n",
       "      <td>84</td>\n",
       "    </tr>\n",
       "    <tr>\n",
       "      <th>1</th>\n",
       "      <td>2016</td>\n",
       "      <td>85</td>\n",
       "    </tr>\n",
       "    <tr>\n",
       "      <th>2</th>\n",
       "      <td>2017</td>\n",
       "      <td>86</td>\n",
       "    </tr>\n",
       "    <tr>\n",
       "      <th>3</th>\n",
       "      <td>2018</td>\n",
       "      <td>86</td>\n",
       "    </tr>\n",
       "    <tr>\n",
       "      <th>4</th>\n",
       "      <td>2019</td>\n",
       "      <td>433</td>\n",
       "    </tr>\n",
       "  </tbody>\n",
       "</table>\n",
       "</div>"
      ],
      "text/plain": [
       "   year  Nominee\n",
       "0  2015       84\n",
       "1  2016       85\n",
       "2  2017       86\n",
       "3  2018       86\n",
       "4  2019      433"
      ]
     },
     "execution_count": 36,
     "metadata": {},
     "output_type": "execute_result"
    }
   ],
   "source": [
    "last_5_years = df[df['year'] >= df['year'].max() - 4]\n",
    "\n",
    "nominations_per_year = last_5_years.groupby('year')['nominee'].count().reset_index()\n",
    "nominations_per_year.rename(columns={'nominee': 'Nominee'}, inplace=True)\n",
    "\n",
    "print(\"Table of Nominations per Year (Last 5 years):\\n\")\n",
    "nominations_per_year\n"
   ]
  }
 ],
 "metadata": {
  "kernelspec": {
   "display_name": "venv",
   "language": "python",
   "name": "python3"
  },
  "language_info": {
   "codemirror_mode": {
    "name": "ipython",
    "version": 3
   },
   "file_extension": ".py",
   "mimetype": "text/x-python",
   "name": "python",
   "nbconvert_exporter": "python",
   "pygments_lexer": "ipython3",
   "version": "3.12.2"
  }
 },
 "nbformat": 4,
 "nbformat_minor": 2
}
