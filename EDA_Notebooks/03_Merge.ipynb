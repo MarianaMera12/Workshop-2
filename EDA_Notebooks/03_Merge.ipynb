{
 "cells": [
  {
   "cell_type": "markdown",
   "metadata": {},
   "source": [
    "### Merge Spotify and Grammy "
   ]
  },
  {
   "cell_type": "code",
   "execution_count": 30,
   "metadata": {},
   "outputs": [],
   "source": [
    "import pandas as pd"
   ]
  },
  {
   "cell_type": "code",
   "execution_count": 31,
   "metadata": {},
   "outputs": [
    {
     "data": {
      "text/html": [
       "<div>\n",
       "<style scoped>\n",
       "    .dataframe tbody tr th:only-of-type {\n",
       "        vertical-align: middle;\n",
       "    }\n",
       "\n",
       "    .dataframe tbody tr th {\n",
       "        vertical-align: top;\n",
       "    }\n",
       "\n",
       "    .dataframe thead th {\n",
       "        text-align: right;\n",
       "    }\n",
       "</style>\n",
       "<table border=\"1\" class=\"dataframe\">\n",
       "  <thead>\n",
       "    <tr style=\"text-align: right;\">\n",
       "      <th></th>\n",
       "      <th>year</th>\n",
       "      <th>title</th>\n",
       "      <th>category</th>\n",
       "      <th>nominee</th>\n",
       "      <th>artist</th>\n",
       "      <th>workers</th>\n",
       "      <th>winner</th>\n",
       "    </tr>\n",
       "  </thead>\n",
       "  <tbody>\n",
       "    <tr>\n",
       "      <th>0</th>\n",
       "      <td>2019</td>\n",
       "      <td>62nd Annual GRAMMY Awards  (2019)</td>\n",
       "      <td>Record Of The Year</td>\n",
       "      <td>Bad Guy</td>\n",
       "      <td>Billie Eilish</td>\n",
       "      <td>Finneas O'Connell, producer; Rob Kinelski &amp; Fi...</td>\n",
       "      <td>True</td>\n",
       "    </tr>\n",
       "    <tr>\n",
       "      <th>1</th>\n",
       "      <td>2019</td>\n",
       "      <td>62nd Annual GRAMMY Awards  (2019)</td>\n",
       "      <td>Record Of The Year</td>\n",
       "      <td>Hey, Ma</td>\n",
       "      <td>Bon Iver</td>\n",
       "      <td>BJ Burton, Brad Cook, Chris Messina &amp; Justin V...</td>\n",
       "      <td>True</td>\n",
       "    </tr>\n",
       "    <tr>\n",
       "      <th>2</th>\n",
       "      <td>2019</td>\n",
       "      <td>62nd Annual GRAMMY Awards  (2019)</td>\n",
       "      <td>Record Of The Year</td>\n",
       "      <td>7 rings</td>\n",
       "      <td>Ariana Grande</td>\n",
       "      <td>Charles Anderson, Tommy Brown, Michael Foster ...</td>\n",
       "      <td>True</td>\n",
       "    </tr>\n",
       "    <tr>\n",
       "      <th>3</th>\n",
       "      <td>2019</td>\n",
       "      <td>62nd Annual GRAMMY Awards  (2019)</td>\n",
       "      <td>Record Of The Year</td>\n",
       "      <td>Hard Place</td>\n",
       "      <td>H.E.R.</td>\n",
       "      <td>Rodney âDarkchildâ Jerkins, producer; Jose...</td>\n",
       "      <td>True</td>\n",
       "    </tr>\n",
       "    <tr>\n",
       "      <th>4</th>\n",
       "      <td>2019</td>\n",
       "      <td>62nd Annual GRAMMY Awards  (2019)</td>\n",
       "      <td>Record Of The Year</td>\n",
       "      <td>Talk</td>\n",
       "      <td>Khalid</td>\n",
       "      <td>Disclosure &amp; Denis Kosiak, producers; Ingmar C...</td>\n",
       "      <td>True</td>\n",
       "    </tr>\n",
       "  </tbody>\n",
       "</table>\n",
       "</div>"
      ],
      "text/plain": [
       "   year                              title            category     nominee  \\\n",
       "0  2019  62nd Annual GRAMMY Awards  (2019)  Record Of The Year     Bad Guy   \n",
       "1  2019  62nd Annual GRAMMY Awards  (2019)  Record Of The Year     Hey, Ma   \n",
       "2  2019  62nd Annual GRAMMY Awards  (2019)  Record Of The Year     7 rings   \n",
       "3  2019  62nd Annual GRAMMY Awards  (2019)  Record Of The Year  Hard Place   \n",
       "4  2019  62nd Annual GRAMMY Awards  (2019)  Record Of The Year        Talk   \n",
       "\n",
       "          artist                                            workers  winner  \n",
       "0  Billie Eilish  Finneas O'Connell, producer; Rob Kinelski & Fi...    True  \n",
       "1       Bon Iver  BJ Burton, Brad Cook, Chris Messina & Justin V...    True  \n",
       "2  Ariana Grande  Charles Anderson, Tommy Brown, Michael Foster ...    True  \n",
       "3         H.E.R.  Rodney âDarkchildâ Jerkins, producer; Jose...    True  \n",
       "4         Khalid  Disclosure & Denis Kosiak, producers; Ingmar C...    True  "
      ]
     },
     "execution_count": 31,
     "metadata": {},
     "output_type": "execute_result"
    }
   ],
   "source": [
    "csv_file = 'grammynew.csv'\n",
    "grammy_df = pd.read_csv(csv_file, sep=',', encoding='latin-1')\n",
    "grammy_df.head()"
   ]
  },
  {
   "cell_type": "code",
   "execution_count": 19,
   "metadata": {},
   "outputs": [
    {
     "data": {
      "text/plain": [
       "(4804, 7)"
      ]
     },
     "execution_count": 19,
     "metadata": {},
     "output_type": "execute_result"
    }
   ],
   "source": [
    "grammy_df.shape"
   ]
  },
  {
   "cell_type": "code",
   "execution_count": 32,
   "metadata": {},
   "outputs": [
    {
     "data": {
      "text/html": [
       "<div>\n",
       "<style scoped>\n",
       "    .dataframe tbody tr th:only-of-type {\n",
       "        vertical-align: middle;\n",
       "    }\n",
       "\n",
       "    .dataframe tbody tr th {\n",
       "        vertical-align: top;\n",
       "    }\n",
       "\n",
       "    .dataframe thead th {\n",
       "        text-align: right;\n",
       "    }\n",
       "</style>\n",
       "<table border=\"1\" class=\"dataframe\">\n",
       "  <thead>\n",
       "    <tr style=\"text-align: right;\">\n",
       "      <th></th>\n",
       "      <th>track_id</th>\n",
       "      <th>artists</th>\n",
       "      <th>album_name</th>\n",
       "      <th>track_name</th>\n",
       "      <th>popularity</th>\n",
       "      <th>duration_ms</th>\n",
       "      <th>explicit</th>\n",
       "      <th>danceability</th>\n",
       "      <th>energy</th>\n",
       "      <th>key</th>\n",
       "      <th>...</th>\n",
       "      <th>acousticness</th>\n",
       "      <th>instrumentalness</th>\n",
       "      <th>liveness</th>\n",
       "      <th>valence</th>\n",
       "      <th>tempo</th>\n",
       "      <th>time_signature</th>\n",
       "      <th>track_genre</th>\n",
       "      <th>num_artists</th>\n",
       "      <th>secondary_artist_1</th>\n",
       "      <th>genre_category</th>\n",
       "    </tr>\n",
       "  </thead>\n",
       "  <tbody>\n",
       "    <tr>\n",
       "      <th>0</th>\n",
       "      <td>5SuOikwiRyPMVoIQDJUgSV</td>\n",
       "      <td>Gen Hoshino</td>\n",
       "      <td>Comedy</td>\n",
       "      <td>Comedy</td>\n",
       "      <td>73</td>\n",
       "      <td>230666</td>\n",
       "      <td>False</td>\n",
       "      <td>0.676</td>\n",
       "      <td>0.4610</td>\n",
       "      <td>1</td>\n",
       "      <td>...</td>\n",
       "      <td>0.0322</td>\n",
       "      <td>0.000001</td>\n",
       "      <td>0.3580</td>\n",
       "      <td>0.715</td>\n",
       "      <td>87.917</td>\n",
       "      <td>4</td>\n",
       "      <td>acoustic</td>\n",
       "      <td>1</td>\n",
       "      <td>No second artist</td>\n",
       "      <td>Acoustic</td>\n",
       "    </tr>\n",
       "    <tr>\n",
       "      <th>1</th>\n",
       "      <td>4qPNDBW1i3p13qLCt0Ki3A</td>\n",
       "      <td>Ben Woodward</td>\n",
       "      <td>Ghost (Acoustic)</td>\n",
       "      <td>Ghost - Acoustic</td>\n",
       "      <td>55</td>\n",
       "      <td>149610</td>\n",
       "      <td>False</td>\n",
       "      <td>0.420</td>\n",
       "      <td>0.1660</td>\n",
       "      <td>1</td>\n",
       "      <td>...</td>\n",
       "      <td>0.9240</td>\n",
       "      <td>0.000006</td>\n",
       "      <td>0.1010</td>\n",
       "      <td>0.267</td>\n",
       "      <td>77.489</td>\n",
       "      <td>4</td>\n",
       "      <td>acoustic</td>\n",
       "      <td>1</td>\n",
       "      <td>No second artist</td>\n",
       "      <td>Acoustic</td>\n",
       "    </tr>\n",
       "    <tr>\n",
       "      <th>2</th>\n",
       "      <td>1iJBSr7s7jYXzM8EGcbK5b</td>\n",
       "      <td>Ingrid Michaelson;ZAYN</td>\n",
       "      <td>To Begin Again</td>\n",
       "      <td>To Begin Again</td>\n",
       "      <td>57</td>\n",
       "      <td>210826</td>\n",
       "      <td>False</td>\n",
       "      <td>0.438</td>\n",
       "      <td>0.3590</td>\n",
       "      <td>0</td>\n",
       "      <td>...</td>\n",
       "      <td>0.2100</td>\n",
       "      <td>0.000000</td>\n",
       "      <td>0.1170</td>\n",
       "      <td>0.120</td>\n",
       "      <td>76.332</td>\n",
       "      <td>4</td>\n",
       "      <td>acoustic</td>\n",
       "      <td>2</td>\n",
       "      <td>ZAYN</td>\n",
       "      <td>Acoustic</td>\n",
       "    </tr>\n",
       "    <tr>\n",
       "      <th>3</th>\n",
       "      <td>6lfxq3CG4xtTiEg7opyCyx</td>\n",
       "      <td>Kina Grannis</td>\n",
       "      <td>Crazy Rich Asians (Original Motion Picture Sou...</td>\n",
       "      <td>Can't Help Falling In Love</td>\n",
       "      <td>71</td>\n",
       "      <td>201933</td>\n",
       "      <td>False</td>\n",
       "      <td>0.266</td>\n",
       "      <td>0.0596</td>\n",
       "      <td>0</td>\n",
       "      <td>...</td>\n",
       "      <td>0.9050</td>\n",
       "      <td>0.000071</td>\n",
       "      <td>0.1320</td>\n",
       "      <td>0.143</td>\n",
       "      <td>181.740</td>\n",
       "      <td>3</td>\n",
       "      <td>acoustic</td>\n",
       "      <td>1</td>\n",
       "      <td>No second artist</td>\n",
       "      <td>Acoustic</td>\n",
       "    </tr>\n",
       "    <tr>\n",
       "      <th>4</th>\n",
       "      <td>5vjLSffimiIP26QG5WcN2K</td>\n",
       "      <td>Chord Overstreet</td>\n",
       "      <td>Hold On</td>\n",
       "      <td>Hold On</td>\n",
       "      <td>82</td>\n",
       "      <td>198853</td>\n",
       "      <td>False</td>\n",
       "      <td>0.618</td>\n",
       "      <td>0.4430</td>\n",
       "      <td>2</td>\n",
       "      <td>...</td>\n",
       "      <td>0.4690</td>\n",
       "      <td>0.000000</td>\n",
       "      <td>0.0829</td>\n",
       "      <td>0.167</td>\n",
       "      <td>119.949</td>\n",
       "      <td>4</td>\n",
       "      <td>acoustic</td>\n",
       "      <td>1</td>\n",
       "      <td>No second artist</td>\n",
       "      <td>Acoustic</td>\n",
       "    </tr>\n",
       "  </tbody>\n",
       "</table>\n",
       "<p>5 rows × 23 columns</p>\n",
       "</div>"
      ],
      "text/plain": [
       "                 track_id                 artists  \\\n",
       "0  5SuOikwiRyPMVoIQDJUgSV             Gen Hoshino   \n",
       "1  4qPNDBW1i3p13qLCt0Ki3A            Ben Woodward   \n",
       "2  1iJBSr7s7jYXzM8EGcbK5b  Ingrid Michaelson;ZAYN   \n",
       "3  6lfxq3CG4xtTiEg7opyCyx            Kina Grannis   \n",
       "4  5vjLSffimiIP26QG5WcN2K        Chord Overstreet   \n",
       "\n",
       "                                          album_name  \\\n",
       "0                                             Comedy   \n",
       "1                                   Ghost (Acoustic)   \n",
       "2                                     To Begin Again   \n",
       "3  Crazy Rich Asians (Original Motion Picture Sou...   \n",
       "4                                            Hold On   \n",
       "\n",
       "                   track_name  popularity  duration_ms  explicit  \\\n",
       "0                      Comedy          73       230666     False   \n",
       "1            Ghost - Acoustic          55       149610     False   \n",
       "2              To Begin Again          57       210826     False   \n",
       "3  Can't Help Falling In Love          71       201933     False   \n",
       "4                     Hold On          82       198853     False   \n",
       "\n",
       "   danceability  energy  key  ...  acousticness  instrumentalness  liveness  \\\n",
       "0         0.676  0.4610    1  ...        0.0322          0.000001    0.3580   \n",
       "1         0.420  0.1660    1  ...        0.9240          0.000006    0.1010   \n",
       "2         0.438  0.3590    0  ...        0.2100          0.000000    0.1170   \n",
       "3         0.266  0.0596    0  ...        0.9050          0.000071    0.1320   \n",
       "4         0.618  0.4430    2  ...        0.4690          0.000000    0.0829   \n",
       "\n",
       "   valence    tempo  time_signature  track_genre  num_artists  \\\n",
       "0    0.715   87.917               4     acoustic            1   \n",
       "1    0.267   77.489               4     acoustic            1   \n",
       "2    0.120   76.332               4     acoustic            2   \n",
       "3    0.143  181.740               3     acoustic            1   \n",
       "4    0.167  119.949               4     acoustic            1   \n",
       "\n",
       "   secondary_artist_1 genre_category  \n",
       "0    No second artist       Acoustic  \n",
       "1    No second artist       Acoustic  \n",
       "2                ZAYN       Acoustic  \n",
       "3    No second artist       Acoustic  \n",
       "4    No second artist       Acoustic  \n",
       "\n",
       "[5 rows x 23 columns]"
      ]
     },
     "execution_count": 32,
     "metadata": {},
     "output_type": "execute_result"
    }
   ],
   "source": [
    "csv_file2 = 'spotifynew.csv'\n",
    "spotify_df = pd.read_csv(csv_file2, sep=',', encoding='latin-1')\n",
    "spotify_df.head()"
   ]
  },
  {
   "cell_type": "code",
   "execution_count": 20,
   "metadata": {},
   "outputs": [
    {
     "data": {
      "text/plain": [
       "(89740, 23)"
      ]
     },
     "execution_count": 20,
     "metadata": {},
     "output_type": "execute_result"
    }
   ],
   "source": [
    "spotify_df.shape"
   ]
  },
  {
   "cell_type": "code",
   "execution_count": 33,
   "metadata": {},
   "outputs": [
    {
     "data": {
      "text/plain": [
       "Index(['track_id', 'artists', 'album_name', 'track_name', 'popularity',\n",
       "       'duration_ms', 'explicit', 'danceability', 'energy', 'key', 'loudness',\n",
       "       'mode', 'speechiness', 'acousticness', 'instrumentalness', 'liveness',\n",
       "       'valence', 'tempo', 'time_signature', 'track_genre', 'num_artists',\n",
       "       'secondary_artist_1', 'genre_category'],\n",
       "      dtype='object')"
      ]
     },
     "execution_count": 33,
     "metadata": {},
     "output_type": "execute_result"
    }
   ],
   "source": [
    "spotify_df.columns"
   ]
  },
  {
   "cell_type": "code",
   "execution_count": 8,
   "metadata": {},
   "outputs": [
    {
     "name": "stdout",
     "output_type": "stream",
     "text": [
      "Cantidad de valores únicos en la columna: 31437\n"
     ]
    }
   ],
   "source": [
    "artists = spotify_df['artists'].nunique()\n",
    "print(\"Cantidad de valores únicos en la columna:\", artists)"
   ]
  },
  {
   "cell_type": "code",
   "execution_count": 35,
   "metadata": {},
   "outputs": [
    {
     "data": {
      "text/plain": [
       "Index(['year', 'title', 'category', 'nominee', 'artist', 'workers', 'winner'], dtype='object')"
      ]
     },
     "execution_count": 35,
     "metadata": {},
     "output_type": "execute_result"
    }
   ],
   "source": [
    "grammy_df.columns"
   ]
  },
  {
   "cell_type": "code",
   "execution_count": 12,
   "metadata": {},
   "outputs": [],
   "source": [
    "grammy_df.rename(columns={'artist': 'artists'}, inplace=True)"
   ]
  },
  {
   "cell_type": "code",
   "execution_count": 9,
   "metadata": {},
   "outputs": [
    {
     "name": "stdout",
     "output_type": "stream",
     "text": [
      "Cantidad de valores únicos en la columna: 2487\n"
     ]
    }
   ],
   "source": [
    "artists = grammy_df['artist'].nunique()\n",
    "print(\"Cantidad de valores únicos en la columna:\", artists)"
   ]
  },
  {
   "cell_type": "markdown",
   "metadata": {},
   "source": [
    "## MERGE"
   ]
  },
  {
   "cell_type": "code",
   "execution_count": 52,
   "metadata": {},
   "outputs": [],
   "source": [
    "merge = grammy_df.merge(spotify_df, how='inner', left_on=['nominee', 'artist'], right_on=['track_name', 'artists'])"
   ]
  },
  {
   "cell_type": "code",
   "execution_count": 54,
   "metadata": {},
   "outputs": [
    {
     "name": "stdout",
     "output_type": "stream",
     "text": [
      "<class 'pandas.core.frame.DataFrame'>\n",
      "RangeIndex: 284 entries, 0 to 283\n",
      "Data columns (total 30 columns):\n",
      " #   Column              Non-Null Count  Dtype  \n",
      "---  ------              --------------  -----  \n",
      " 0   year                284 non-null    int64  \n",
      " 1   title               284 non-null    object \n",
      " 2   category            284 non-null    object \n",
      " 3   nominee             284 non-null    object \n",
      " 4   artist              284 non-null    object \n",
      " 5   workers             284 non-null    object \n",
      " 6   winner              284 non-null    bool   \n",
      " 7   track_id            284 non-null    object \n",
      " 8   artists             284 non-null    object \n",
      " 9   album_name          284 non-null    object \n",
      " 10  track_name          284 non-null    object \n",
      " 11  popularity          284 non-null    int64  \n",
      " 12  duration_ms         284 non-null    int64  \n",
      " 13  explicit            284 non-null    bool   \n",
      " 14  danceability        284 non-null    float64\n",
      " 15  energy              284 non-null    float64\n",
      " 16  key                 284 non-null    int64  \n",
      " 17  loudness            284 non-null    float64\n",
      " 18  mode                284 non-null    int64  \n",
      " 19  speechiness         284 non-null    float64\n",
      " 20  acousticness        284 non-null    float64\n",
      " 21  instrumentalness    284 non-null    float64\n",
      " 22  liveness            284 non-null    float64\n",
      " 23  valence             284 non-null    float64\n",
      " 24  tempo               284 non-null    float64\n",
      " 25  time_signature      284 non-null    int64  \n",
      " 26  track_genre         284 non-null    object \n",
      " 27  num_artists         284 non-null    int64  \n",
      " 28  secondary_artist_1  284 non-null    object \n",
      " 29  genre_category      284 non-null    object \n",
      "dtypes: bool(2), float64(9), int64(7), object(12)\n",
      "memory usage: 62.8+ KB\n"
     ]
    }
   ],
   "source": [
    "merge.info()"
   ]
  },
  {
   "cell_type": "code",
   "execution_count": 55,
   "metadata": {},
   "outputs": [
    {
     "data": {
      "text/plain": [
       "(284, 30)"
      ]
     },
     "execution_count": 55,
     "metadata": {},
     "output_type": "execute_result"
    }
   ],
   "source": [
    "merge.shape"
   ]
  },
  {
   "cell_type": "code",
   "execution_count": 57,
   "metadata": {},
   "outputs": [
    {
     "data": {
      "text/plain": [
       "year                   47\n",
       "title                  47\n",
       "category               70\n",
       "nominee               139\n",
       "artist                108\n",
       "workers               164\n",
       "winner                  1\n",
       "track_id              209\n",
       "artists               108\n",
       "album_name            177\n",
       "track_name            139\n",
       "popularity             57\n",
       "duration_ms           162\n",
       "explicit                2\n",
       "danceability          146\n",
       "energy                156\n",
       "key                    12\n",
       "loudness              170\n",
       "mode                    2\n",
       "speechiness           146\n",
       "acousticness          160\n",
       "instrumentalness      119\n",
       "liveness              147\n",
       "valence               160\n",
       "tempo                 176\n",
       "time_signature          5\n",
       "track_genre            42\n",
       "num_artists             1\n",
       "secondary_artist_1      1\n",
       "genre_category          8\n",
       "dtype: int64"
      ]
     },
     "execution_count": 57,
     "metadata": {},
     "output_type": "execute_result"
    }
   ],
   "source": [
    "merge.nunique()"
   ]
  },
  {
   "cell_type": "code",
   "execution_count": 63,
   "metadata": {},
   "outputs": [],
   "source": [
    "columnas_a_eliminar = ['track_id', 'duration_ms', 'danceability', 'energy', 'key', \n",
    "                       'loudness', 'mode', 'speechiness', 'acousticness', 'instrumentalness',\n",
    "                         'tempo', 'liveness', 'valence', 'time_signature']\n",
    "\n",
    "# Eliminar las columnas en una sola línea\n",
    "df = merge.drop(columns=columnas_a_eliminar)"
   ]
  },
  {
   "cell_type": "code",
   "execution_count": 64,
   "metadata": {},
   "outputs": [
    {
     "data": {
      "text/plain": [
       "Index(['year', 'title', 'category', 'nominee', 'artist', 'workers', 'winner',\n",
       "       'artists', 'album_name', 'track_name', 'popularity', 'explicit',\n",
       "       'track_genre', 'num_artists', 'secondary_artist_1', 'genre_category'],\n",
       "      dtype='object')"
      ]
     },
     "execution_count": 64,
     "metadata": {},
     "output_type": "execute_result"
    }
   ],
   "source": [
    "df.columns"
   ]
  },
  {
   "cell_type": "code",
   "execution_count": 61,
   "metadata": {},
   "outputs": [
    {
     "data": {
      "text/plain": [
       "Index(['year', 'title', 'category', 'nominee', 'artist', 'workers', 'winner',\n",
       "       'track_id', 'artists', 'album_name', 'track_name', 'popularity',\n",
       "       'duration_ms', 'explicit', 'danceability', 'energy', 'key', 'loudness',\n",
       "       'mode', 'speechiness', 'acousticness', 'instrumentalness', 'liveness',\n",
       "       'valence', 'tempo', 'time_signature', 'track_genre', 'num_artists',\n",
       "       'secondary_artist_1', 'genre_category'],\n",
       "      dtype='object')"
      ]
     },
     "execution_count": 61,
     "metadata": {},
     "output_type": "execute_result"
    }
   ],
   "source": [
    "merge.columns"
   ]
  }
 ],
 "metadata": {
  "kernelspec": {
   "display_name": "venv",
   "language": "python",
   "name": "python3"
  },
  "language_info": {
   "codemirror_mode": {
    "name": "ipython",
    "version": 3
   },
   "file_extension": ".py",
   "mimetype": "text/x-python",
   "name": "python",
   "nbconvert_exporter": "python",
   "pygments_lexer": "ipython3",
   "version": "3.12.2"
  }
 },
 "nbformat": 4,
 "nbformat_minor": 2
}
