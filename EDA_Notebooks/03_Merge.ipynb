{
 "cells": [
  {
   "cell_type": "markdown",
   "metadata": {},
   "source": [
    "### Merge Spotify and Grammy "
   ]
  },
  {
   "cell_type": "markdown",
   "metadata": {},
   "source": [
    "Import the libreries and modules"
   ]
  },
  {
   "cell_type": "code",
   "execution_count": 1,
   "metadata": {},
   "outputs": [],
   "source": [
    "import pandas as pd\n",
    "import numpy as np\n",
    "import matplotlib.pyplot as plt\n",
    "import seaborn as sns"
   ]
  },
  {
   "cell_type": "markdown",
   "metadata": {},
   "source": [
    "### Grammy Dataframe\n",
    "\n",
    "Read CSV grammy"
   ]
  },
  {
   "cell_type": "code",
   "execution_count": 2,
   "metadata": {},
   "outputs": [
    {
     "data": {
      "text/html": [
       "<div>\n",
       "<style scoped>\n",
       "    .dataframe tbody tr th:only-of-type {\n",
       "        vertical-align: middle;\n",
       "    }\n",
       "\n",
       "    .dataframe tbody tr th {\n",
       "        vertical-align: top;\n",
       "    }\n",
       "\n",
       "    .dataframe thead th {\n",
       "        text-align: right;\n",
       "    }\n",
       "</style>\n",
       "<table border=\"1\" class=\"dataframe\">\n",
       "  <thead>\n",
       "    <tr style=\"text-align: right;\">\n",
       "      <th></th>\n",
       "      <th>year</th>\n",
       "      <th>title</th>\n",
       "      <th>category</th>\n",
       "      <th>nominee</th>\n",
       "      <th>artist</th>\n",
       "      <th>workers</th>\n",
       "      <th>grammy_nominee</th>\n",
       "    </tr>\n",
       "  </thead>\n",
       "  <tbody>\n",
       "    <tr>\n",
       "      <th>0</th>\n",
       "      <td>2019</td>\n",
       "      <td>62nd Annual GRAMMY Awards  (2019)</td>\n",
       "      <td>Record Of The Year</td>\n",
       "      <td>Bad Guy</td>\n",
       "      <td>Billie Eilish</td>\n",
       "      <td>Finneas O'Connell, producer; Rob Kinelski &amp; Fi...</td>\n",
       "      <td>True</td>\n",
       "    </tr>\n",
       "    <tr>\n",
       "      <th>1</th>\n",
       "      <td>2019</td>\n",
       "      <td>62nd Annual GRAMMY Awards  (2019)</td>\n",
       "      <td>Record Of The Year</td>\n",
       "      <td>Hey, Ma</td>\n",
       "      <td>Bon Iver</td>\n",
       "      <td>BJ Burton, Brad Cook, Chris Messina &amp; Justin V...</td>\n",
       "      <td>True</td>\n",
       "    </tr>\n",
       "    <tr>\n",
       "      <th>2</th>\n",
       "      <td>2019</td>\n",
       "      <td>62nd Annual GRAMMY Awards  (2019)</td>\n",
       "      <td>Record Of The Year</td>\n",
       "      <td>7 rings</td>\n",
       "      <td>Ariana Grande</td>\n",
       "      <td>Charles Anderson, Tommy Brown, Michael Foster ...</td>\n",
       "      <td>True</td>\n",
       "    </tr>\n",
       "    <tr>\n",
       "      <th>3</th>\n",
       "      <td>2019</td>\n",
       "      <td>62nd Annual GRAMMY Awards  (2019)</td>\n",
       "      <td>Record Of The Year</td>\n",
       "      <td>Hard Place</td>\n",
       "      <td>H.E.R.</td>\n",
       "      <td>Rodney âDarkchildâ Jerkins, producer; Jose...</td>\n",
       "      <td>True</td>\n",
       "    </tr>\n",
       "    <tr>\n",
       "      <th>4</th>\n",
       "      <td>2019</td>\n",
       "      <td>62nd Annual GRAMMY Awards  (2019)</td>\n",
       "      <td>Record Of The Year</td>\n",
       "      <td>Talk</td>\n",
       "      <td>Khalid</td>\n",
       "      <td>Disclosure &amp; Denis Kosiak, producers; Ingmar C...</td>\n",
       "      <td>True</td>\n",
       "    </tr>\n",
       "  </tbody>\n",
       "</table>\n",
       "</div>"
      ],
      "text/plain": [
       "   year                              title            category     nominee  \\\n",
       "0  2019  62nd Annual GRAMMY Awards  (2019)  Record Of The Year     Bad Guy   \n",
       "1  2019  62nd Annual GRAMMY Awards  (2019)  Record Of The Year     Hey, Ma   \n",
       "2  2019  62nd Annual GRAMMY Awards  (2019)  Record Of The Year     7 rings   \n",
       "3  2019  62nd Annual GRAMMY Awards  (2019)  Record Of The Year  Hard Place   \n",
       "4  2019  62nd Annual GRAMMY Awards  (2019)  Record Of The Year        Talk   \n",
       "\n",
       "          artist                                            workers  \\\n",
       "0  Billie Eilish  Finneas O'Connell, producer; Rob Kinelski & Fi...   \n",
       "1       Bon Iver  BJ Burton, Brad Cook, Chris Messina & Justin V...   \n",
       "2  Ariana Grande  Charles Anderson, Tommy Brown, Michael Foster ...   \n",
       "3         H.E.R.  Rodney âDarkchildâ Jerkins, producer; Jose...   \n",
       "4         Khalid  Disclosure & Denis Kosiak, producers; Ingmar C...   \n",
       "\n",
       "   grammy_nominee  \n",
       "0            True  \n",
       "1            True  \n",
       "2            True  \n",
       "3            True  \n",
       "4            True  "
      ]
     },
     "execution_count": 2,
     "metadata": {},
     "output_type": "execute_result"
    }
   ],
   "source": [
    "csv_file = 'grammynew.csv'\n",
    "grammy_df = pd.read_csv(csv_file, sep=',', encoding='latin-1')\n",
    "grammy_df.head()"
   ]
  },
  {
   "cell_type": "markdown",
   "metadata": {},
   "source": [
    "In the grammy DataFrame, there are a total of 4804 records and 7 columns."
   ]
  },
  {
   "cell_type": "code",
   "execution_count": 3,
   "metadata": {},
   "outputs": [
    {
     "data": {
      "text/plain": [
       "(4804, 7)"
      ]
     },
     "execution_count": 3,
     "metadata": {},
     "output_type": "execute_result"
    }
   ],
   "source": [
    "grammy_df.shape"
   ]
  },
  {
   "cell_type": "markdown",
   "metadata": {},
   "source": [
    "### Spotify Dataframe\n",
    "\n",
    "Read CSV Spotify"
   ]
  },
  {
   "cell_type": "code",
   "execution_count": 4,
   "metadata": {},
   "outputs": [
    {
     "data": {
      "text/html": [
       "<div>\n",
       "<style scoped>\n",
       "    .dataframe tbody tr th:only-of-type {\n",
       "        vertical-align: middle;\n",
       "    }\n",
       "\n",
       "    .dataframe tbody tr th {\n",
       "        vertical-align: top;\n",
       "    }\n",
       "\n",
       "    .dataframe thead th {\n",
       "        text-align: right;\n",
       "    }\n",
       "</style>\n",
       "<table border=\"1\" class=\"dataframe\">\n",
       "  <thead>\n",
       "    <tr style=\"text-align: right;\">\n",
       "      <th></th>\n",
       "      <th>artists</th>\n",
       "      <th>album_name</th>\n",
       "      <th>track_name</th>\n",
       "      <th>popularity</th>\n",
       "      <th>duration_ms</th>\n",
       "      <th>explicit</th>\n",
       "      <th>danceability</th>\n",
       "      <th>energy</th>\n",
       "      <th>key</th>\n",
       "      <th>loudness</th>\n",
       "      <th>...</th>\n",
       "      <th>instrumentalness</th>\n",
       "      <th>liveness</th>\n",
       "      <th>valence</th>\n",
       "      <th>tempo</th>\n",
       "      <th>time_signature</th>\n",
       "      <th>track_genre</th>\n",
       "      <th>num_artists</th>\n",
       "      <th>secondary_artist</th>\n",
       "      <th>popularity_category</th>\n",
       "      <th>genre_category</th>\n",
       "    </tr>\n",
       "  </thead>\n",
       "  <tbody>\n",
       "    <tr>\n",
       "      <th>0</th>\n",
       "      <td>Gen Hoshino</td>\n",
       "      <td>Comedy</td>\n",
       "      <td>Comedy</td>\n",
       "      <td>73</td>\n",
       "      <td>230666</td>\n",
       "      <td>False</td>\n",
       "      <td>0.676</td>\n",
       "      <td>0.4610</td>\n",
       "      <td>1</td>\n",
       "      <td>-6.746</td>\n",
       "      <td>...</td>\n",
       "      <td>0.000001</td>\n",
       "      <td>0.3580</td>\n",
       "      <td>0.715</td>\n",
       "      <td>87.917</td>\n",
       "      <td>4</td>\n",
       "      <td>acoustic</td>\n",
       "      <td>1</td>\n",
       "      <td>No second artist</td>\n",
       "      <td>High</td>\n",
       "      <td>Acoustic</td>\n",
       "    </tr>\n",
       "    <tr>\n",
       "      <th>1</th>\n",
       "      <td>Ben Woodward</td>\n",
       "      <td>Ghost (Acoustic)</td>\n",
       "      <td>Ghost - Acoustic</td>\n",
       "      <td>55</td>\n",
       "      <td>149610</td>\n",
       "      <td>False</td>\n",
       "      <td>0.420</td>\n",
       "      <td>0.1660</td>\n",
       "      <td>1</td>\n",
       "      <td>-17.235</td>\n",
       "      <td>...</td>\n",
       "      <td>0.000006</td>\n",
       "      <td>0.1010</td>\n",
       "      <td>0.267</td>\n",
       "      <td>77.489</td>\n",
       "      <td>4</td>\n",
       "      <td>acoustic</td>\n",
       "      <td>1</td>\n",
       "      <td>No second artist</td>\n",
       "      <td>Medium</td>\n",
       "      <td>Acoustic</td>\n",
       "    </tr>\n",
       "    <tr>\n",
       "      <th>2</th>\n",
       "      <td>Ingrid Michaelson;ZAYN</td>\n",
       "      <td>To Begin Again</td>\n",
       "      <td>To Begin Again</td>\n",
       "      <td>57</td>\n",
       "      <td>210826</td>\n",
       "      <td>False</td>\n",
       "      <td>0.438</td>\n",
       "      <td>0.3590</td>\n",
       "      <td>0</td>\n",
       "      <td>-9.734</td>\n",
       "      <td>...</td>\n",
       "      <td>0.000000</td>\n",
       "      <td>0.1170</td>\n",
       "      <td>0.120</td>\n",
       "      <td>76.332</td>\n",
       "      <td>4</td>\n",
       "      <td>acoustic</td>\n",
       "      <td>2</td>\n",
       "      <td>ZAYN</td>\n",
       "      <td>Medium</td>\n",
       "      <td>Acoustic</td>\n",
       "    </tr>\n",
       "    <tr>\n",
       "      <th>3</th>\n",
       "      <td>Kina Grannis</td>\n",
       "      <td>Crazy Rich Asians (Original Motion Picture Sou...</td>\n",
       "      <td>Can't Help Falling In Love</td>\n",
       "      <td>71</td>\n",
       "      <td>201933</td>\n",
       "      <td>False</td>\n",
       "      <td>0.266</td>\n",
       "      <td>0.0596</td>\n",
       "      <td>0</td>\n",
       "      <td>-18.515</td>\n",
       "      <td>...</td>\n",
       "      <td>0.000071</td>\n",
       "      <td>0.1320</td>\n",
       "      <td>0.143</td>\n",
       "      <td>181.740</td>\n",
       "      <td>3</td>\n",
       "      <td>acoustic</td>\n",
       "      <td>1</td>\n",
       "      <td>No second artist</td>\n",
       "      <td>High</td>\n",
       "      <td>Acoustic</td>\n",
       "    </tr>\n",
       "    <tr>\n",
       "      <th>4</th>\n",
       "      <td>Chord Overstreet</td>\n",
       "      <td>Hold On</td>\n",
       "      <td>Hold On</td>\n",
       "      <td>82</td>\n",
       "      <td>198853</td>\n",
       "      <td>False</td>\n",
       "      <td>0.618</td>\n",
       "      <td>0.4430</td>\n",
       "      <td>2</td>\n",
       "      <td>-9.681</td>\n",
       "      <td>...</td>\n",
       "      <td>0.000000</td>\n",
       "      <td>0.0829</td>\n",
       "      <td>0.167</td>\n",
       "      <td>119.949</td>\n",
       "      <td>4</td>\n",
       "      <td>acoustic</td>\n",
       "      <td>1</td>\n",
       "      <td>No second artist</td>\n",
       "      <td>High</td>\n",
       "      <td>Acoustic</td>\n",
       "    </tr>\n",
       "  </tbody>\n",
       "</table>\n",
       "<p>5 rows × 23 columns</p>\n",
       "</div>"
      ],
      "text/plain": [
       "                  artists                                         album_name  \\\n",
       "0             Gen Hoshino                                             Comedy   \n",
       "1            Ben Woodward                                   Ghost (Acoustic)   \n",
       "2  Ingrid Michaelson;ZAYN                                     To Begin Again   \n",
       "3            Kina Grannis  Crazy Rich Asians (Original Motion Picture Sou...   \n",
       "4        Chord Overstreet                                            Hold On   \n",
       "\n",
       "                   track_name  popularity  duration_ms  explicit  \\\n",
       "0                      Comedy          73       230666     False   \n",
       "1            Ghost - Acoustic          55       149610     False   \n",
       "2              To Begin Again          57       210826     False   \n",
       "3  Can't Help Falling In Love          71       201933     False   \n",
       "4                     Hold On          82       198853     False   \n",
       "\n",
       "   danceability  energy  key  loudness  ...  instrumentalness  liveness  \\\n",
       "0         0.676  0.4610    1    -6.746  ...          0.000001    0.3580   \n",
       "1         0.420  0.1660    1   -17.235  ...          0.000006    0.1010   \n",
       "2         0.438  0.3590    0    -9.734  ...          0.000000    0.1170   \n",
       "3         0.266  0.0596    0   -18.515  ...          0.000071    0.1320   \n",
       "4         0.618  0.4430    2    -9.681  ...          0.000000    0.0829   \n",
       "\n",
       "   valence    tempo  time_signature  track_genre  num_artists  \\\n",
       "0    0.715   87.917               4     acoustic            1   \n",
       "1    0.267   77.489               4     acoustic            1   \n",
       "2    0.120   76.332               4     acoustic            2   \n",
       "3    0.143  181.740               3     acoustic            1   \n",
       "4    0.167  119.949               4     acoustic            1   \n",
       "\n",
       "   secondary_artist popularity_category  genre_category  \n",
       "0  No second artist                High        Acoustic  \n",
       "1  No second artist              Medium        Acoustic  \n",
       "2              ZAYN              Medium        Acoustic  \n",
       "3  No second artist                High        Acoustic  \n",
       "4  No second artist                High        Acoustic  \n",
       "\n",
       "[5 rows x 23 columns]"
      ]
     },
     "execution_count": 4,
     "metadata": {},
     "output_type": "execute_result"
    }
   ],
   "source": [
    "csv_file2 = 'spotifynew.csv'\n",
    "spotify_df = pd.read_csv(csv_file2, sep=',', encoding='latin-1')\n",
    "spotify_df.head()"
   ]
  },
  {
   "cell_type": "markdown",
   "metadata": {},
   "source": [
    "In the spotify DataFrame, there are a total of 89740 records and 23 columns."
   ]
  },
  {
   "cell_type": "code",
   "execution_count": 5,
   "metadata": {},
   "outputs": [
    {
     "data": {
      "text/plain": [
       "(89740, 23)"
      ]
     },
     "execution_count": 5,
     "metadata": {},
     "output_type": "execute_result"
    }
   ],
   "source": [
    "spotify_df.shape"
   ]
  },
  {
   "cell_type": "markdown",
   "metadata": {},
   "source": [
    "## MERGE"
   ]
  },
  {
   "cell_type": "markdown",
   "metadata": {},
   "source": [
    "The merge() method in pandas combines two DataFrames (spotify_df and grammy_df) using the columns 'track_name' and 'nominee' as merge keys. A left join (how='left') is performed, retaining all rows of spotify_df and adding the corresponding rows of grammy_df according to the specified combination keys. This enriches the resulting DataFrame df with additional information from grammy_df based on the relationship between the selected columns."
   ]
  },
  {
   "cell_type": "code",
   "execution_count": 6,
   "metadata": {},
   "outputs": [],
   "source": [
    "df = spotify_df.merge(grammy_df, how='left', left_on='track_name', right_on='nominee')"
   ]
  },
  {
   "cell_type": "markdown",
   "metadata": {},
   "source": [
    "After performing the merge operation, our new dataset contains 90,336 records and 30 columns."
   ]
  },
  {
   "cell_type": "code",
   "execution_count": 7,
   "metadata": {},
   "outputs": [
    {
     "data": {
      "text/plain": [
       "(90336, 30)"
      ]
     },
     "execution_count": 7,
     "metadata": {},
     "output_type": "execute_result"
    }
   ],
   "source": [
    "df.shape"
   ]
  },
  {
   "cell_type": "markdown",
   "metadata": {},
   "source": [
    "An overview of the new data set "
   ]
  },
  {
   "cell_type": "code",
   "execution_count": 8,
   "metadata": {},
   "outputs": [
    {
     "data": {
      "text/html": [
       "<div>\n",
       "<style scoped>\n",
       "    .dataframe tbody tr th:only-of-type {\n",
       "        vertical-align: middle;\n",
       "    }\n",
       "\n",
       "    .dataframe tbody tr th {\n",
       "        vertical-align: top;\n",
       "    }\n",
       "\n",
       "    .dataframe thead th {\n",
       "        text-align: right;\n",
       "    }\n",
       "</style>\n",
       "<table border=\"1\" class=\"dataframe\">\n",
       "  <thead>\n",
       "    <tr style=\"text-align: right;\">\n",
       "      <th></th>\n",
       "      <th>artists</th>\n",
       "      <th>album_name</th>\n",
       "      <th>track_name</th>\n",
       "      <th>popularity</th>\n",
       "      <th>duration_ms</th>\n",
       "      <th>explicit</th>\n",
       "      <th>danceability</th>\n",
       "      <th>energy</th>\n",
       "      <th>key</th>\n",
       "      <th>loudness</th>\n",
       "      <th>...</th>\n",
       "      <th>secondary_artist</th>\n",
       "      <th>popularity_category</th>\n",
       "      <th>genre_category</th>\n",
       "      <th>year</th>\n",
       "      <th>title</th>\n",
       "      <th>category</th>\n",
       "      <th>nominee</th>\n",
       "      <th>artist</th>\n",
       "      <th>workers</th>\n",
       "      <th>grammy_nominee</th>\n",
       "    </tr>\n",
       "  </thead>\n",
       "  <tbody>\n",
       "    <tr>\n",
       "      <th>0</th>\n",
       "      <td>Gen Hoshino</td>\n",
       "      <td>Comedy</td>\n",
       "      <td>Comedy</td>\n",
       "      <td>73</td>\n",
       "      <td>230666</td>\n",
       "      <td>False</td>\n",
       "      <td>0.676</td>\n",
       "      <td>0.4610</td>\n",
       "      <td>1</td>\n",
       "      <td>-6.746</td>\n",
       "      <td>...</td>\n",
       "      <td>No second artist</td>\n",
       "      <td>High</td>\n",
       "      <td>Acoustic</td>\n",
       "      <td>NaN</td>\n",
       "      <td>NaN</td>\n",
       "      <td>NaN</td>\n",
       "      <td>NaN</td>\n",
       "      <td>NaN</td>\n",
       "      <td>NaN</td>\n",
       "      <td>NaN</td>\n",
       "    </tr>\n",
       "    <tr>\n",
       "      <th>1</th>\n",
       "      <td>Ben Woodward</td>\n",
       "      <td>Ghost (Acoustic)</td>\n",
       "      <td>Ghost - Acoustic</td>\n",
       "      <td>55</td>\n",
       "      <td>149610</td>\n",
       "      <td>False</td>\n",
       "      <td>0.420</td>\n",
       "      <td>0.1660</td>\n",
       "      <td>1</td>\n",
       "      <td>-17.235</td>\n",
       "      <td>...</td>\n",
       "      <td>No second artist</td>\n",
       "      <td>Medium</td>\n",
       "      <td>Acoustic</td>\n",
       "      <td>NaN</td>\n",
       "      <td>NaN</td>\n",
       "      <td>NaN</td>\n",
       "      <td>NaN</td>\n",
       "      <td>NaN</td>\n",
       "      <td>NaN</td>\n",
       "      <td>NaN</td>\n",
       "    </tr>\n",
       "    <tr>\n",
       "      <th>2</th>\n",
       "      <td>Ingrid Michaelson;ZAYN</td>\n",
       "      <td>To Begin Again</td>\n",
       "      <td>To Begin Again</td>\n",
       "      <td>57</td>\n",
       "      <td>210826</td>\n",
       "      <td>False</td>\n",
       "      <td>0.438</td>\n",
       "      <td>0.3590</td>\n",
       "      <td>0</td>\n",
       "      <td>-9.734</td>\n",
       "      <td>...</td>\n",
       "      <td>ZAYN</td>\n",
       "      <td>Medium</td>\n",
       "      <td>Acoustic</td>\n",
       "      <td>NaN</td>\n",
       "      <td>NaN</td>\n",
       "      <td>NaN</td>\n",
       "      <td>NaN</td>\n",
       "      <td>NaN</td>\n",
       "      <td>NaN</td>\n",
       "      <td>NaN</td>\n",
       "    </tr>\n",
       "    <tr>\n",
       "      <th>3</th>\n",
       "      <td>Kina Grannis</td>\n",
       "      <td>Crazy Rich Asians (Original Motion Picture Sou...</td>\n",
       "      <td>Can't Help Falling In Love</td>\n",
       "      <td>71</td>\n",
       "      <td>201933</td>\n",
       "      <td>False</td>\n",
       "      <td>0.266</td>\n",
       "      <td>0.0596</td>\n",
       "      <td>0</td>\n",
       "      <td>-18.515</td>\n",
       "      <td>...</td>\n",
       "      <td>No second artist</td>\n",
       "      <td>High</td>\n",
       "      <td>Acoustic</td>\n",
       "      <td>NaN</td>\n",
       "      <td>NaN</td>\n",
       "      <td>NaN</td>\n",
       "      <td>NaN</td>\n",
       "      <td>NaN</td>\n",
       "      <td>NaN</td>\n",
       "      <td>NaN</td>\n",
       "    </tr>\n",
       "    <tr>\n",
       "      <th>4</th>\n",
       "      <td>Chord Overstreet</td>\n",
       "      <td>Hold On</td>\n",
       "      <td>Hold On</td>\n",
       "      <td>82</td>\n",
       "      <td>198853</td>\n",
       "      <td>False</td>\n",
       "      <td>0.618</td>\n",
       "      <td>0.4430</td>\n",
       "      <td>2</td>\n",
       "      <td>-9.681</td>\n",
       "      <td>...</td>\n",
       "      <td>No second artist</td>\n",
       "      <td>High</td>\n",
       "      <td>Acoustic</td>\n",
       "      <td>NaN</td>\n",
       "      <td>NaN</td>\n",
       "      <td>NaN</td>\n",
       "      <td>NaN</td>\n",
       "      <td>NaN</td>\n",
       "      <td>NaN</td>\n",
       "      <td>NaN</td>\n",
       "    </tr>\n",
       "  </tbody>\n",
       "</table>\n",
       "<p>5 rows × 30 columns</p>\n",
       "</div>"
      ],
      "text/plain": [
       "                  artists                                         album_name  \\\n",
       "0             Gen Hoshino                                             Comedy   \n",
       "1            Ben Woodward                                   Ghost (Acoustic)   \n",
       "2  Ingrid Michaelson;ZAYN                                     To Begin Again   \n",
       "3            Kina Grannis  Crazy Rich Asians (Original Motion Picture Sou...   \n",
       "4        Chord Overstreet                                            Hold On   \n",
       "\n",
       "                   track_name  popularity  duration_ms  explicit  \\\n",
       "0                      Comedy          73       230666     False   \n",
       "1            Ghost - Acoustic          55       149610     False   \n",
       "2              To Begin Again          57       210826     False   \n",
       "3  Can't Help Falling In Love          71       201933     False   \n",
       "4                     Hold On          82       198853     False   \n",
       "\n",
       "   danceability  energy  key  loudness  ...  secondary_artist  \\\n",
       "0         0.676  0.4610    1    -6.746  ...  No second artist   \n",
       "1         0.420  0.1660    1   -17.235  ...  No second artist   \n",
       "2         0.438  0.3590    0    -9.734  ...              ZAYN   \n",
       "3         0.266  0.0596    0   -18.515  ...  No second artist   \n",
       "4         0.618  0.4430    2    -9.681  ...  No second artist   \n",
       "\n",
       "   popularity_category  genre_category  year  title  category  nominee  \\\n",
       "0                 High        Acoustic   NaN    NaN       NaN      NaN   \n",
       "1               Medium        Acoustic   NaN    NaN       NaN      NaN   \n",
       "2               Medium        Acoustic   NaN    NaN       NaN      NaN   \n",
       "3                 High        Acoustic   NaN    NaN       NaN      NaN   \n",
       "4                 High        Acoustic   NaN    NaN       NaN      NaN   \n",
       "\n",
       "   artist workers  grammy_nominee  \n",
       "0     NaN     NaN             NaN  \n",
       "1     NaN     NaN             NaN  \n",
       "2     NaN     NaN             NaN  \n",
       "3     NaN     NaN             NaN  \n",
       "4     NaN     NaN             NaN  \n",
       "\n",
       "[5 rows x 30 columns]"
      ]
     },
     "execution_count": 8,
     "metadata": {},
     "output_type": "execute_result"
    }
   ],
   "source": [
    "df.head()"
   ]
  },
  {
   "cell_type": "code",
   "execution_count": 9,
   "metadata": {},
   "outputs": [
    {
     "name": "stdout",
     "output_type": "stream",
     "text": [
      "<class 'pandas.core.frame.DataFrame'>\n",
      "RangeIndex: 90336 entries, 0 to 90335\n",
      "Data columns (total 30 columns):\n",
      " #   Column               Non-Null Count  Dtype  \n",
      "---  ------               --------------  -----  \n",
      " 0   artists              90336 non-null  object \n",
      " 1   album_name           90336 non-null  object \n",
      " 2   track_name           90336 non-null  object \n",
      " 3   popularity           90336 non-null  int64  \n",
      " 4   duration_ms          90336 non-null  int64  \n",
      " 5   explicit             90336 non-null  bool   \n",
      " 6   danceability         90336 non-null  float64\n",
      " 7   energy               90336 non-null  float64\n",
      " 8   key                  90336 non-null  int64  \n",
      " 9   loudness             90336 non-null  float64\n",
      " 10  mode                 90336 non-null  int64  \n",
      " 11  speechiness          90336 non-null  float64\n",
      " 12  acousticness         90336 non-null  float64\n",
      " 13  instrumentalness     90336 non-null  float64\n",
      " 14  liveness             90336 non-null  float64\n",
      " 15  valence              90336 non-null  float64\n",
      " 16  tempo                90336 non-null  float64\n",
      " 17  time_signature       90336 non-null  int64  \n",
      " 18  track_genre          90336 non-null  object \n",
      " 19  num_artists          90336 non-null  int64  \n",
      " 20  secondary_artist     90334 non-null  object \n",
      " 21  popularity_category  90336 non-null  object \n",
      " 22  genre_category       90336 non-null  object \n",
      " 23  year                 2341 non-null   float64\n",
      " 24  title                2341 non-null   object \n",
      " 25  category             2341 non-null   object \n",
      " 26  nominee              2341 non-null   object \n",
      " 27  artist               2341 non-null   object \n",
      " 28  workers              2341 non-null   object \n",
      " 29  grammy_nominee       2341 non-null   object \n",
      "dtypes: bool(1), float64(10), int64(6), object(13)\n",
      "memory usage: 20.1+ MB\n"
     ]
    }
   ],
   "source": [
    "df.info()"
   ]
  },
  {
   "cell_type": "markdown",
   "metadata": {},
   "source": [
    " ### Transformation : Grammy Nominee column"
   ]
  },
  {
   "cell_type": "markdown",
   "metadata": {},
   "source": [
    "We transform the 'winner' column into a binary column where 1 represents that the record corresponds to a nominee and 0 represents that it does not. This facilitates the use of this information in further analysis."
   ]
  },
  {
   "cell_type": "code",
   "execution_count": 10,
   "metadata": {},
   "outputs": [],
   "source": [
    "df['grammy_nominee'] = df['grammy_nominee'].notna().astype(int)"
   ]
  },
  {
   "cell_type": "markdown",
   "metadata": {},
   "source": [
    "In the dataset we are analyzing, some columns such as  year, title, category, nominee, artist, and workers have null values. These null values may be the result of the merge process between different datasets, which may have generated incomplete records in these columns."
   ]
  },
  {
   "cell_type": "code",
   "execution_count": 11,
   "metadata": {},
   "outputs": [
    {
     "data": {
      "text/plain": [
       "artists                    0\n",
       "album_name                 0\n",
       "track_name                 0\n",
       "popularity                 0\n",
       "duration_ms                0\n",
       "explicit                   0\n",
       "danceability               0\n",
       "energy                     0\n",
       "key                        0\n",
       "loudness                   0\n",
       "mode                       0\n",
       "speechiness                0\n",
       "acousticness               0\n",
       "instrumentalness           0\n",
       "liveness                   0\n",
       "valence                    0\n",
       "tempo                      0\n",
       "time_signature             0\n",
       "track_genre                0\n",
       "num_artists                0\n",
       "secondary_artist           2\n",
       "popularity_category        0\n",
       "genre_category             0\n",
       "year                   87995\n",
       "title                  87995\n",
       "category               87995\n",
       "nominee                87995\n",
       "artist                 87995\n",
       "workers                87995\n",
       "grammy_nominee             0\n",
       "dtype: int64"
      ]
     },
     "execution_count": 11,
     "metadata": {},
     "output_type": "execute_result"
    }
   ],
   "source": [
    "df.isnull().sum()"
   ]
  },
  {
   "cell_type": "markdown",
   "metadata": {},
   "source": [
    "Since the year, title, category, nominee, artist and workers columns contain more than 97% of null values in our data set, it has been decided to eliminate these columns due to their lack of significant contribution to the subsequent analysis."
   ]
  },
  {
   "cell_type": "code",
   "execution_count": 12,
   "metadata": {},
   "outputs": [],
   "source": [
    "df.drop(columns=['year', 'title', 'category', 'nominee', 'artist', 'workers'], inplace=True)"
   ]
  },
  {
   "cell_type": "code",
   "execution_count": 13,
   "metadata": {},
   "outputs": [
    {
     "data": {
      "text/plain": [
       "artists                0\n",
       "album_name             0\n",
       "track_name             0\n",
       "popularity             0\n",
       "duration_ms            0\n",
       "explicit               0\n",
       "danceability           0\n",
       "energy                 0\n",
       "key                    0\n",
       "loudness               0\n",
       "mode                   0\n",
       "speechiness            0\n",
       "acousticness           0\n",
       "instrumentalness       0\n",
       "liveness               0\n",
       "valence                0\n",
       "tempo                  0\n",
       "time_signature         0\n",
       "track_genre            0\n",
       "num_artists            0\n",
       "secondary_artist       2\n",
       "popularity_category    0\n",
       "genre_category         0\n",
       "grammy_nominee         0\n",
       "dtype: int64"
      ]
     },
     "execution_count": 13,
     "metadata": {},
     "output_type": "execute_result"
    }
   ],
   "source": [
    "df.isnull().sum()"
   ]
  },
  {
   "cell_type": "markdown",
   "metadata": {},
   "source": [
    "### Transformation: Eliminate Null Values\n",
    "\n",
    "We have eliminated these two null values since they do not have a significant impact on the data set."
   ]
  },
  {
   "cell_type": "code",
   "execution_count": 14,
   "metadata": {},
   "outputs": [
    {
     "data": {
      "text/html": [
       "<div>\n",
       "<style scoped>\n",
       "    .dataframe tbody tr th:only-of-type {\n",
       "        vertical-align: middle;\n",
       "    }\n",
       "\n",
       "    .dataframe tbody tr th {\n",
       "        vertical-align: top;\n",
       "    }\n",
       "\n",
       "    .dataframe thead th {\n",
       "        text-align: right;\n",
       "    }\n",
       "</style>\n",
       "<table border=\"1\" class=\"dataframe\">\n",
       "  <thead>\n",
       "    <tr style=\"text-align: right;\">\n",
       "      <th></th>\n",
       "      <th>artists</th>\n",
       "      <th>album_name</th>\n",
       "      <th>track_name</th>\n",
       "      <th>popularity</th>\n",
       "      <th>duration_ms</th>\n",
       "      <th>explicit</th>\n",
       "      <th>danceability</th>\n",
       "      <th>energy</th>\n",
       "      <th>key</th>\n",
       "      <th>loudness</th>\n",
       "      <th>...</th>\n",
       "      <th>liveness</th>\n",
       "      <th>valence</th>\n",
       "      <th>tempo</th>\n",
       "      <th>time_signature</th>\n",
       "      <th>track_genre</th>\n",
       "      <th>num_artists</th>\n",
       "      <th>secondary_artist</th>\n",
       "      <th>popularity_category</th>\n",
       "      <th>genre_category</th>\n",
       "      <th>grammy_nominee</th>\n",
       "    </tr>\n",
       "  </thead>\n",
       "  <tbody>\n",
       "    <tr>\n",
       "      <th>37417</th>\n",
       "      <td>Angels of Liberty;N/A</td>\n",
       "      <td>Telepathine</td>\n",
       "      <td>Sophia</td>\n",
       "      <td>22</td>\n",
       "      <td>244095</td>\n",
       "      <td>False</td>\n",
       "      <td>0.324</td>\n",
       "      <td>0.955</td>\n",
       "      <td>1</td>\n",
       "      <td>-0.866</td>\n",
       "      <td>...</td>\n",
       "      <td>0.4130</td>\n",
       "      <td>0.358</td>\n",
       "      <td>146.570</td>\n",
       "      <td>4</td>\n",
       "      <td>goth</td>\n",
       "      <td>2</td>\n",
       "      <td>NaN</td>\n",
       "      <td>Low</td>\n",
       "      <td>Rock</td>\n",
       "      <td>0</td>\n",
       "    </tr>\n",
       "    <tr>\n",
       "      <th>37660</th>\n",
       "      <td>Angels of Liberty;N/A</td>\n",
       "      <td>Telepathine</td>\n",
       "      <td>Leda</td>\n",
       "      <td>21</td>\n",
       "      <td>278473</td>\n",
       "      <td>False</td>\n",
       "      <td>0.449</td>\n",
       "      <td>0.930</td>\n",
       "      <td>9</td>\n",
       "      <td>-1.085</td>\n",
       "      <td>...</td>\n",
       "      <td>0.0527</td>\n",
       "      <td>0.315</td>\n",
       "      <td>130.983</td>\n",
       "      <td>4</td>\n",
       "      <td>goth</td>\n",
       "      <td>2</td>\n",
       "      <td>NaN</td>\n",
       "      <td>Low</td>\n",
       "      <td>Rock</td>\n",
       "      <td>0</td>\n",
       "    </tr>\n",
       "  </tbody>\n",
       "</table>\n",
       "<p>2 rows × 24 columns</p>\n",
       "</div>"
      ],
      "text/plain": [
       "                     artists   album_name track_name  popularity  duration_ms  \\\n",
       "37417  Angels of Liberty;N/A  Telepathine     Sophia          22       244095   \n",
       "37660  Angels of Liberty;N/A  Telepathine       Leda          21       278473   \n",
       "\n",
       "       explicit  danceability  energy  key  loudness  ...  liveness  valence  \\\n",
       "37417     False         0.324   0.955    1    -0.866  ...    0.4130    0.358   \n",
       "37660     False         0.449   0.930    9    -1.085  ...    0.0527    0.315   \n",
       "\n",
       "         tempo  time_signature  track_genre  num_artists  secondary_artist  \\\n",
       "37417  146.570               4         goth            2               NaN   \n",
       "37660  130.983               4         goth            2               NaN   \n",
       "\n",
       "       popularity_category genre_category  grammy_nominee  \n",
       "37417                  Low           Rock               0  \n",
       "37660                  Low           Rock               0  \n",
       "\n",
       "[2 rows x 24 columns]"
      ]
     },
     "execution_count": 14,
     "metadata": {},
     "output_type": "execute_result"
    }
   ],
   "source": [
    "df[df.isna().any(axis=1)]"
   ]
  },
  {
   "cell_type": "code",
   "execution_count": 15,
   "metadata": {},
   "outputs": [],
   "source": [
    "df.drop([37417, 37660], inplace=True)"
   ]
  },
  {
   "cell_type": "markdown",
   "metadata": {},
   "source": [
    "Analysis of the chart shows that competition for the Grammy Awards is very high. Only a small fraction of artists are nominated for the awards, which means that success at the Grammys requires exceptional talent and considerable hard work. Several factors, such as the quality of the music, the popularity of the artist, critical acclaim and the promotional campaign, can influence the likelihood of being nominated for a Grammy."
   ]
  },
  {
   "cell_type": "code",
   "execution_count": 16,
   "metadata": {},
   "outputs": [
    {
     "data": {
      "image/png": "[encoded data removed]",
      "text/plain": [
       "<Figure size 800x800 with 1 Axes>"
      ]
     },
     "metadata": {},
     "output_type": "display_data"
    }
   ],
   "source": [
    "nominee_counts = df['grammy_nominee'].value_counts()\n",
    "\n",
    "plt.figure(figsize=(8, 8))\n",
    "plt.pie(nominee_counts, labels=nominee_counts.index, autopct='%1.1f%%', colors=['skyblue', 'lightcoral'])\n",
    "plt.title('Proportion of Nominees vs. Non-Nominees')\n",
    "plt.axis('equal')\n",
    "plt.show()\n"
   ]
  },
  {
   "cell_type": "markdown",
   "metadata": {},
   "source": [
    "Analysis of the chart shows that Grammy success varies considerably among different genres of music. Pop, rock, country, R&B, rap and jazz have a higher Grammy success rate, while other genres such as electronic, classical and world have a lower success rate. Several factors, such as the popularity of the genre, competition within the genre, the genre's history of Grammy success and musical trends, can influence the likelihood of being nominated for a Grammy."
   ]
  },
  {
   "cell_type": "code",
   "execution_count": 17,
   "metadata": {},
   "outputs": [
    {
     "data": {
      "image/png": "[encoded data removed]",
      "text/plain": [
       "<Figure size 1000x800 with 1 Axes>"
      ]
     },
     "metadata": {},
     "output_type": "display_data"
    }
   ],
   "source": [
    "winners = df[df['grammy_nominee'] == 1]\n",
    "non_winners = df[df['grammy_nominee'] == 0]\n",
    "\n",
    "winners_genre_distribution = winners['genre_category'].value_counts(normalize=True) * 100\n",
    "non_winners_genre_distribution = non_winners['genre_category'].value_counts(normalize=True) * 100\n",
    "\n",
    "plt.figure(figsize=(10, 8))\n",
    "sns.barplot(x=winners_genre_distribution.index, y=winners_genre_distribution.values, color='skyblue', label='Winners')\n",
    "sns.barplot(x=non_winners_genre_distribution.index, y=non_winners_genre_distribution.values, color='lightcoral', label='Non-winners')\n",
    "plt.title('Genre Distribution by Winner Category')\n",
    "plt.xlabel('Genre')\n",
    "plt.ylabel('Percentage')\n",
    "plt.legend()\n",
    "plt.xticks(rotation=45)\n",
    "plt.show()\n"
   ]
  },
  {
   "cell_type": "markdown",
   "metadata": {},
   "source": [
    "The chart analysis shows that achieving a large number of Grammy nominations is an exceptional achievement that requires talent, hard work and dedication. Artists such as Lady Gaga, ABBA, Elvis Presley, Adele have proven to be iconic figures in the music industry by accumulating a large number of nominations at this prestigious award show"
   ]
  },
  {
   "cell_type": "code",
   "execution_count": 18,
   "metadata": {},
   "outputs": [
    {
     "data": {
      "image/png": "[encoded data removed]",
      "text/plain": [
       "<Figure size 1200x600 with 1 Axes>"
      ]
     },
     "metadata": {},
     "output_type": "display_data"
    }
   ],
   "source": [
    "winning_artists = df[df['grammy_nominee'] == 1]['artists'].value_counts()\n",
    "top_winning_artists = winning_artists.head(10)\n",
    "\n",
    "values = top_winning_artists.values\n",
    "labels = top_winning_artists.index\n",
    "\n",
    "color_index = 50 \n",
    "color = plt.cm.viridis(color_index)\n",
    "\n",
    "\n",
    "plt.figure(figsize=(12, 6))\n",
    "bars = plt.bar(labels, values, color=color)\n",
    "plt.title('Top 10 Artists in Winning Songs')\n",
    "plt.xlabel('Artist')\n",
    "plt.ylabel('Number of Winning Songs')\n",
    "plt.xticks(rotation=45, ha='right')\n",
    "plt.show()"
   ]
  },
  {
   "cell_type": "code",
   "execution_count": 19,
   "metadata": {},
   "outputs": [
    {
     "data": {
      "text/html": [
       "<div>\n",
       "<style scoped>\n",
       "    .dataframe tbody tr th:only-of-type {\n",
       "        vertical-align: middle;\n",
       "    }\n",
       "\n",
       "    .dataframe tbody tr th {\n",
       "        vertical-align: top;\n",
       "    }\n",
       "\n",
       "    .dataframe thead th {\n",
       "        text-align: right;\n",
       "    }\n",
       "</style>\n",
       "<table border=\"1\" class=\"dataframe\">\n",
       "  <thead>\n",
       "    <tr style=\"text-align: right;\">\n",
       "      <th></th>\n",
       "      <th>Artist</th>\n",
       "      <th>Frequency in Nominee Songs</th>\n",
       "    </tr>\n",
       "  </thead>\n",
       "  <tbody>\n",
       "    <tr>\n",
       "      <th>0</th>\n",
       "      <td>Lady Gaga</td>\n",
       "      <td>19</td>\n",
       "    </tr>\n",
       "    <tr>\n",
       "      <th>1</th>\n",
       "      <td>Bazzi</td>\n",
       "      <td>18</td>\n",
       "    </tr>\n",
       "    <tr>\n",
       "      <th>2</th>\n",
       "      <td>ABBA</td>\n",
       "      <td>16</td>\n",
       "    </tr>\n",
       "    <tr>\n",
       "      <th>3</th>\n",
       "      <td>Mini Pop Kids</td>\n",
       "      <td>15</td>\n",
       "    </tr>\n",
       "    <tr>\n",
       "      <th>4</th>\n",
       "      <td>Elvis Presley</td>\n",
       "      <td>14</td>\n",
       "    </tr>\n",
       "    <tr>\n",
       "      <th>5</th>\n",
       "      <td>Glee Cast</td>\n",
       "      <td>14</td>\n",
       "    </tr>\n",
       "    <tr>\n",
       "      <th>6</th>\n",
       "      <td>Norah Jones</td>\n",
       "      <td>13</td>\n",
       "    </tr>\n",
       "    <tr>\n",
       "      <th>7</th>\n",
       "      <td>Adele</td>\n",
       "      <td>13</td>\n",
       "    </tr>\n",
       "    <tr>\n",
       "      <th>8</th>\n",
       "      <td>Jack Harlow</td>\n",
       "      <td>13</td>\n",
       "    </tr>\n",
       "    <tr>\n",
       "      <th>9</th>\n",
       "      <td>The Baseballs</td>\n",
       "      <td>12</td>\n",
       "    </tr>\n",
       "  </tbody>\n",
       "</table>\n",
       "</div>"
      ],
      "text/plain": [
       "          Artist  Frequency in Nominee Songs\n",
       "0      Lady Gaga                          19\n",
       "1          Bazzi                          18\n",
       "2           ABBA                          16\n",
       "3  Mini Pop Kids                          15\n",
       "4  Elvis Presley                          14\n",
       "5      Glee Cast                          14\n",
       "6    Norah Jones                          13\n",
       "7          Adele                          13\n",
       "8    Jack Harlow                          13\n",
       "9  The Baseballs                          12"
      ]
     },
     "execution_count": 19,
     "metadata": {},
     "output_type": "execute_result"
    }
   ],
   "source": [
    "winners = df[df['grammy_nominee'] == 1]\n",
    "\n",
    "winning_artists_frequency = winners['artists'].value_counts().head(10)\n",
    "\n",
    "top_winning_artists_table = pd.DataFrame({\n",
    "    'Artist': winning_artists_frequency.index,\n",
    "    'Frequency in Nominee Songs': winning_artists_frequency.values\n",
    "})\n",
    "\n",
    "top_winning_artists_table\n"
   ]
  },
  {
   "cell_type": "code",
   "execution_count": 20,
   "metadata": {},
   "outputs": [],
   "source": [
    "df.to_csv('merge.csv', index=False)"
   ]
  }
 ],
 "metadata": {
  "kernelspec": {
   "display_name": "venv",
   "language": "python",
   "name": "python3"
  },
  "language_info": {
   "codemirror_mode": {
    "name": "ipython",
    "version": 3
   },
   "file_extension": ".py",
   "mimetype": "text/x-python",
   "name": "python",
   "nbconvert_exporter": "python",
   "pygments_lexer": "ipython3",
   "version": "3.12.2"
  }
 },
 "nbformat": 4,
 "nbformat_minor": 2
}
