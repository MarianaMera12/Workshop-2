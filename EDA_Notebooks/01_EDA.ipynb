{
 "cells": [
  {
   "cell_type": "markdown",
   "metadata": {},
   "source": [
    "## Spotify "
   ]
  },
  {
   "cell_type": "markdown",
   "metadata": {},
   "source": [
    "Import the libreries and modules"
   ]
  },
  {
   "cell_type": "code",
   "execution_count": 1,
   "metadata": {},
   "outputs": [],
   "source": [
    "import pandas as pd \n",
    "import matplotlib.pyplot as plt\n",
    "import seaborn as sns"
   ]
  },
  {
   "cell_type": "markdown",
   "metadata": {},
   "source": [
    "Read CSV "
   ]
  },
  {
   "cell_type": "code",
   "execution_count": 2,
   "metadata": {},
   "outputs": [
    {
     "data": {
      "text/html": [
       "<div>\n",
       "<style scoped>\n",
       "    .dataframe tbody tr th:only-of-type {\n",
       "        vertical-align: middle;\n",
       "    }\n",
       "\n",
       "    .dataframe tbody tr th {\n",
       "        vertical-align: top;\n",
       "    }\n",
       "\n",
       "    .dataframe thead th {\n",
       "        text-align: right;\n",
       "    }\n",
       "</style>\n",
       "<table border=\"1\" class=\"dataframe\">\n",
       "  <thead>\n",
       "    <tr style=\"text-align: right;\">\n",
       "      <th></th>\n",
       "      <th>Unnamed: 0</th>\n",
       "      <th>track_id</th>\n",
       "      <th>artists</th>\n",
       "      <th>album_name</th>\n",
       "      <th>track_name</th>\n",
       "      <th>popularity</th>\n",
       "      <th>duration_ms</th>\n",
       "      <th>explicit</th>\n",
       "      <th>danceability</th>\n",
       "      <th>energy</th>\n",
       "      <th>...</th>\n",
       "      <th>loudness</th>\n",
       "      <th>mode</th>\n",
       "      <th>speechiness</th>\n",
       "      <th>acousticness</th>\n",
       "      <th>instrumentalness</th>\n",
       "      <th>liveness</th>\n",
       "      <th>valence</th>\n",
       "      <th>tempo</th>\n",
       "      <th>time_signature</th>\n",
       "      <th>track_genre</th>\n",
       "    </tr>\n",
       "  </thead>\n",
       "  <tbody>\n",
       "    <tr>\n",
       "      <th>0</th>\n",
       "      <td>0</td>\n",
       "      <td>5SuOikwiRyPMVoIQDJUgSV</td>\n",
       "      <td>Gen Hoshino</td>\n",
       "      <td>Comedy</td>\n",
       "      <td>Comedy</td>\n",
       "      <td>73</td>\n",
       "      <td>230666</td>\n",
       "      <td>False</td>\n",
       "      <td>0.676</td>\n",
       "      <td>0.4610</td>\n",
       "      <td>...</td>\n",
       "      <td>-6.746</td>\n",
       "      <td>0</td>\n",
       "      <td>0.1430</td>\n",
       "      <td>0.0322</td>\n",
       "      <td>0.000001</td>\n",
       "      <td>0.3580</td>\n",
       "      <td>0.715</td>\n",
       "      <td>87.917</td>\n",
       "      <td>4</td>\n",
       "      <td>acoustic</td>\n",
       "    </tr>\n",
       "    <tr>\n",
       "      <th>1</th>\n",
       "      <td>1</td>\n",
       "      <td>4qPNDBW1i3p13qLCt0Ki3A</td>\n",
       "      <td>Ben Woodward</td>\n",
       "      <td>Ghost (Acoustic)</td>\n",
       "      <td>Ghost - Acoustic</td>\n",
       "      <td>55</td>\n",
       "      <td>149610</td>\n",
       "      <td>False</td>\n",
       "      <td>0.420</td>\n",
       "      <td>0.1660</td>\n",
       "      <td>...</td>\n",
       "      <td>-17.235</td>\n",
       "      <td>1</td>\n",
       "      <td>0.0763</td>\n",
       "      <td>0.9240</td>\n",
       "      <td>0.000006</td>\n",
       "      <td>0.1010</td>\n",
       "      <td>0.267</td>\n",
       "      <td>77.489</td>\n",
       "      <td>4</td>\n",
       "      <td>acoustic</td>\n",
       "    </tr>\n",
       "    <tr>\n",
       "      <th>2</th>\n",
       "      <td>2</td>\n",
       "      <td>1iJBSr7s7jYXzM8EGcbK5b</td>\n",
       "      <td>Ingrid Michaelson;ZAYN</td>\n",
       "      <td>To Begin Again</td>\n",
       "      <td>To Begin Again</td>\n",
       "      <td>57</td>\n",
       "      <td>210826</td>\n",
       "      <td>False</td>\n",
       "      <td>0.438</td>\n",
       "      <td>0.3590</td>\n",
       "      <td>...</td>\n",
       "      <td>-9.734</td>\n",
       "      <td>1</td>\n",
       "      <td>0.0557</td>\n",
       "      <td>0.2100</td>\n",
       "      <td>0.000000</td>\n",
       "      <td>0.1170</td>\n",
       "      <td>0.120</td>\n",
       "      <td>76.332</td>\n",
       "      <td>4</td>\n",
       "      <td>acoustic</td>\n",
       "    </tr>\n",
       "    <tr>\n",
       "      <th>3</th>\n",
       "      <td>3</td>\n",
       "      <td>6lfxq3CG4xtTiEg7opyCyx</td>\n",
       "      <td>Kina Grannis</td>\n",
       "      <td>Crazy Rich Asians (Original Motion Picture Sou...</td>\n",
       "      <td>Can't Help Falling In Love</td>\n",
       "      <td>71</td>\n",
       "      <td>201933</td>\n",
       "      <td>False</td>\n",
       "      <td>0.266</td>\n",
       "      <td>0.0596</td>\n",
       "      <td>...</td>\n",
       "      <td>-18.515</td>\n",
       "      <td>1</td>\n",
       "      <td>0.0363</td>\n",
       "      <td>0.9050</td>\n",
       "      <td>0.000071</td>\n",
       "      <td>0.1320</td>\n",
       "      <td>0.143</td>\n",
       "      <td>181.740</td>\n",
       "      <td>3</td>\n",
       "      <td>acoustic</td>\n",
       "    </tr>\n",
       "    <tr>\n",
       "      <th>4</th>\n",
       "      <td>4</td>\n",
       "      <td>5vjLSffimiIP26QG5WcN2K</td>\n",
       "      <td>Chord Overstreet</td>\n",
       "      <td>Hold On</td>\n",
       "      <td>Hold On</td>\n",
       "      <td>82</td>\n",
       "      <td>198853</td>\n",
       "      <td>False</td>\n",
       "      <td>0.618</td>\n",
       "      <td>0.4430</td>\n",
       "      <td>...</td>\n",
       "      <td>-9.681</td>\n",
       "      <td>1</td>\n",
       "      <td>0.0526</td>\n",
       "      <td>0.4690</td>\n",
       "      <td>0.000000</td>\n",
       "      <td>0.0829</td>\n",
       "      <td>0.167</td>\n",
       "      <td>119.949</td>\n",
       "      <td>4</td>\n",
       "      <td>acoustic</td>\n",
       "    </tr>\n",
       "  </tbody>\n",
       "</table>\n",
       "<p>5 rows × 21 columns</p>\n",
       "</div>"
      ],
      "text/plain": [
       "   Unnamed: 0                track_id                 artists  \\\n",
       "0           0  5SuOikwiRyPMVoIQDJUgSV             Gen Hoshino   \n",
       "1           1  4qPNDBW1i3p13qLCt0Ki3A            Ben Woodward   \n",
       "2           2  1iJBSr7s7jYXzM8EGcbK5b  Ingrid Michaelson;ZAYN   \n",
       "3           3  6lfxq3CG4xtTiEg7opyCyx            Kina Grannis   \n",
       "4           4  5vjLSffimiIP26QG5WcN2K        Chord Overstreet   \n",
       "\n",
       "                                          album_name  \\\n",
       "0                                             Comedy   \n",
       "1                                   Ghost (Acoustic)   \n",
       "2                                     To Begin Again   \n",
       "3  Crazy Rich Asians (Original Motion Picture Sou...   \n",
       "4                                            Hold On   \n",
       "\n",
       "                   track_name  popularity  duration_ms  explicit  \\\n",
       "0                      Comedy          73       230666     False   \n",
       "1            Ghost - Acoustic          55       149610     False   \n",
       "2              To Begin Again          57       210826     False   \n",
       "3  Can't Help Falling In Love          71       201933     False   \n",
       "4                     Hold On          82       198853     False   \n",
       "\n",
       "   danceability  energy  ...  loudness  mode  speechiness  acousticness  \\\n",
       "0         0.676  0.4610  ...    -6.746     0       0.1430        0.0322   \n",
       "1         0.420  0.1660  ...   -17.235     1       0.0763        0.9240   \n",
       "2         0.438  0.3590  ...    -9.734     1       0.0557        0.2100   \n",
       "3         0.266  0.0596  ...   -18.515     1       0.0363        0.9050   \n",
       "4         0.618  0.4430  ...    -9.681     1       0.0526        0.4690   \n",
       "\n",
       "   instrumentalness  liveness  valence    tempo  time_signature  track_genre  \n",
       "0          0.000001    0.3580    0.715   87.917               4     acoustic  \n",
       "1          0.000006    0.1010    0.267   77.489               4     acoustic  \n",
       "2          0.000000    0.1170    0.120   76.332               4     acoustic  \n",
       "3          0.000071    0.1320    0.143  181.740               3     acoustic  \n",
       "4          0.000000    0.0829    0.167  119.949               4     acoustic  \n",
       "\n",
       "[5 rows x 21 columns]"
      ]
     },
     "execution_count": 2,
     "metadata": {},
     "output_type": "execute_result"
    }
   ],
   "source": [
    "csv_file = '../data/spotify_dataset.csv'\n",
    "df = pd.read_csv(csv_file, sep=',', encoding='latin-1')\n",
    "df.head()"
   ]
  },
  {
   "cell_type": "markdown",
   "metadata": {},
   "source": [
    "### CSV Analysis "
   ]
  },
  {
   "cell_type": "markdown",
   "metadata": {},
   "source": [
    "We use this method to get a quick overview of the structure and data types of our DataFrame, allowing us to quickly identify potential data quality issues, such as missing values or inconsistencies in data types. This information helps us make informed decisions about data cleaning and transformation, thus ensuring the reliability of our downstream analysis."
   ]
  },
  {
   "cell_type": "code",
   "execution_count": 3,
   "metadata": {},
   "outputs": [
    {
     "name": "stdout",
     "output_type": "stream",
     "text": [
      "<class 'pandas.core.frame.DataFrame'>\n",
      "RangeIndex: 114000 entries, 0 to 113999\n",
      "Data columns (total 21 columns):\n",
      " #   Column            Non-Null Count   Dtype  \n",
      "---  ------            --------------   -----  \n",
      " 0   Unnamed: 0        114000 non-null  int64  \n",
      " 1   track_id          114000 non-null  object \n",
      " 2   artists           113999 non-null  object \n",
      " 3   album_name        113999 non-null  object \n",
      " 4   track_name        113999 non-null  object \n",
      " 5   popularity        114000 non-null  int64  \n",
      " 6   duration_ms       114000 non-null  int64  \n",
      " 7   explicit          114000 non-null  bool   \n",
      " 8   danceability      114000 non-null  float64\n",
      " 9   energy            114000 non-null  float64\n",
      " 10  key               114000 non-null  int64  \n",
      " 11  loudness          114000 non-null  float64\n",
      " 12  mode              114000 non-null  int64  \n",
      " 13  speechiness       114000 non-null  float64\n",
      " 14  acousticness      114000 non-null  float64\n",
      " 15  instrumentalness  114000 non-null  float64\n",
      " 16  liveness          114000 non-null  float64\n",
      " 17  valence           114000 non-null  float64\n",
      " 18  tempo             114000 non-null  float64\n",
      " 19  time_signature    114000 non-null  int64  \n",
      " 20  track_genre       114000 non-null  object \n",
      "dtypes: bool(1), float64(9), int64(6), object(5)\n",
      "memory usage: 17.5+ MB\n"
     ]
    }
   ],
   "source": [
    "df.info()"
   ]
  },
  {
   "cell_type": "markdown",
   "metadata": {},
   "source": [
    "We have a data set with 114000 records and 21 columns. "
   ]
  },
  {
   "cell_type": "code",
   "execution_count": 4,
   "metadata": {},
   "outputs": [
    {
     "data": {
      "text/plain": [
       "(114000, 21)"
      ]
     },
     "execution_count": 4,
     "metadata": {},
     "output_type": "execute_result"
    }
   ],
   "source": [
    "df.shape"
   ]
  },
  {
   "cell_type": "code",
   "execution_count": 5,
   "metadata": {},
   "outputs": [
    {
     "data": {
      "text/plain": [
       "Index(['Unnamed: 0', 'track_id', 'artists', 'album_name', 'track_name',\n",
       "       'popularity', 'duration_ms', 'explicit', 'danceability', 'energy',\n",
       "       'key', 'loudness', 'mode', 'speechiness', 'acousticness',\n",
       "       'instrumentalness', 'liveness', 'valence', 'tempo', 'time_signature',\n",
       "       'track_genre'],\n",
       "      dtype='object')"
      ]
     },
     "execution_count": 5,
     "metadata": {},
     "output_type": "execute_result"
    }
   ],
   "source": [
    "df.columns"
   ]
  },
  {
   "cell_type": "markdown",
   "metadata": {},
   "source": [
    "Column descriptions:\n",
    "\n",
    "- **track_id**: Unique identifier for each music track.\n",
    "\n",
    "- **artists**: List of artists associated with the track.\n",
    "\n",
    "- **album_name**: Name of the album to which the track belongs.\n",
    "\n",
    "- **track_name**: Name of the music track.\n",
    "\n",
    "- **popularity**: Popularity score of the track based on playback and trends.\n",
    "\n",
    "- **duration_ms**: Track duration in milliseconds.\n",
    "\n",
    "- **explicit**: Boolean indicator showing if the track contains explicit content (1 if explicit, 0 if not).\n",
    "\n",
    "- **danceability**: Measure of the track's ability to be suitable for dancing, according to various musical elements.\n",
    "\n",
    "- **energy**: Represents the perceived intensity and activity of the track.\n",
    "\n",
    "- **key**: Fundamental pitch of the track in terms of musical tones (e.g., C, D, E, etc.).\n",
    "\n",
    "- **loudness**: Average volume level of the track in decibels (dB).\n",
    "\n",
    "- **mode**: Track mode (higher or lower).\n",
    "\n",
    "- **speechiness**: Measure of the presence of spoken words in the track (e.g. podcasts).\n",
    "\n",
    "- **acousticness**: Measure of the presence of acoustic elements in the track, where 1.0 represents a high probability that the track is acoustic.\n",
    "\n",
    "- **instrumentalness**: Measure of the presence of instrumental elements in the track, where 1.0 indicates a high probability that the track is instrumental.\n",
    "\n",
    "- **liveness**: Measure of the presence of a live audience in the recording of the track.\n",
    "\n",
    "- **valence**: Represents the perceived positivity or happiness of the track.\n",
    "\n",
    "- **tempo**: General musical rhythm of the track in beats per minute (BPM).\n",
    "\n",
    "- **time_signature**: Number of beats per musical measure in the track.\n",
    "\n",
    "- **track_genre'**: Musical genre associated with the music track, if available in the data.\n",
    "\n",
    "\n"
   ]
  },
  {
   "cell_type": "markdown",
   "metadata": {},
   "source": [
    "### NUll Values \n",
    "Calculate the number of null values in each column of the DataFrame"
   ]
  },
  {
   "cell_type": "code",
   "execution_count": 6,
   "metadata": {},
   "outputs": [
    {
     "data": {
      "text/plain": [
       "Unnamed: 0          0\n",
       "track_id            0\n",
       "artists             1\n",
       "album_name          1\n",
       "track_name          1\n",
       "popularity          0\n",
       "duration_ms         0\n",
       "explicit            0\n",
       "danceability        0\n",
       "energy              0\n",
       "key                 0\n",
       "loudness            0\n",
       "mode                0\n",
       "speechiness         0\n",
       "acousticness        0\n",
       "instrumentalness    0\n",
       "liveness            0\n",
       "valence             0\n",
       "tempo               0\n",
       "time_signature      0\n",
       "track_genre         0\n",
       "dtype: int64"
      ]
     },
     "execution_count": 6,
     "metadata": {},
     "output_type": "execute_result"
    }
   ],
   "source": [
    "df.isnull().sum()"
   ]
  },
  {
   "cell_type": "markdown",
   "metadata": {},
   "source": [
    "Most of the columns have complete data for all tracks, but there is one row with missing data in the artist, album name and track name columns.\n",
    "\n",
    "We check which row contains these null values. "
   ]
  },
  {
   "cell_type": "code",
   "execution_count": 7,
   "metadata": {},
   "outputs": [
    {
     "data": {
      "text/html": [
       "<div>\n",
       "<style scoped>\n",
       "    .dataframe tbody tr th:only-of-type {\n",
       "        vertical-align: middle;\n",
       "    }\n",
       "\n",
       "    .dataframe tbody tr th {\n",
       "        vertical-align: top;\n",
       "    }\n",
       "\n",
       "    .dataframe thead th {\n",
       "        text-align: right;\n",
       "    }\n",
       "</style>\n",
       "<table border=\"1\" class=\"dataframe\">\n",
       "  <thead>\n",
       "    <tr style=\"text-align: right;\">\n",
       "      <th></th>\n",
       "      <th>Unnamed: 0</th>\n",
       "      <th>track_id</th>\n",
       "      <th>artists</th>\n",
       "      <th>album_name</th>\n",
       "      <th>track_name</th>\n",
       "      <th>popularity</th>\n",
       "      <th>duration_ms</th>\n",
       "      <th>explicit</th>\n",
       "      <th>danceability</th>\n",
       "      <th>energy</th>\n",
       "      <th>...</th>\n",
       "      <th>loudness</th>\n",
       "      <th>mode</th>\n",
       "      <th>speechiness</th>\n",
       "      <th>acousticness</th>\n",
       "      <th>instrumentalness</th>\n",
       "      <th>liveness</th>\n",
       "      <th>valence</th>\n",
       "      <th>tempo</th>\n",
       "      <th>time_signature</th>\n",
       "      <th>track_genre</th>\n",
       "    </tr>\n",
       "  </thead>\n",
       "  <tbody>\n",
       "    <tr>\n",
       "      <th>65900</th>\n",
       "      <td>65900</td>\n",
       "      <td>1kR4gIb7nGxHPI3D2ifs59</td>\n",
       "      <td>NaN</td>\n",
       "      <td>NaN</td>\n",
       "      <td>NaN</td>\n",
       "      <td>0</td>\n",
       "      <td>0</td>\n",
       "      <td>False</td>\n",
       "      <td>0.501</td>\n",
       "      <td>0.583</td>\n",
       "      <td>...</td>\n",
       "      <td>-9.46</td>\n",
       "      <td>0</td>\n",
       "      <td>0.0605</td>\n",
       "      <td>0.69</td>\n",
       "      <td>0.00396</td>\n",
       "      <td>0.0747</td>\n",
       "      <td>0.734</td>\n",
       "      <td>138.391</td>\n",
       "      <td>4</td>\n",
       "      <td>k-pop</td>\n",
       "    </tr>\n",
       "  </tbody>\n",
       "</table>\n",
       "<p>1 rows × 21 columns</p>\n",
       "</div>"
      ],
      "text/plain": [
       "       Unnamed: 0                track_id artists album_name track_name  \\\n",
       "65900       65900  1kR4gIb7nGxHPI3D2ifs59     NaN        NaN        NaN   \n",
       "\n",
       "       popularity  duration_ms  explicit  danceability  energy  ...  loudness  \\\n",
       "65900           0            0     False         0.501   0.583  ...     -9.46   \n",
       "\n",
       "       mode  speechiness  acousticness  instrumentalness  liveness  valence  \\\n",
       "65900     0       0.0605          0.69           0.00396    0.0747    0.734   \n",
       "\n",
       "         tempo  time_signature  track_genre  \n",
       "65900  138.391               4        k-pop  \n",
       "\n",
       "[1 rows x 21 columns]"
      ]
     },
     "execution_count": 7,
     "metadata": {},
     "output_type": "execute_result"
    }
   ],
   "source": [
    "df[df.isna().any(axis=1)]"
   ]
  },
  {
   "cell_type": "markdown",
   "metadata": {},
   "source": [
    "### Transformation Eliminate Null Values"
   ]
  },
  {
   "cell_type": "markdown",
   "metadata": {},
   "source": [
    "Since only one row of the 114,000 has null values in important columns, removing this row will have minimal impact on the overall size and representativeness of the data set."
   ]
  },
  {
   "cell_type": "code",
   "execution_count": 8,
   "metadata": {},
   "outputs": [],
   "source": [
    "df = df.drop(df[df['track_id'] == '1kR4gIb7nGxHPI3D2ifs59'].index, axis=0)"
   ]
  },
  {
   "cell_type": "markdown",
   "metadata": {},
   "source": [
    "We verify that no null value is found. "
   ]
  },
  {
   "cell_type": "code",
   "execution_count": 9,
   "metadata": {},
   "outputs": [
    {
     "data": {
      "text/plain": [
       "Unnamed: 0          0\n",
       "track_id            0\n",
       "artists             0\n",
       "album_name          0\n",
       "track_name          0\n",
       "popularity          0\n",
       "duration_ms         0\n",
       "explicit            0\n",
       "danceability        0\n",
       "energy              0\n",
       "key                 0\n",
       "loudness            0\n",
       "mode                0\n",
       "speechiness         0\n",
       "acousticness        0\n",
       "instrumentalness    0\n",
       "liveness            0\n",
       "valence             0\n",
       "tempo               0\n",
       "time_signature      0\n",
       "track_genre         0\n",
       "dtype: int64"
      ]
     },
     "execution_count": 9,
     "metadata": {},
     "output_type": "execute_result"
    }
   ],
   "source": [
    "df.isnull().sum()"
   ]
  },
  {
   "cell_type": "markdown",
   "metadata": {},
   "source": [
    "### Unique Values "
   ]
  },
  {
   "cell_type": "markdown",
   "metadata": {},
   "source": [
    "We verify which unique values our data set contains "
   ]
  },
  {
   "cell_type": "code",
   "execution_count": 10,
   "metadata": {},
   "outputs": [
    {
     "data": {
      "text/plain": [
       "Unnamed: 0          113999\n",
       "track_id             89740\n",
       "artists              31437\n",
       "album_name           46589\n",
       "track_name           73608\n",
       "popularity             101\n",
       "duration_ms          50696\n",
       "explicit                 2\n",
       "danceability          1174\n",
       "energy                2083\n",
       "key                     12\n",
       "loudness             19480\n",
       "mode                     2\n",
       "speechiness           1489\n",
       "acousticness          5061\n",
       "instrumentalness      5346\n",
       "liveness              1722\n",
       "valence               1790\n",
       "tempo                45652\n",
       "time_signature           5\n",
       "track_genre            114\n",
       "dtype: int64"
      ]
     },
     "execution_count": 10,
     "metadata": {},
     "output_type": "execute_result"
    }
   ],
   "source": [
    "df.nunique()"
   ]
  },
  {
   "cell_type": "markdown",
   "metadata": {},
   "source": [
    "### Duplicates "
   ]
  },
  {
   "cell_type": "markdown",
   "metadata": {},
   "source": [
    "We check for duplicate values, but at the moment there are no duplicate values."
   ]
  },
  {
   "cell_type": "code",
   "execution_count": 11,
   "metadata": {},
   "outputs": [
    {
     "data": {
      "text/html": [
       "<div>\n",
       "<style scoped>\n",
       "    .dataframe tbody tr th:only-of-type {\n",
       "        vertical-align: middle;\n",
       "    }\n",
       "\n",
       "    .dataframe tbody tr th {\n",
       "        vertical-align: top;\n",
       "    }\n",
       "\n",
       "    .dataframe thead th {\n",
       "        text-align: right;\n",
       "    }\n",
       "</style>\n",
       "<table border=\"1\" class=\"dataframe\">\n",
       "  <thead>\n",
       "    <tr style=\"text-align: right;\">\n",
       "      <th></th>\n",
       "      <th>Unnamed: 0</th>\n",
       "      <th>track_id</th>\n",
       "      <th>artists</th>\n",
       "      <th>album_name</th>\n",
       "      <th>track_name</th>\n",
       "      <th>popularity</th>\n",
       "      <th>duration_ms</th>\n",
       "      <th>explicit</th>\n",
       "      <th>danceability</th>\n",
       "      <th>energy</th>\n",
       "      <th>...</th>\n",
       "      <th>loudness</th>\n",
       "      <th>mode</th>\n",
       "      <th>speechiness</th>\n",
       "      <th>acousticness</th>\n",
       "      <th>instrumentalness</th>\n",
       "      <th>liveness</th>\n",
       "      <th>valence</th>\n",
       "      <th>tempo</th>\n",
       "      <th>time_signature</th>\n",
       "      <th>track_genre</th>\n",
       "    </tr>\n",
       "  </thead>\n",
       "  <tbody>\n",
       "  </tbody>\n",
       "</table>\n",
       "<p>0 rows × 21 columns</p>\n",
       "</div>"
      ],
      "text/plain": [
       "Empty DataFrame\n",
       "Columns: [Unnamed: 0, track_id, artists, album_name, track_name, popularity, duration_ms, explicit, danceability, energy, key, loudness, mode, speechiness, acousticness, instrumentalness, liveness, valence, tempo, time_signature, track_genre]\n",
       "Index: []\n",
       "\n",
       "[0 rows x 21 columns]"
      ]
     },
     "execution_count": 11,
     "metadata": {},
     "output_type": "execute_result"
    }
   ],
   "source": [
    "df[df.duplicated()].head()"
   ]
  },
  {
   "cell_type": "markdown",
   "metadata": {},
   "source": [
    "When we eliminate the 'Unnamed: 0' column, because it is not significant for the analysis, we can see that there are duplicate values. "
   ]
  },
  {
   "cell_type": "code",
   "execution_count": 12,
   "metadata": {},
   "outputs": [],
   "source": [
    "df.drop(columns=['Unnamed: 0'], inplace=True)"
   ]
  },
  {
   "cell_type": "code",
   "execution_count": 13,
   "metadata": {},
   "outputs": [
    {
     "data": {
      "text/html": [
       "<div>\n",
       "<style scoped>\n",
       "    .dataframe tbody tr th:only-of-type {\n",
       "        vertical-align: middle;\n",
       "    }\n",
       "\n",
       "    .dataframe tbody tr th {\n",
       "        vertical-align: top;\n",
       "    }\n",
       "\n",
       "    .dataframe thead th {\n",
       "        text-align: right;\n",
       "    }\n",
       "</style>\n",
       "<table border=\"1\" class=\"dataframe\">\n",
       "  <thead>\n",
       "    <tr style=\"text-align: right;\">\n",
       "      <th></th>\n",
       "      <th>track_id</th>\n",
       "      <th>artists</th>\n",
       "      <th>album_name</th>\n",
       "      <th>track_name</th>\n",
       "      <th>popularity</th>\n",
       "      <th>duration_ms</th>\n",
       "      <th>explicit</th>\n",
       "      <th>danceability</th>\n",
       "      <th>energy</th>\n",
       "      <th>key</th>\n",
       "      <th>loudness</th>\n",
       "      <th>mode</th>\n",
       "      <th>speechiness</th>\n",
       "      <th>acousticness</th>\n",
       "      <th>instrumentalness</th>\n",
       "      <th>liveness</th>\n",
       "      <th>valence</th>\n",
       "      <th>tempo</th>\n",
       "      <th>time_signature</th>\n",
       "      <th>track_genre</th>\n",
       "    </tr>\n",
       "  </thead>\n",
       "  <tbody>\n",
       "    <tr>\n",
       "      <th>1925</th>\n",
       "      <td>0CDucx9lKxuCZplLXUz0iX</td>\n",
       "      <td>Buena Onda Reggae Club</td>\n",
       "      <td>Disco 2</td>\n",
       "      <td>Song for Rollins</td>\n",
       "      <td>16</td>\n",
       "      <td>219346</td>\n",
       "      <td>False</td>\n",
       "      <td>0.841</td>\n",
       "      <td>0.577</td>\n",
       "      <td>0</td>\n",
       "      <td>-7.544</td>\n",
       "      <td>1</td>\n",
       "      <td>0.0438</td>\n",
       "      <td>0.238000</td>\n",
       "      <td>0.860000</td>\n",
       "      <td>0.0571</td>\n",
       "      <td>0.843</td>\n",
       "      <td>90.522</td>\n",
       "      <td>4</td>\n",
       "      <td>afrobeat</td>\n",
       "    </tr>\n",
       "    <tr>\n",
       "      <th>2155</th>\n",
       "      <td>2aibwv5hGXSgw7Yru8IYTO</td>\n",
       "      <td>Red Hot Chili Peppers</td>\n",
       "      <td>Stadium Arcadium</td>\n",
       "      <td>Snow (Hey Oh)</td>\n",
       "      <td>80</td>\n",
       "      <td>334666</td>\n",
       "      <td>False</td>\n",
       "      <td>0.427</td>\n",
       "      <td>0.900</td>\n",
       "      <td>11</td>\n",
       "      <td>-3.674</td>\n",
       "      <td>1</td>\n",
       "      <td>0.0499</td>\n",
       "      <td>0.116000</td>\n",
       "      <td>0.000017</td>\n",
       "      <td>0.1190</td>\n",
       "      <td>0.599</td>\n",
       "      <td>104.655</td>\n",
       "      <td>4</td>\n",
       "      <td>alt-rock</td>\n",
       "    </tr>\n",
       "    <tr>\n",
       "      <th>3738</th>\n",
       "      <td>7mULVp0DJrI2Nd6GesLvxn</td>\n",
       "      <td>Joy Division</td>\n",
       "      <td>Timeless Rock Hits</td>\n",
       "      <td>Love Will Tear Us Apart</td>\n",
       "      <td>0</td>\n",
       "      <td>204621</td>\n",
       "      <td>False</td>\n",
       "      <td>0.524</td>\n",
       "      <td>0.902</td>\n",
       "      <td>2</td>\n",
       "      <td>-8.662</td>\n",
       "      <td>1</td>\n",
       "      <td>0.0368</td>\n",
       "      <td>0.000989</td>\n",
       "      <td>0.695000</td>\n",
       "      <td>0.1370</td>\n",
       "      <td>0.907</td>\n",
       "      <td>146.833</td>\n",
       "      <td>4</td>\n",
       "      <td>alternative</td>\n",
       "    </tr>\n",
       "    <tr>\n",
       "      <th>4648</th>\n",
       "      <td>6d3RIvHfVkoOtW1WHXmbX3</td>\n",
       "      <td>Little Symphony</td>\n",
       "      <td>Serenity</td>\n",
       "      <td>Margot</td>\n",
       "      <td>27</td>\n",
       "      <td>45714</td>\n",
       "      <td>False</td>\n",
       "      <td>0.269</td>\n",
       "      <td>0.142</td>\n",
       "      <td>0</td>\n",
       "      <td>-23.695</td>\n",
       "      <td>1</td>\n",
       "      <td>0.0509</td>\n",
       "      <td>0.866000</td>\n",
       "      <td>0.904000</td>\n",
       "      <td>0.1140</td>\n",
       "      <td>0.321</td>\n",
       "      <td>67.872</td>\n",
       "      <td>3</td>\n",
       "      <td>ambient</td>\n",
       "    </tr>\n",
       "    <tr>\n",
       "      <th>5769</th>\n",
       "      <td>481beimUiUnMUzSbOAFcUT</td>\n",
       "      <td>SUPER BEAVER</td>\n",
       "      <td>çªç ´å£ / èªæ¢ã«ãªããã</td>\n",
       "      <td>çªç ´å£</td>\n",
       "      <td>54</td>\n",
       "      <td>255080</td>\n",
       "      <td>False</td>\n",
       "      <td>0.472</td>\n",
       "      <td>0.994</td>\n",
       "      <td>8</td>\n",
       "      <td>-1.786</td>\n",
       "      <td>1</td>\n",
       "      <td>0.1140</td>\n",
       "      <td>0.025900</td>\n",
       "      <td>0.000000</td>\n",
       "      <td>0.0535</td>\n",
       "      <td>0.262</td>\n",
       "      <td>103.512</td>\n",
       "      <td>4</td>\n",
       "      <td>anime</td>\n",
       "    </tr>\n",
       "  </tbody>\n",
       "</table>\n",
       "</div>"
      ],
      "text/plain": [
       "                    track_id                 artists  \\\n",
       "1925  0CDucx9lKxuCZplLXUz0iX  Buena Onda Reggae Club   \n",
       "2155  2aibwv5hGXSgw7Yru8IYTO   Red Hot Chili Peppers   \n",
       "3738  7mULVp0DJrI2Nd6GesLvxn            Joy Division   \n",
       "4648  6d3RIvHfVkoOtW1WHXmbX3         Little Symphony   \n",
       "5769  481beimUiUnMUzSbOAFcUT            SUPER BEAVER   \n",
       "\n",
       "                             album_name               track_name  popularity  \\\n",
       "1925                            Disco 2         Song for Rollins          16   \n",
       "2155                   Stadium Arcadium            Snow (Hey Oh)          80   \n",
       "3738                 Timeless Rock Hits  Love Will Tear Us Apart           0   \n",
       "4648                           Serenity                   Margot          27   \n",
       "5769  çªç ´å£ / èªæ\n",
       "¢ã«ãªããã                çªç ´å£          54   \n",
       "\n",
       "      duration_ms  explicit  danceability  energy  key  loudness  mode  \\\n",
       "1925       219346     False         0.841   0.577    0    -7.544     1   \n",
       "2155       334666     False         0.427   0.900   11    -3.674     1   \n",
       "3738       204621     False         0.524   0.902    2    -8.662     1   \n",
       "4648        45714     False         0.269   0.142    0   -23.695     1   \n",
       "5769       255080     False         0.472   0.994    8    -1.786     1   \n",
       "\n",
       "      speechiness  acousticness  instrumentalness  liveness  valence    tempo  \\\n",
       "1925       0.0438      0.238000          0.860000    0.0571    0.843   90.522   \n",
       "2155       0.0499      0.116000          0.000017    0.1190    0.599  104.655   \n",
       "3738       0.0368      0.000989          0.695000    0.1370    0.907  146.833   \n",
       "4648       0.0509      0.866000          0.904000    0.1140    0.321   67.872   \n",
       "5769       0.1140      0.025900          0.000000    0.0535    0.262  103.512   \n",
       "\n",
       "      time_signature  track_genre  \n",
       "1925               4     afrobeat  \n",
       "2155               4     alt-rock  \n",
       "3738               4  alternative  \n",
       "4648               3      ambient  \n",
       "5769               4        anime  "
      ]
     },
     "execution_count": 13,
     "metadata": {},
     "output_type": "execute_result"
    }
   ],
   "source": [
    "df[df.duplicated()].head()"
   ]
  },
  {
   "cell_type": "markdown",
   "metadata": {},
   "source": [
    "#### Duplicates by ID "
   ]
  },
  {
   "cell_type": "markdown",
   "metadata": {},
   "source": [
    "Verifying that we have 24,259 duplicate values in our dataset highlights the critical importance of addressing data cleaning and management appropriately. This is critical to ensure the reliability and accuracy of our downstream analyses. The presence of a significant amount of duplicates highlights the need to take steps to eliminate these redundant records and ensure that we are working with unique and consistent data in our analysis and decision making processes."
   ]
  },
  {
   "cell_type": "code",
   "execution_count": 14,
   "metadata": {},
   "outputs": [
    {
     "data": {
      "text/plain": [
       "24259"
      ]
     },
     "execution_count": 14,
     "metadata": {},
     "output_type": "execute_result"
    }
   ],
   "source": [
    "df.duplicated(subset=['track_id']).sum()"
   ]
  },
  {
   "cell_type": "markdown",
   "metadata": {},
   "source": [
    "##### Number of duplicates per ID "
   ]
  },
  {
   "cell_type": "markdown",
   "metadata": {},
   "source": [
    "We know the number of duplicates identified by the 'track_id' field. Now we want to drill down to get more information about these duplicate values."
   ]
  },
  {
   "cell_type": "code",
   "execution_count": 15,
   "metadata": {},
   "outputs": [
    {
     "data": {
      "text/html": [
       "<div>\n",
       "<style scoped>\n",
       "    .dataframe tbody tr th:only-of-type {\n",
       "        vertical-align: middle;\n",
       "    }\n",
       "\n",
       "    .dataframe tbody tr th {\n",
       "        vertical-align: top;\n",
       "    }\n",
       "\n",
       "    .dataframe thead th {\n",
       "        text-align: right;\n",
       "    }\n",
       "</style>\n",
       "<table border=\"1\" class=\"dataframe\">\n",
       "  <thead>\n",
       "    <tr style=\"text-align: right;\">\n",
       "      <th></th>\n",
       "      <th>track_id</th>\n",
       "      <th>Number of Occurrences</th>\n",
       "    </tr>\n",
       "  </thead>\n",
       "  <tbody>\n",
       "    <tr>\n",
       "      <th>0</th>\n",
       "      <td>6S3JlDAGk3uu3NtZbPnuhS</td>\n",
       "      <td>9</td>\n",
       "    </tr>\n",
       "    <tr>\n",
       "      <th>1</th>\n",
       "      <td>2Ey6v4Sekh3Z0RUSISRosD</td>\n",
       "      <td>8</td>\n",
       "    </tr>\n",
       "    <tr>\n",
       "      <th>2</th>\n",
       "      <td>2kkvB3RNRzwjFdGhaUA0tz</td>\n",
       "      <td>8</td>\n",
       "    </tr>\n",
       "    <tr>\n",
       "      <th>3</th>\n",
       "      <td>08kTa3SL9sV6Iy8KLKtGql</td>\n",
       "      <td>7</td>\n",
       "    </tr>\n",
       "    <tr>\n",
       "      <th>4</th>\n",
       "      <td>4XYieGKSlJlHpzB3bl6WMP</td>\n",
       "      <td>7</td>\n",
       "    </tr>\n",
       "  </tbody>\n",
       "</table>\n",
       "</div>"
      ],
      "text/plain": [
       "                 track_id  Number of Occurrences\n",
       "0  6S3JlDAGk3uu3NtZbPnuhS                      9\n",
       "1  2Ey6v4Sekh3Z0RUSISRosD                      8\n",
       "2  2kkvB3RNRzwjFdGhaUA0tz                      8\n",
       "3  08kTa3SL9sV6Iy8KLKtGql                      7\n",
       "4  4XYieGKSlJlHpzB3bl6WMP                      7"
      ]
     },
     "execution_count": 15,
     "metadata": {},
     "output_type": "execute_result"
    }
   ],
   "source": [
    "track_id_counts = df['track_id'].value_counts()\n",
    "\n",
    "\n",
    "table_data = pd.DataFrame({'track_id': track_id_counts.index, 'Number of Occurrences': track_id_counts.values})\n",
    "\n",
    "table_data.head(5)"
   ]
  },
  {
   "cell_type": "markdown",
   "metadata": {},
   "source": [
    "### Songs that have more than one genre "
   ]
  },
  {
   "cell_type": "markdown",
   "metadata": {},
   "source": [
    "When examining a duplicate value, we notice that the only difference lies in the 'track_genre' field, where the song is associated with more than one musical genre."
   ]
  },
  {
   "cell_type": "code",
   "execution_count": 16,
   "metadata": {},
   "outputs": [
    {
     "data": {
      "text/html": [
       "<div>\n",
       "<style scoped>\n",
       "    .dataframe tbody tr th:only-of-type {\n",
       "        vertical-align: middle;\n",
       "    }\n",
       "\n",
       "    .dataframe tbody tr th {\n",
       "        vertical-align: top;\n",
       "    }\n",
       "\n",
       "    .dataframe thead th {\n",
       "        text-align: right;\n",
       "    }\n",
       "</style>\n",
       "<table border=\"1\" class=\"dataframe\">\n",
       "  <thead>\n",
       "    <tr style=\"text-align: right;\">\n",
       "      <th></th>\n",
       "      <th>track_id</th>\n",
       "      <th>artists</th>\n",
       "      <th>album_name</th>\n",
       "      <th>track_name</th>\n",
       "      <th>popularity</th>\n",
       "      <th>duration_ms</th>\n",
       "      <th>explicit</th>\n",
       "      <th>danceability</th>\n",
       "      <th>energy</th>\n",
       "      <th>key</th>\n",
       "      <th>loudness</th>\n",
       "      <th>mode</th>\n",
       "      <th>speechiness</th>\n",
       "      <th>acousticness</th>\n",
       "      <th>instrumentalness</th>\n",
       "      <th>liveness</th>\n",
       "      <th>valence</th>\n",
       "      <th>tempo</th>\n",
       "      <th>time_signature</th>\n",
       "      <th>track_genre</th>\n",
       "    </tr>\n",
       "  </thead>\n",
       "  <tbody>\n",
       "    <tr>\n",
       "      <th>0</th>\n",
       "      <td>5SuOikwiRyPMVoIQDJUgSV</td>\n",
       "      <td>Gen Hoshino</td>\n",
       "      <td>Comedy</td>\n",
       "      <td>Comedy</td>\n",
       "      <td>73</td>\n",
       "      <td>230666</td>\n",
       "      <td>False</td>\n",
       "      <td>0.676</td>\n",
       "      <td>0.461</td>\n",
       "      <td>1</td>\n",
       "      <td>-6.746</td>\n",
       "      <td>0</td>\n",
       "      <td>0.143</td>\n",
       "      <td>0.0322</td>\n",
       "      <td>0.000001</td>\n",
       "      <td>0.358</td>\n",
       "      <td>0.715</td>\n",
       "      <td>87.917</td>\n",
       "      <td>4</td>\n",
       "      <td>acoustic</td>\n",
       "    </tr>\n",
       "    <tr>\n",
       "      <th>62102</th>\n",
       "      <td>5SuOikwiRyPMVoIQDJUgSV</td>\n",
       "      <td>Gen Hoshino</td>\n",
       "      <td>Comedy</td>\n",
       "      <td>Comedy</td>\n",
       "      <td>73</td>\n",
       "      <td>230666</td>\n",
       "      <td>False</td>\n",
       "      <td>0.676</td>\n",
       "      <td>0.461</td>\n",
       "      <td>1</td>\n",
       "      <td>-6.746</td>\n",
       "      <td>0</td>\n",
       "      <td>0.143</td>\n",
       "      <td>0.0322</td>\n",
       "      <td>0.000001</td>\n",
       "      <td>0.358</td>\n",
       "      <td>0.715</td>\n",
       "      <td>87.917</td>\n",
       "      <td>4</td>\n",
       "      <td>j-pop</td>\n",
       "    </tr>\n",
       "    <tr>\n",
       "      <th>99152</th>\n",
       "      <td>5SuOikwiRyPMVoIQDJUgSV</td>\n",
       "      <td>Gen Hoshino</td>\n",
       "      <td>Comedy</td>\n",
       "      <td>Comedy</td>\n",
       "      <td>73</td>\n",
       "      <td>230666</td>\n",
       "      <td>False</td>\n",
       "      <td>0.676</td>\n",
       "      <td>0.461</td>\n",
       "      <td>1</td>\n",
       "      <td>-6.746</td>\n",
       "      <td>0</td>\n",
       "      <td>0.143</td>\n",
       "      <td>0.0322</td>\n",
       "      <td>0.000001</td>\n",
       "      <td>0.358</td>\n",
       "      <td>0.715</td>\n",
       "      <td>87.917</td>\n",
       "      <td>4</td>\n",
       "      <td>singer-songwriter</td>\n",
       "    </tr>\n",
       "    <tr>\n",
       "      <th>102151</th>\n",
       "      <td>5SuOikwiRyPMVoIQDJUgSV</td>\n",
       "      <td>Gen Hoshino</td>\n",
       "      <td>Comedy</td>\n",
       "      <td>Comedy</td>\n",
       "      <td>73</td>\n",
       "      <td>230666</td>\n",
       "      <td>False</td>\n",
       "      <td>0.676</td>\n",
       "      <td>0.461</td>\n",
       "      <td>1</td>\n",
       "      <td>-6.746</td>\n",
       "      <td>0</td>\n",
       "      <td>0.143</td>\n",
       "      <td>0.0322</td>\n",
       "      <td>0.000001</td>\n",
       "      <td>0.358</td>\n",
       "      <td>0.715</td>\n",
       "      <td>87.917</td>\n",
       "      <td>4</td>\n",
       "      <td>songwriter</td>\n",
       "    </tr>\n",
       "  </tbody>\n",
       "</table>\n",
       "</div>"
      ],
      "text/plain": [
       "                      track_id      artists album_name track_name  popularity  \\\n",
       "0       5SuOikwiRyPMVoIQDJUgSV  Gen Hoshino     Comedy     Comedy          73   \n",
       "62102   5SuOikwiRyPMVoIQDJUgSV  Gen Hoshino     Comedy     Comedy          73   \n",
       "99152   5SuOikwiRyPMVoIQDJUgSV  Gen Hoshino     Comedy     Comedy          73   \n",
       "102151  5SuOikwiRyPMVoIQDJUgSV  Gen Hoshino     Comedy     Comedy          73   \n",
       "\n",
       "        duration_ms  explicit  danceability  energy  key  loudness  mode  \\\n",
       "0            230666     False         0.676   0.461    1    -6.746     0   \n",
       "62102        230666     False         0.676   0.461    1    -6.746     0   \n",
       "99152        230666     False         0.676   0.461    1    -6.746     0   \n",
       "102151       230666     False         0.676   0.461    1    -6.746     0   \n",
       "\n",
       "        speechiness  acousticness  instrumentalness  liveness  valence  \\\n",
       "0             0.143        0.0322          0.000001     0.358    0.715   \n",
       "62102         0.143        0.0322          0.000001     0.358    0.715   \n",
       "99152         0.143        0.0322          0.000001     0.358    0.715   \n",
       "102151        0.143        0.0322          0.000001     0.358    0.715   \n",
       "\n",
       "         tempo  time_signature        track_genre  \n",
       "0       87.917               4           acoustic  \n",
       "62102   87.917               4              j-pop  \n",
       "99152   87.917               4  singer-songwriter  \n",
       "102151  87.917               4         songwriter  "
      ]
     },
     "execution_count": 16,
     "metadata": {},
     "output_type": "execute_result"
    }
   ],
   "source": [
    "track_id_duplicated_row = \"5SuOikwiRyPMVoIQDJUgSV\"\n",
    "df.query(f'track_id == \"{track_id_duplicated_row}\"')"
   ]
  },
  {
   "cell_type": "markdown",
   "metadata": {},
   "source": [
    "We know how many songs have more than one genre. "
   ]
  },
  {
   "cell_type": "code",
   "execution_count": 17,
   "metadata": {},
   "outputs": [
    {
     "name": "stdout",
     "output_type": "stream",
     "text": [
      "Number of songs with more than one genre: 16299\n"
     ]
    }
   ],
   "source": [
    "genre_counts = df.groupby('track_id')['track_genre'].apply(lambda x: len(set(x)))\n",
    "\n",
    "filtered_track_ids = genre_counts[genre_counts > 1].index\n",
    "\n",
    "print(\"Number of songs with more than one genre:\", len(filtered_track_ids))"
   ]
  },
  {
   "cell_type": "markdown",
   "metadata": {},
   "source": [
    "### Transformation Delete duplicate songs"
   ]
  },
  {
   "cell_type": "markdown",
   "metadata": {},
   "source": [
    "To resolve duplicate values in the dataset, we chose to retain only the first occurrence of each 'track_id'."
   ]
  },
  {
   "cell_type": "code",
   "execution_count": 18,
   "metadata": {},
   "outputs": [
    {
     "data": {
      "text/plain": [
       "(89740, 20)"
      ]
     },
     "execution_count": 18,
     "metadata": {},
     "output_type": "execute_result"
    }
   ],
   "source": [
    "df = df.drop_duplicates(subset=\"track_id\", keep='first', inplace=False)\n",
    "df.shape"
   ]
  },
  {
   "cell_type": "markdown",
   "metadata": {},
   "source": [
    "In total, our dataset consisted of 89740 records."
   ]
  },
  {
   "cell_type": "markdown",
   "metadata": {},
   "source": [
    "## Artist "
   ]
  },
  {
   "cell_type": "markdown",
   "metadata": {},
   "source": [
    "We continue with the analysis of the artists column."
   ]
  },
  {
   "cell_type": "code",
   "execution_count": 19,
   "metadata": {},
   "outputs": [
    {
     "data": {
      "text/plain": [
       "array(['Gen Hoshino', 'Ben Woodward', 'Ingrid Michaelson;ZAYN', ...,\n",
       "       'Cuencos Tibetanos Sonidos Relajantes',\n",
       "       'Bryan & Katie Torwalt;Brock Human', 'Jesus Culture'], dtype=object)"
      ]
     },
     "execution_count": 19,
     "metadata": {},
     "output_type": "execute_result"
    }
   ],
   "source": [
    "df['artists'].unique()"
   ]
  },
  {
   "cell_type": "markdown",
   "metadata": {},
   "source": [
    "We note that some artist names contain multiple names separated by semicolons ';' in the dataset."
   ]
  },
  {
   "cell_type": "code",
   "execution_count": 20,
   "metadata": {},
   "outputs": [
    {
     "data": {
      "text/html": [
       "<div>\n",
       "<style scoped>\n",
       "    .dataframe tbody tr th:only-of-type {\n",
       "        vertical-align: middle;\n",
       "    }\n",
       "\n",
       "    .dataframe tbody tr th {\n",
       "        vertical-align: top;\n",
       "    }\n",
       "\n",
       "    .dataframe thead th {\n",
       "        text-align: right;\n",
       "    }\n",
       "</style>\n",
       "<table border=\"1\" class=\"dataframe\">\n",
       "  <thead>\n",
       "    <tr style=\"text-align: right;\">\n",
       "      <th></th>\n",
       "      <th>track_id</th>\n",
       "      <th>artists</th>\n",
       "      <th>album_name</th>\n",
       "      <th>track_name</th>\n",
       "      <th>popularity</th>\n",
       "      <th>duration_ms</th>\n",
       "      <th>explicit</th>\n",
       "      <th>danceability</th>\n",
       "      <th>energy</th>\n",
       "      <th>key</th>\n",
       "      <th>loudness</th>\n",
       "      <th>mode</th>\n",
       "      <th>speechiness</th>\n",
       "      <th>acousticness</th>\n",
       "      <th>instrumentalness</th>\n",
       "      <th>liveness</th>\n",
       "      <th>valence</th>\n",
       "      <th>tempo</th>\n",
       "      <th>time_signature</th>\n",
       "      <th>track_genre</th>\n",
       "    </tr>\n",
       "  </thead>\n",
       "  <tbody>\n",
       "    <tr>\n",
       "      <th>2</th>\n",
       "      <td>1iJBSr7s7jYXzM8EGcbK5b</td>\n",
       "      <td>Ingrid Michaelson;ZAYN</td>\n",
       "      <td>To Begin Again</td>\n",
       "      <td>To Begin Again</td>\n",
       "      <td>57</td>\n",
       "      <td>210826</td>\n",
       "      <td>False</td>\n",
       "      <td>0.438</td>\n",
       "      <td>0.359</td>\n",
       "      <td>0</td>\n",
       "      <td>-9.734</td>\n",
       "      <td>1</td>\n",
       "      <td>0.0557</td>\n",
       "      <td>0.210</td>\n",
       "      <td>0.000000</td>\n",
       "      <td>0.1170</td>\n",
       "      <td>0.1200</td>\n",
       "      <td>76.332</td>\n",
       "      <td>4</td>\n",
       "      <td>acoustic</td>\n",
       "    </tr>\n",
       "    <tr>\n",
       "      <th>6</th>\n",
       "      <td>6Vc5wAMmXdKIAM7WUoEb7N</td>\n",
       "      <td>A Great Big World;Christina Aguilera</td>\n",
       "      <td>Is There Anybody Out There?</td>\n",
       "      <td>Say Something</td>\n",
       "      <td>74</td>\n",
       "      <td>229400</td>\n",
       "      <td>False</td>\n",
       "      <td>0.407</td>\n",
       "      <td>0.147</td>\n",
       "      <td>2</td>\n",
       "      <td>-8.822</td>\n",
       "      <td>1</td>\n",
       "      <td>0.0355</td>\n",
       "      <td>0.857</td>\n",
       "      <td>0.000003</td>\n",
       "      <td>0.0913</td>\n",
       "      <td>0.0765</td>\n",
       "      <td>141.284</td>\n",
       "      <td>3</td>\n",
       "      <td>acoustic</td>\n",
       "    </tr>\n",
       "    <tr>\n",
       "      <th>8</th>\n",
       "      <td>0IktbUcnAGrvD03AWnz3Q8</td>\n",
       "      <td>Jason Mraz;Colbie Caillat</td>\n",
       "      <td>We Sing. We Dance. We Steal Things.</td>\n",
       "      <td>Lucky</td>\n",
       "      <td>74</td>\n",
       "      <td>189613</td>\n",
       "      <td>False</td>\n",
       "      <td>0.625</td>\n",
       "      <td>0.414</td>\n",
       "      <td>0</td>\n",
       "      <td>-8.700</td>\n",
       "      <td>1</td>\n",
       "      <td>0.0369</td>\n",
       "      <td>0.294</td>\n",
       "      <td>0.000000</td>\n",
       "      <td>0.1510</td>\n",
       "      <td>0.6690</td>\n",
       "      <td>130.088</td>\n",
       "      <td>4</td>\n",
       "      <td>acoustic</td>\n",
       "    </tr>\n",
       "    <tr>\n",
       "      <th>14</th>\n",
       "      <td>4LbWtBkN82ZRhz9jqzgrb3</td>\n",
       "      <td>Chord Overstreet;Deepend</td>\n",
       "      <td>Hold On (Remix)</td>\n",
       "      <td>Hold On - Remix</td>\n",
       "      <td>56</td>\n",
       "      <td>188133</td>\n",
       "      <td>False</td>\n",
       "      <td>0.755</td>\n",
       "      <td>0.780</td>\n",
       "      <td>2</td>\n",
       "      <td>-6.084</td>\n",
       "      <td>1</td>\n",
       "      <td>0.0327</td>\n",
       "      <td>0.124</td>\n",
       "      <td>0.000028</td>\n",
       "      <td>0.1210</td>\n",
       "      <td>0.3870</td>\n",
       "      <td>120.004</td>\n",
       "      <td>4</td>\n",
       "      <td>acoustic</td>\n",
       "    </tr>\n",
       "    <tr>\n",
       "      <th>16</th>\n",
       "      <td>6xKeQgzfjixSUld14qUezm</td>\n",
       "      <td>Andrew Foy;Renee Foy</td>\n",
       "      <td>ily (i love you baby)</td>\n",
       "      <td>ily (i love you baby)</td>\n",
       "      <td>56</td>\n",
       "      <td>129750</td>\n",
       "      <td>False</td>\n",
       "      <td>0.706</td>\n",
       "      <td>0.112</td>\n",
       "      <td>2</td>\n",
       "      <td>-18.098</td>\n",
       "      <td>1</td>\n",
       "      <td>0.0391</td>\n",
       "      <td>0.827</td>\n",
       "      <td>0.000004</td>\n",
       "      <td>0.1250</td>\n",
       "      <td>0.4140</td>\n",
       "      <td>110.154</td>\n",
       "      <td>4</td>\n",
       "      <td>acoustic</td>\n",
       "    </tr>\n",
       "  </tbody>\n",
       "</table>\n",
       "</div>"
      ],
      "text/plain": [
       "                  track_id                               artists  \\\n",
       "2   1iJBSr7s7jYXzM8EGcbK5b                Ingrid Michaelson;ZAYN   \n",
       "6   6Vc5wAMmXdKIAM7WUoEb7N  A Great Big World;Christina Aguilera   \n",
       "8   0IktbUcnAGrvD03AWnz3Q8             Jason Mraz;Colbie Caillat   \n",
       "14  4LbWtBkN82ZRhz9jqzgrb3              Chord Overstreet;Deepend   \n",
       "16  6xKeQgzfjixSUld14qUezm                  Andrew Foy;Renee Foy   \n",
       "\n",
       "                             album_name             track_name  popularity  \\\n",
       "2                        To Begin Again         To Begin Again          57   \n",
       "6           Is There Anybody Out There?          Say Something          74   \n",
       "8   We Sing. We Dance. We Steal Things.                  Lucky          74   \n",
       "14                      Hold On (Remix)        Hold On - Remix          56   \n",
       "16                ily (i love you baby)  ily (i love you baby)          56   \n",
       "\n",
       "    duration_ms  explicit  danceability  energy  key  loudness  mode  \\\n",
       "2        210826     False         0.438   0.359    0    -9.734     1   \n",
       "6        229400     False         0.407   0.147    2    -8.822     1   \n",
       "8        189613     False         0.625   0.414    0    -8.700     1   \n",
       "14       188133     False         0.755   0.780    2    -6.084     1   \n",
       "16       129750     False         0.706   0.112    2   -18.098     1   \n",
       "\n",
       "    speechiness  acousticness  instrumentalness  liveness  valence    tempo  \\\n",
       "2        0.0557         0.210          0.000000    0.1170   0.1200   76.332   \n",
       "6        0.0355         0.857          0.000003    0.0913   0.0765  141.284   \n",
       "8        0.0369         0.294          0.000000    0.1510   0.6690  130.088   \n",
       "14       0.0327         0.124          0.000028    0.1210   0.3870  120.004   \n",
       "16       0.0391         0.827          0.000004    0.1250   0.4140  110.154   \n",
       "\n",
       "    time_signature track_genre  \n",
       "2                4    acoustic  \n",
       "6                3    acoustic  \n",
       "8                4    acoustic  \n",
       "14               4    acoustic  \n",
       "16               4    acoustic  "
      ]
     },
     "execution_count": 20,
     "metadata": {},
     "output_type": "execute_result"
    }
   ],
   "source": [
    "df_filtered = df[df['artists'].str.contains(';')]\n",
    "df_filtered.head()"
   ]
  },
  {
   "cell_type": "markdown",
   "metadata": {},
   "source": [
    "### Secondary artist and artist number transformations "
   ]
  },
  {
   "cell_type": "markdown",
   "metadata": {},
   "source": [
    "We perform some transformations for the artists column:\n",
    "\n",
    " - **Split Artists into Lists:** a new column called 'split_artists' is created where each value in the 'artists' column is split using the ; delimiter.\n",
    "\n",
    " - **Count Number of Artists per Track:** An additional column called 'num_artists' is added containing the number of artists associated with each track.\n",
    "\n",
    " - **Second Artist Extraction (if any):** Another column called 'secondary_artist' is added that captures the second artist in each artist list, if there is more than one artist associated with the track.\n"
   ]
  },
  {
   "cell_type": "code",
   "execution_count": 21,
   "metadata": {},
   "outputs": [],
   "source": [
    "df['split_artists'] = df['artists'].str.split(';')\n",
    "df['num_artists'] = df['split_artists'].apply(len)\n",
    "df['secondary_artist'] = df['split_artists'].apply(lambda x: x[1] if len(x) > 1 else None)"
   ]
  },
  {
   "cell_type": "markdown",
   "metadata": {},
   "source": [
    "In cases where the values do not contain the name of the second artist, we add \"No second artist\" to prevent them from being interpreted as null values."
   ]
  },
  {
   "cell_type": "code",
   "execution_count": 22,
   "metadata": {},
   "outputs": [],
   "source": [
    "df['secondary_artist'] = df['secondary_artist'].fillna('No second artist')"
   ]
  },
  {
   "cell_type": "markdown",
   "metadata": {},
   "source": [
    "We can observe that some songs have more than two artists, and there are even cases where a song has more than 20 participating artists."
   ]
  },
  {
   "cell_type": "code",
   "execution_count": 23,
   "metadata": {},
   "outputs": [
    {
     "data": {
      "text/plain": [
       "array([ 1,  2,  3,  4,  5, 10,  7,  6, 18, 11,  8, 17,  9, 15, 14, 19, 12,\n",
       "       31, 13, 26, 23, 30, 20, 22, 32, 38], dtype=int64)"
      ]
     },
     "execution_count": 23,
     "metadata": {},
     "output_type": "execute_result"
    }
   ],
   "source": [
    "df['num_artists'].unique()"
   ]
  },
  {
   "cell_type": "markdown",
   "metadata": {},
   "source": [
    "A notable example is a song that features the collaboration of 38 artists."
   ]
  },
  {
   "cell_type": "code",
   "execution_count": 24,
   "metadata": {},
   "outputs": [
    {
     "data": {
      "text/html": [
       "<div>\n",
       "<style scoped>\n",
       "    .dataframe tbody tr th:only-of-type {\n",
       "        vertical-align: middle;\n",
       "    }\n",
       "\n",
       "    .dataframe tbody tr th {\n",
       "        vertical-align: top;\n",
       "    }\n",
       "\n",
       "    .dataframe thead th {\n",
       "        text-align: right;\n",
       "    }\n",
       "</style>\n",
       "<table border=\"1\" class=\"dataframe\">\n",
       "  <thead>\n",
       "    <tr style=\"text-align: right;\">\n",
       "      <th></th>\n",
       "      <th>track_id</th>\n",
       "      <th>artists</th>\n",
       "      <th>album_name</th>\n",
       "      <th>track_name</th>\n",
       "      <th>popularity</th>\n",
       "      <th>duration_ms</th>\n",
       "      <th>explicit</th>\n",
       "      <th>danceability</th>\n",
       "      <th>energy</th>\n",
       "      <th>key</th>\n",
       "      <th>...</th>\n",
       "      <th>acousticness</th>\n",
       "      <th>instrumentalness</th>\n",
       "      <th>liveness</th>\n",
       "      <th>valence</th>\n",
       "      <th>tempo</th>\n",
       "      <th>time_signature</th>\n",
       "      <th>track_genre</th>\n",
       "      <th>split_artists</th>\n",
       "      <th>num_artists</th>\n",
       "      <th>secondary_artist</th>\n",
       "    </tr>\n",
       "  </thead>\n",
       "  <tbody>\n",
       "    <tr>\n",
       "      <th>104241</th>\n",
       "      <td>7F5rc8a0xD6DCloB2kROq9</td>\n",
       "      <td>Aitana;Alejandro Sanz;Antonio JosÃ©;Antonio Or...</td>\n",
       "      <td>Himno A La AlegrÃ­a</td>\n",
       "      <td>Himno A La AlegrÃ­a</td>\n",
       "      <td>66</td>\n",
       "      <td>307473</td>\n",
       "      <td>False</td>\n",
       "      <td>0.304</td>\n",
       "      <td>0.328</td>\n",
       "      <td>2</td>\n",
       "      <td>...</td>\n",
       "      <td>0.56</td>\n",
       "      <td>0.0</td>\n",
       "      <td>0.116</td>\n",
       "      <td>0.243</td>\n",
       "      <td>119.675</td>\n",
       "      <td>4</td>\n",
       "      <td>spanish</td>\n",
       "      <td>[Aitana, Alejandro Sanz, Antonio JosÃ©, Antoni...</td>\n",
       "      <td>38</td>\n",
       "      <td>Alejandro Sanz</td>\n",
       "    </tr>\n",
       "  </tbody>\n",
       "</table>\n",
       "<p>1 rows × 23 columns</p>\n",
       "</div>"
      ],
      "text/plain": [
       "                      track_id  \\\n",
       "104241  7F5rc8a0xD6DCloB2kROq9   \n",
       "\n",
       "                                                  artists  \\\n",
       "104241  Aitana;Alejandro Sanz;Antonio JosÃ©;Antonio Or...   \n",
       "\n",
       "                 album_name           track_name  popularity  duration_ms  \\\n",
       "104241  Himno A La AlegrÃ­a  Himno A La AlegrÃ­a          66       307473   \n",
       "\n",
       "        explicit  danceability  energy  key  ...  acousticness  \\\n",
       "104241     False         0.304   0.328    2  ...          0.56   \n",
       "\n",
       "        instrumentalness  liveness  valence    tempo  time_signature  \\\n",
       "104241               0.0     0.116    0.243  119.675               4   \n",
       "\n",
       "        track_genre                                      split_artists  \\\n",
       "104241      spanish  [Aitana, Alejandro Sanz, Antonio JosÃ©, Antoni...   \n",
       "\n",
       "        num_artists secondary_artist  \n",
       "104241           38   Alejandro Sanz  \n",
       "\n",
       "[1 rows x 23 columns]"
      ]
     },
     "execution_count": 24,
     "metadata": {},
     "output_type": "execute_result"
    }
   ],
   "source": [
    "df[df['num_artists'] == 38]"
   ]
  },
  {
   "cell_type": "markdown",
   "metadata": {},
   "source": [
    "### Transformation popularity "
   ]
  },
  {
   "cell_type": "markdown",
   "metadata": {},
   "source": [
    "The 'popularity' column shows a variety of values ranging from 0 to 100, indicating different levels of popularity for the songs in the dataset."
   ]
  },
  {
   "cell_type": "code",
   "execution_count": 25,
   "metadata": {},
   "outputs": [
    {
     "data": {
      "text/plain": [
       "array([ 73,  55,  57,  71,  82,  58,  74,  80,  56,  69,  52,  62,  54,\n",
       "        68,  67,  75,  63,  70,   0,   1,  46,  61,  60,  51,  66,  64,\n",
       "        65,  44,  45,  50,  59,  49,  53,  47,  43,  42,  20,  22,  35,\n",
       "        19,  24,  18,  23,  40,  38,  41,  30,  37,  39,  48,  36,  34,\n",
       "        26,  32,  33,  21,  31,  28,  29,  27,  25,  16,   3,  12,   7,\n",
       "        10,   9,  11,  17,   8,  15,  87,  83,  86,  93,  76,  78,   4,\n",
       "         2,   5,  85,  81,  84,  72,  79,  77,   6,  13,  14,  89,  96,\n",
       "       100,  98,  88,  92,  90,  91,  99,  97,  95,  94], dtype=int64)"
      ]
     },
     "execution_count": 25,
     "metadata": {},
     "output_type": "execute_result"
    }
   ],
   "source": [
    "df['popularity'].unique()"
   ]
  },
  {
   "cell_type": "markdown",
   "metadata": {},
   "source": [
    "To obtain a clearer visualization of the information provided by the 'popularity' column, we categorize these values as follows:\n",
    "\n",
    "- Values in the interval from 0 to 33 will be labeled as 'Low'.\n",
    "- Values in the interval from 33 to 66 will be labeled as 'Medium'.\n",
    "- Values in the range 66 to 100 will be labeled as 'High'."
   ]
  },
  {
   "cell_type": "code",
   "execution_count": 26,
   "metadata": {},
   "outputs": [
    {
     "data": {
      "text/html": [
       "<div>\n",
       "<style scoped>\n",
       "    .dataframe tbody tr th:only-of-type {\n",
       "        vertical-align: middle;\n",
       "    }\n",
       "\n",
       "    .dataframe tbody tr th {\n",
       "        vertical-align: top;\n",
       "    }\n",
       "\n",
       "    .dataframe thead th {\n",
       "        text-align: right;\n",
       "    }\n",
       "</style>\n",
       "<table border=\"1\" class=\"dataframe\">\n",
       "  <thead>\n",
       "    <tr style=\"text-align: right;\">\n",
       "      <th></th>\n",
       "      <th>popularity</th>\n",
       "      <th>popularity_category</th>\n",
       "    </tr>\n",
       "  </thead>\n",
       "  <tbody>\n",
       "    <tr>\n",
       "      <th>0</th>\n",
       "      <td>73</td>\n",
       "      <td>High</td>\n",
       "    </tr>\n",
       "    <tr>\n",
       "      <th>1</th>\n",
       "      <td>55</td>\n",
       "      <td>Medium</td>\n",
       "    </tr>\n",
       "    <tr>\n",
       "      <th>2</th>\n",
       "      <td>57</td>\n",
       "      <td>Medium</td>\n",
       "    </tr>\n",
       "    <tr>\n",
       "      <th>3</th>\n",
       "      <td>71</td>\n",
       "      <td>High</td>\n",
       "    </tr>\n",
       "    <tr>\n",
       "      <th>4</th>\n",
       "      <td>82</td>\n",
       "      <td>High</td>\n",
       "    </tr>\n",
       "  </tbody>\n",
       "</table>\n",
       "</div>"
      ],
      "text/plain": [
       "   popularity popularity_category\n",
       "0          73                High\n",
       "1          55              Medium\n",
       "2          57              Medium\n",
       "3          71                High\n",
       "4          82                High"
      ]
     },
     "execution_count": 26,
     "metadata": {},
     "output_type": "execute_result"
    }
   ],
   "source": [
    "bins = [0, 33, 66, 100]  \n",
    "\n",
    "labels = ['Low', 'Medium', 'High']\n",
    "\n",
    "df['popularity_category'] = pd.cut(df['popularity'], bins=bins, labels=labels, include_lowest=True)\n",
    "\n",
    "df[['popularity', 'popularity_category']].head()"
   ]
  },
  {
   "cell_type": "markdown",
   "metadata": {},
   "source": [
    "### Gender "
   ]
  },
  {
   "cell_type": "markdown",
   "metadata": {},
   "source": [
    "In the 'track_genre' column, we find that there are a total of 113 different genres."
   ]
  },
  {
   "cell_type": "code",
   "execution_count": 27,
   "metadata": {},
   "outputs": [
    {
     "data": {
      "text/plain": [
       "113"
      ]
     },
     "execution_count": 27,
     "metadata": {},
     "output_type": "execute_result"
    }
   ],
   "source": [
    "df['track_genre'].nunique()"
   ]
  },
  {
   "cell_type": "markdown",
   "metadata": {},
   "source": [
    "Each genre contains a large number of songs in the dataset."
   ]
  },
  {
   "cell_type": "code",
   "execution_count": 28,
   "metadata": {},
   "outputs": [
    {
     "data": {
      "text/html": [
       "<div>\n",
       "<style scoped>\n",
       "    .dataframe tbody tr th:only-of-type {\n",
       "        vertical-align: middle;\n",
       "    }\n",
       "\n",
       "    .dataframe tbody tr th {\n",
       "        vertical-align: top;\n",
       "    }\n",
       "\n",
       "    .dataframe thead th {\n",
       "        text-align: right;\n",
       "    }\n",
       "</style>\n",
       "<table border=\"1\" class=\"dataframe\">\n",
       "  <thead>\n",
       "    <tr style=\"text-align: right;\">\n",
       "      <th></th>\n",
       "      <th>track_genre</th>\n",
       "      <th>cnt</th>\n",
       "    </tr>\n",
       "  </thead>\n",
       "  <tbody>\n",
       "    <tr>\n",
       "      <th>0</th>\n",
       "      <td>acoustic</td>\n",
       "      <td>1000</td>\n",
       "    </tr>\n",
       "    <tr>\n",
       "      <th>1</th>\n",
       "      <td>afrobeat</td>\n",
       "      <td>999</td>\n",
       "    </tr>\n",
       "    <tr>\n",
       "      <th>2</th>\n",
       "      <td>alt-rock</td>\n",
       "      <td>999</td>\n",
       "    </tr>\n",
       "    <tr>\n",
       "      <th>3</th>\n",
       "      <td>alternative</td>\n",
       "      <td>407</td>\n",
       "    </tr>\n",
       "    <tr>\n",
       "      <th>4</th>\n",
       "      <td>ambient</td>\n",
       "      <td>999</td>\n",
       "    </tr>\n",
       "  </tbody>\n",
       "</table>\n",
       "</div>"
      ],
      "text/plain": [
       "   track_genre   cnt\n",
       "0     acoustic  1000\n",
       "1     afrobeat   999\n",
       "2     alt-rock   999\n",
       "3  alternative   407\n",
       "4      ambient   999"
      ]
     },
     "execution_count": 28,
     "metadata": {},
     "output_type": "execute_result"
    }
   ],
   "source": [
    "df.groupby(['track_genre']).size().reset_index(name='cnt').head()"
   ]
  },
  {
   "cell_type": "markdown",
   "metadata": {},
   "source": [
    "### Transformation gender categorization"
   ]
  },
  {
   "cell_type": "markdown",
   "metadata": {},
   "source": [
    "To get a better view of the distribution of genres in the songs, we performed a categorization of music genres where we grouped and kept only 9 main genres."
   ]
  },
  {
   "cell_type": "code",
   "execution_count": 29,
   "metadata": {},
   "outputs": [],
   "source": [
    "music_genres = {\n",
    "    \"Pop\": [\"pop\", \"pop-film\", \"j-pop\", \"k-pop\", \"latino\", \"latin\", \"party\", \"dance\", \"disco\", \"club\", \"trance\", \"techno\", \"synth-pop\", \"reggaeton\", \"reggae\", \"hip-hop\", \"r-n-b\", \"rap\", \"edm\", \"electronic\", \"dancehall\", \"dubstep\", \"dub\", \"disco\", \"dance\", \"club\", \"comedy\", \"happy\"],\n",
    "    \"Rock\": [\"rock\", \"psych-rock\", \"punk-rock\", \"rock-n-roll\", \"rockabilly\", \"indie\", \"indie-pop\", \"alt-rock\", \"metalcore\", \"metal\", \"heavy-metal\", \"hard-rock\", \"hardcore\", \"grunge\", \"goth\", \"grunge\", \"garage\", \"emo\"],\n",
    "    \"Acoustic\": [\"acoustic\", \"singer-songwriter\", \"songwriter\", \"sad\", \"romance\", \"folk\", \"country\", \"blues\", \"ballad\"],\n",
    "    \"World\": [\"world-music\", \"tango\", \"samba\", \"salsa\", \"sertanejo\", \"samba\", \"pagode\", \"forro\", \"flamenco\", \"cantopop\", \"mandopop\"],\n",
    "    \"Instrumental\": [\"classical\", \"piano\", \"jazz\", \"instrumental\", \"ambient\", \"new-age\", \"opera\", \"orchestral\"],\n",
    "    \"Experimental\": [\"experimental\", \"alternative\", \"avant-garde\", \"noise\", \"industrial\", \"idm\", \"glitch\", \"drone\"],\n",
    "    \"Ethnic\": [\"african\", \"iranian\", \"turkish\", \"swedish\", \"spanish\", \"french\", \"german\", \"celtic\", \"indian\", \"malay\"],\n",
    "    \"Children\": [\"kids\", \"children\", \"disney\", \"animation\", \"cartoon\"]\n",
    "}\n",
    "\n",
    "def assign_genre(genre, music_genres):\n",
    "    for category, keywords in music_genres.items():\n",
    "        if any(keyword in genre for keyword in keywords):\n",
    "            return category\n",
    "    return 'Other'"
   ]
  },
  {
   "cell_type": "code",
   "execution_count": 30,
   "metadata": {},
   "outputs": [],
   "source": [
    "df['genre_category'] = df['track_genre'].apply(lambda x: assign_genre(x, music_genres))"
   ]
  },
  {
   "cell_type": "markdown",
   "metadata": {},
   "source": [
    "We check the number of genres contained in our dataset"
   ]
  },
  {
   "cell_type": "code",
   "execution_count": 31,
   "metadata": {},
   "outputs": [
    {
     "data": {
      "text/plain": [
       "9"
      ]
     },
     "execution_count": 31,
     "metadata": {},
     "output_type": "execute_result"
    }
   ],
   "source": [
    "df['genre_category'].nunique()"
   ]
  },
  {
   "cell_type": "markdown",
   "metadata": {},
   "source": [
    "After reviewing the data set, we proceed to eliminate the following columns that do not contribute to the final objective"
   ]
  },
  {
   "cell_type": "code",
   "execution_count": 32,
   "metadata": {},
   "outputs": [],
   "source": [
    "df = df.drop(columns=['split_artists', 'track_id'])"
   ]
  },
  {
   "cell_type": "code",
   "execution_count": 33,
   "metadata": {},
   "outputs": [
    {
     "data": {
      "text/plain": [
       "(89740, 23)"
      ]
     },
     "execution_count": 33,
     "metadata": {},
     "output_type": "execute_result"
    }
   ],
   "source": [
    "df.shape"
   ]
  },
  {
   "cell_type": "markdown",
   "metadata": {},
   "source": [
    "### Total transformations \n",
    "\n",
    "1. **Deletion of a specific row**:\n",
    "   A row was deleted from the DataFrame where the value of 'track_id' was equal to '1kR4gIb7nGxHPI3D2ifs59'.\n",
    "\n",
    "2. **Duplicate removal**:\n",
    "   Duplicate rows based on the 'track_id' column were removed, retaining only the first occurrence of each 'track_id'.\n",
    "\n",
    "3. **Splitting the 'artists'** column:\n",
    "   Split the 'artists' column, which contains artist names separated by ';', into a list of artist names using the ';' character as a separator.\n",
    "\n",
    "4. **Count of artists per song**:\n",
    "   A new column named 'num_artists' was created that counts the number of artists associated with each song.\n",
    "\n",
    "5. **Extraction of the second artist**:\n",
    "   The second artist was extracted from the 'split_artists' list and placed in a new column called 'secondary_artist'. If a song has only one artist, the value 'No second artist' was assigned to this column.\n",
    "\n",
    "6. **Music genre category assignment**:\n",
    "   A music genre category was assigned to each song using a custom function that maps specific music genres to broader categories.\n",
    "\n",
    "7. **Popularity categorization**:\n",
    "   The 'popularity' column was categorized based on predefined ranges ('Low', 'Medium', 'High') using bins defined by values 0-33, 33-66 and 66-100.\n",
    "\n",
    "8. **Deletion of unneeded columns**:\n",
    "   Columns that are not relevant to the final analysis were removed, including 'Unnamed: 0', 'split_artists' and 'track_id'.\n"
   ]
  },
  {
   "cell_type": "markdown",
   "metadata": {},
   "source": [
    "After applying the transformations to the dataset, here is the general visualization of how it was structured."
   ]
  },
  {
   "cell_type": "code",
   "execution_count": 34,
   "metadata": {},
   "outputs": [
    {
     "data": {
      "text/html": [
       "<div>\n",
       "<style scoped>\n",
       "    .dataframe tbody tr th:only-of-type {\n",
       "        vertical-align: middle;\n",
       "    }\n",
       "\n",
       "    .dataframe tbody tr th {\n",
       "        vertical-align: top;\n",
       "    }\n",
       "\n",
       "    .dataframe thead th {\n",
       "        text-align: right;\n",
       "    }\n",
       "</style>\n",
       "<table border=\"1\" class=\"dataframe\">\n",
       "  <thead>\n",
       "    <tr style=\"text-align: right;\">\n",
       "      <th></th>\n",
       "      <th>artists</th>\n",
       "      <th>album_name</th>\n",
       "      <th>track_name</th>\n",
       "      <th>popularity</th>\n",
       "      <th>duration_ms</th>\n",
       "      <th>explicit</th>\n",
       "      <th>danceability</th>\n",
       "      <th>energy</th>\n",
       "      <th>key</th>\n",
       "      <th>loudness</th>\n",
       "      <th>...</th>\n",
       "      <th>instrumentalness</th>\n",
       "      <th>liveness</th>\n",
       "      <th>valence</th>\n",
       "      <th>tempo</th>\n",
       "      <th>time_signature</th>\n",
       "      <th>track_genre</th>\n",
       "      <th>num_artists</th>\n",
       "      <th>secondary_artist</th>\n",
       "      <th>popularity_category</th>\n",
       "      <th>genre_category</th>\n",
       "    </tr>\n",
       "  </thead>\n",
       "  <tbody>\n",
       "    <tr>\n",
       "      <th>0</th>\n",
       "      <td>Gen Hoshino</td>\n",
       "      <td>Comedy</td>\n",
       "      <td>Comedy</td>\n",
       "      <td>73</td>\n",
       "      <td>230666</td>\n",
       "      <td>False</td>\n",
       "      <td>0.676</td>\n",
       "      <td>0.4610</td>\n",
       "      <td>1</td>\n",
       "      <td>-6.746</td>\n",
       "      <td>...</td>\n",
       "      <td>0.000001</td>\n",
       "      <td>0.3580</td>\n",
       "      <td>0.715</td>\n",
       "      <td>87.917</td>\n",
       "      <td>4</td>\n",
       "      <td>acoustic</td>\n",
       "      <td>1</td>\n",
       "      <td>No second artist</td>\n",
       "      <td>High</td>\n",
       "      <td>Acoustic</td>\n",
       "    </tr>\n",
       "    <tr>\n",
       "      <th>1</th>\n",
       "      <td>Ben Woodward</td>\n",
       "      <td>Ghost (Acoustic)</td>\n",
       "      <td>Ghost - Acoustic</td>\n",
       "      <td>55</td>\n",
       "      <td>149610</td>\n",
       "      <td>False</td>\n",
       "      <td>0.420</td>\n",
       "      <td>0.1660</td>\n",
       "      <td>1</td>\n",
       "      <td>-17.235</td>\n",
       "      <td>...</td>\n",
       "      <td>0.000006</td>\n",
       "      <td>0.1010</td>\n",
       "      <td>0.267</td>\n",
       "      <td>77.489</td>\n",
       "      <td>4</td>\n",
       "      <td>acoustic</td>\n",
       "      <td>1</td>\n",
       "      <td>No second artist</td>\n",
       "      <td>Medium</td>\n",
       "      <td>Acoustic</td>\n",
       "    </tr>\n",
       "    <tr>\n",
       "      <th>2</th>\n",
       "      <td>Ingrid Michaelson;ZAYN</td>\n",
       "      <td>To Begin Again</td>\n",
       "      <td>To Begin Again</td>\n",
       "      <td>57</td>\n",
       "      <td>210826</td>\n",
       "      <td>False</td>\n",
       "      <td>0.438</td>\n",
       "      <td>0.3590</td>\n",
       "      <td>0</td>\n",
       "      <td>-9.734</td>\n",
       "      <td>...</td>\n",
       "      <td>0.000000</td>\n",
       "      <td>0.1170</td>\n",
       "      <td>0.120</td>\n",
       "      <td>76.332</td>\n",
       "      <td>4</td>\n",
       "      <td>acoustic</td>\n",
       "      <td>2</td>\n",
       "      <td>ZAYN</td>\n",
       "      <td>Medium</td>\n",
       "      <td>Acoustic</td>\n",
       "    </tr>\n",
       "    <tr>\n",
       "      <th>3</th>\n",
       "      <td>Kina Grannis</td>\n",
       "      <td>Crazy Rich Asians (Original Motion Picture Sou...</td>\n",
       "      <td>Can't Help Falling In Love</td>\n",
       "      <td>71</td>\n",
       "      <td>201933</td>\n",
       "      <td>False</td>\n",
       "      <td>0.266</td>\n",
       "      <td>0.0596</td>\n",
       "      <td>0</td>\n",
       "      <td>-18.515</td>\n",
       "      <td>...</td>\n",
       "      <td>0.000071</td>\n",
       "      <td>0.1320</td>\n",
       "      <td>0.143</td>\n",
       "      <td>181.740</td>\n",
       "      <td>3</td>\n",
       "      <td>acoustic</td>\n",
       "      <td>1</td>\n",
       "      <td>No second artist</td>\n",
       "      <td>High</td>\n",
       "      <td>Acoustic</td>\n",
       "    </tr>\n",
       "    <tr>\n",
       "      <th>4</th>\n",
       "      <td>Chord Overstreet</td>\n",
       "      <td>Hold On</td>\n",
       "      <td>Hold On</td>\n",
       "      <td>82</td>\n",
       "      <td>198853</td>\n",
       "      <td>False</td>\n",
       "      <td>0.618</td>\n",
       "      <td>0.4430</td>\n",
       "      <td>2</td>\n",
       "      <td>-9.681</td>\n",
       "      <td>...</td>\n",
       "      <td>0.000000</td>\n",
       "      <td>0.0829</td>\n",
       "      <td>0.167</td>\n",
       "      <td>119.949</td>\n",
       "      <td>4</td>\n",
       "      <td>acoustic</td>\n",
       "      <td>1</td>\n",
       "      <td>No second artist</td>\n",
       "      <td>High</td>\n",
       "      <td>Acoustic</td>\n",
       "    </tr>\n",
       "  </tbody>\n",
       "</table>\n",
       "<p>5 rows × 23 columns</p>\n",
       "</div>"
      ],
      "text/plain": [
       "                  artists                                         album_name  \\\n",
       "0             Gen Hoshino                                             Comedy   \n",
       "1            Ben Woodward                                   Ghost (Acoustic)   \n",
       "2  Ingrid Michaelson;ZAYN                                     To Begin Again   \n",
       "3            Kina Grannis  Crazy Rich Asians (Original Motion Picture Sou...   \n",
       "4        Chord Overstreet                                            Hold On   \n",
       "\n",
       "                   track_name  popularity  duration_ms  explicit  \\\n",
       "0                      Comedy          73       230666     False   \n",
       "1            Ghost - Acoustic          55       149610     False   \n",
       "2              To Begin Again          57       210826     False   \n",
       "3  Can't Help Falling In Love          71       201933     False   \n",
       "4                     Hold On          82       198853     False   \n",
       "\n",
       "   danceability  energy  key  loudness  ...  instrumentalness  liveness  \\\n",
       "0         0.676  0.4610    1    -6.746  ...          0.000001    0.3580   \n",
       "1         0.420  0.1660    1   -17.235  ...          0.000006    0.1010   \n",
       "2         0.438  0.3590    0    -9.734  ...          0.000000    0.1170   \n",
       "3         0.266  0.0596    0   -18.515  ...          0.000071    0.1320   \n",
       "4         0.618  0.4430    2    -9.681  ...          0.000000    0.0829   \n",
       "\n",
       "   valence    tempo  time_signature  track_genre  num_artists  \\\n",
       "0    0.715   87.917               4     acoustic            1   \n",
       "1    0.267   77.489               4     acoustic            1   \n",
       "2    0.120   76.332               4     acoustic            2   \n",
       "3    0.143  181.740               3     acoustic            1   \n",
       "4    0.167  119.949               4     acoustic            1   \n",
       "\n",
       "   secondary_artist popularity_category  genre_category  \n",
       "0  No second artist                High        Acoustic  \n",
       "1  No second artist              Medium        Acoustic  \n",
       "2              ZAYN              Medium        Acoustic  \n",
       "3  No second artist                High        Acoustic  \n",
       "4  No second artist                High        Acoustic  \n",
       "\n",
       "[5 rows x 23 columns]"
      ]
     },
     "execution_count": 34,
     "metadata": {},
     "output_type": "execute_result"
    }
   ],
   "source": [
    "df.head()"
   ]
  },
  {
   "cell_type": "markdown",
   "metadata": {},
   "source": [
    "The graph shows that some artists are considerably more popular than others on Spotify. This may be due to differences in musical quality, promotional strategies, current trends in music genres, previous artistic legacy and distribution agreements. Taken together, these factors contribute to an uneven distribution in the play frequency of artists on the platform."
   ]
  },
  {
   "cell_type": "code",
   "execution_count": 35,
   "metadata": {},
   "outputs": [
    {
     "data": {
      "image/png": "[encoded data removed]",
      "text/plain": [
       "<Figure size 1200x800 with 1 Axes>"
      ]
     },
     "metadata": {},
     "output_type": "display_data"
    }
   ],
   "source": [
    "artist_frequency = df['artists'].value_counts()\n",
    "\n",
    "top_artists = artist_frequency.head(10)\n",
    "\n",
    "plt.figure(figsize=(12, 8))  \n",
    "top_artists.plot(kind='bar', color='skyblue', edgecolor='black')\n",
    "plt.title('Artists with Highest Frequency')\n",
    "plt.xlabel('Artist')\n",
    "plt.ylabel('Frequency')\n",
    "plt.xticks(rotation=45, ha='right')\n",
    "plt.show()\n"
   ]
  },
  {
   "cell_type": "markdown",
   "metadata": {},
   "source": [
    "These albums represent a variety of genres and themes popular with Spotify users, from country music to Mozart classics to alternative Christmas music. The high frequency of these albums reflects listener preferences and the diversity of musical tastes on the platform.\n"
   ]
  },
  {
   "cell_type": "code",
   "execution_count": 36,
   "metadata": {},
   "outputs": [
    {
     "name": "stdout",
     "output_type": "stream",
     "text": [
      "\n",
      "Table of the Top 5 Albums by Frequency:\n"
     ]
    },
    {
     "data": {
      "text/html": [
       "<div>\n",
       "<style scoped>\n",
       "    .dataframe tbody tr th:only-of-type {\n",
       "        vertical-align: middle;\n",
       "    }\n",
       "\n",
       "    .dataframe tbody tr th {\n",
       "        vertical-align: top;\n",
       "    }\n",
       "\n",
       "    .dataframe thead th {\n",
       "        text-align: right;\n",
       "    }\n",
       "</style>\n",
       "<table border=\"1\" class=\"dataframe\">\n",
       "  <thead>\n",
       "    <tr style=\"text-align: right;\">\n",
       "      <th></th>\n",
       "      <th>Album</th>\n",
       "      <th>Frequency</th>\n",
       "    </tr>\n",
       "  </thead>\n",
       "  <tbody>\n",
       "    <tr>\n",
       "      <th>0</th>\n",
       "      <td>The Complete Hank Williams</td>\n",
       "      <td>110</td>\n",
       "    </tr>\n",
       "    <tr>\n",
       "      <th>1</th>\n",
       "      <td>Greatest Hits</td>\n",
       "      <td>77</td>\n",
       "    </tr>\n",
       "    <tr>\n",
       "      <th>2</th>\n",
       "      <td>Mozart: A Night of Classics</td>\n",
       "      <td>75</td>\n",
       "    </tr>\n",
       "    <tr>\n",
       "      <th>3</th>\n",
       "      <td>Alternative Christmas 2022</td>\n",
       "      <td>73</td>\n",
       "    </tr>\n",
       "    <tr>\n",
       "      <th>4</th>\n",
       "      <td>Mozart - All Day Classics</td>\n",
       "      <td>68</td>\n",
       "    </tr>\n",
       "  </tbody>\n",
       "</table>\n",
       "</div>"
      ],
      "text/plain": [
       "                         Album  Frequency\n",
       "0   The Complete Hank Williams        110\n",
       "1                Greatest Hits         77\n",
       "2  Mozart: A Night of Classics         75\n",
       "3   Alternative Christmas 2022         73\n",
       "4    Mozart - All Day Classics         68"
      ]
     },
     "execution_count": 36,
     "metadata": {},
     "output_type": "execute_result"
    }
   ],
   "source": [
    "album_frequency = df['album_name'].value_counts()\n",
    "\n",
    "top_5_albums = album_frequency.head(5)\n",
    "top_5_albums_df = pd.DataFrame({'Album': top_5_albums.index, 'Frequency': top_5_albums.values})\n",
    "\n",
    "\n",
    "print(\"\\nTable of the Top 5 Albums by Frequency:\")\n",
    "top_5_albums_df"
   ]
  },
  {
   "cell_type": "code",
   "execution_count": 37,
   "metadata": {},
   "outputs": [
    {
     "data": {
      "image/png": "[encoded data removed]",
      "text/plain": [
       "<Figure size 1000x600 with 1 Axes>"
      ]
     },
     "metadata": {},
     "output_type": "display_data"
    }
   ],
   "source": [
    "album_frequency = df['album_name'].value_counts()\n",
    "\n",
    "top_5_albums = album_frequency.head(5)\n",
    "\n",
    "plt.figure(figsize=(10, 6))  \n",
    "top_5_albums.plot(kind='bar', color='skyblue', edgecolor='black')\n",
    "plt.title('Top 5 Albums with Highest Frequency')\n",
    "plt.xlabel('Album')\n",
    "plt.ylabel('Frequency')\n",
    "plt.xticks(rotation=45, ha='right')\n",
    "plt.show()"
   ]
  },
  {
   "cell_type": "markdown",
   "metadata": {},
   "source": [
    "The graph showing the distribution of songs by number of artists reveals an interesting pattern in the music industry. The predominance of songs performed by one or two artists suggests that popular music tends to be created and performed by a relatively limited number of collaborators compared to larger ensembles. This phenomenon could be related to several factors. First, songs performed by solo artists or duos may be easier to produce and promote, which may lead to greater exposure and public acceptance. In addition, the trend toward fewer artists per song could reflect the preferences of listeners, who may be more inclined toward more intimate or minimalist musical styles."
   ]
  },
  {
   "cell_type": "code",
   "execution_count": 38,
   "metadata": {},
   "outputs": [
    {
     "data": {
      "image/png": "[encoded data removed]",
      "text/plain": [
       "<Figure size 800x800 with 1 Axes>"
      ]
     },
     "metadata": {},
     "output_type": "display_data"
    }
   ],
   "source": [
    "num_artists_1_2 = df[df['num_artists'].isin([1, 2])]\n",
    "num_artists_more_than_2 = df[df['num_artists'] > 2]\n",
    "\n",
    "total_songs = len(df)\n",
    "percentage_1_2 = (len(num_artists_1_2) / total_songs) * 100\n",
    "percentage_more_than_2 = (len(num_artists_more_than_2) / total_songs) * 100\n",
    "\n",
    "percentages = [percentage_1_2, percentage_more_than_2]\n",
    "labels = ['1 or 2 Artists', 'More than 2 Artists']\n",
    "colors = ['skyblue', 'lightcoral']\n",
    "\n",
    "plt.figure(figsize=(8, 8))  \n",
    "plt.pie(percentages, labels=labels, autopct='%1.1f%%', colors=colors, startangle=90)\n",
    "plt.title('Percentage of Songs by Number of Artists')\n",
    "plt.axis('equal')  \n",
    "plt.show()"
   ]
  },
  {
   "cell_type": "markdown",
   "metadata": {},
   "source": [
    "Analysis of the pie chart reveals that the majority of songs (91.4%) in the data set are not explicit, indicating that explicit content is relatively uncommon. However, approximately 8.6% of the songs are explicit, indicating a significant demand for this type of content among certain listeners."
   ]
  },
  {
   "cell_type": "code",
   "execution_count": 39,
   "metadata": {},
   "outputs": [
    {
     "data": {
      "image/png": "[encoded data removed]",
      "text/plain": [
       "<Figure size 1000x800 with 1 Axes>"
      ]
     },
     "metadata": {},
     "output_type": "display_data"
    }
   ],
   "source": [
    "explicit_counts = df['explicit'].value_counts()\n",
    "plt.figure(figsize=(10, 8))  \n",
    "plt.pie(explicit_counts, labels=explicit_counts.index, autopct='%1.1f%%', startangle=140, colors=plt.cm.tab20.colors)\n",
    "plt.title('Distribution of Explicit Songs')\n",
    "plt.axis('equal')  \n",
    "plt.show()"
   ]
  },
  {
   "cell_type": "markdown",
   "metadata": {},
   "source": [
    "Analysis of the graph indicates that the distribution of music genres on Spotify is diverse, with pop and rock standing out as the most popular, followed by a variety of other genres. Factors such as music trends, audience demographics, marketing and promotion strategies, and song availability can influence the popularity of music genres"
   ]
  },
  {
   "cell_type": "code",
   "execution_count": 40,
   "metadata": {},
   "outputs": [
    {
     "data": {
      "image/png": "[encoded data removed]",
      "text/plain": [
       "<Figure size 1000x800 with 1 Axes>"
      ]
     },
     "metadata": {},
     "output_type": "display_data"
    }
   ],
   "source": [
    "genre_counts = df['genre_category'].value_counts()\n",
    "plt.figure(figsize=(10, 8))  \n",
    "plt.pie(genre_counts, labels=genre_counts.index, autopct='%1.1f%%', startangle=140, colors=plt.cm.tab20.colors)\n",
    "plt.title('Distribution of Music Genres')\n",
    "plt.axis('equal')  \n",
    "plt.show()\n"
   ]
  },
  {
   "cell_type": "markdown",
   "metadata": {},
   "source": [
    "Analysis of the graph reveals that the popularity of songs on Spotify is not uniform, with the majority of the songs placed in the medium popularity range. Only a minority of songs reach a high level of success or have a low number of plays. Several factors, including music genre, artist, novelty, playlists and marketing campaigns, can influence a song's popularity."
   ]
  },
  {
   "cell_type": "code",
   "execution_count": 41,
   "metadata": {},
   "outputs": [
    {
     "data": {
      "image/png": "[encoded data removed]",
      "text/plain": [
       "<Figure size 800x600 with 1 Axes>"
      ]
     },
     "metadata": {},
     "output_type": "display_data"
    }
   ],
   "source": [
    "plt.figure(figsize=(8, 6))  \n",
    "df['popularity_category'].value_counts().sort_index().plot(kind='bar', color='skyblue', edgecolor='black')\n",
    "plt.title('Distribution of Popularity Categories')\n",
    "plt.xlabel('Popularity Category')\n",
    "plt.ylabel('Frequency')\n",
    "plt.show()\n"
   ]
  },
  {
   "cell_type": "code",
   "execution_count": 42,
   "metadata": {},
   "outputs": [],
   "source": [
    "df.to_csv('spotifynew.csv', index=False)"
   ]
  }
 ],
 "metadata": {
  "kernelspec": {
   "display_name": "venv",
   "language": "python",
   "name": "python3"
  },
  "language_info": {
   "codemirror_mode": {
    "name": "ipython",
    "version": 3
   },
   "file_extension": ".py",
   "mimetype": "text/x-python",
   "name": "python",
   "nbconvert_exporter": "python",
   "pygments_lexer": "ipython3",
   "version": "3.12.2"
  }
 },
 "nbformat": 4,
 "nbformat_minor": 2
}
